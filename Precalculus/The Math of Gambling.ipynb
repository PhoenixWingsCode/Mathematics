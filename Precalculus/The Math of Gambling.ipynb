{
 "cells": [
  {
   "cell_type": "markdown",
   "id": "2aa252e1",
   "metadata": {},
   "source": [
    "# Section 1 : Gambling simulator"
   ]
  },
  {
   "cell_type": "code",
   "execution_count": 7,
   "id": "0c37de58",
   "metadata": {},
   "outputs": [
    {
     "name": "stdout",
     "output_type": "stream",
     "text": [
      "Num =  8\n",
      "Guess =  2\n",
      "You lose\n"
     ]
    }
   ],
   "source": [
    "import random\n",
    "\n",
    "bank = 10\n",
    "num = random.randrange(1, 11)\n",
    "guess = int(input(\"Guess a number between 1 and 11 : \"))\n",
    "print(\"Num = \", num)\n",
    "print(\"Guess = \", guess)\n",
    "if guess == num:\n",
    "    print(\"You win\")\n",
    "    bank =  bank + 1\n",
    "else:\n",
    "    print(\"You lose\")\n",
    "    bank = bank - 1"
   ]
  },
  {
   "cell_type": "code",
   "execution_count": 9,
   "id": "0d1839f7",
   "metadata": {},
   "outputs": [
    {
     "name": "stdout",
     "output_type": "stream",
     "text": [
      "Winning Number =  729\n",
      "Your number =  55\n",
      "You lose\n",
      "Your bank account :  399\n"
     ]
    }
   ],
   "source": [
    "import random\n",
    "\n",
    "bank = 400\n",
    "guess = int(input(\"Guess a number between 0 and 999 : \"))\n",
    "\n",
    "for a in range(1):\n",
    "    num = random.randrange(0, 1000)\n",
    "    print(\"Winning Number = \", num)\n",
    "    print(\"Your number = \", guess)\n",
    "    if guess == num:\n",
    "        print(\"You win\")\n",
    "        bank =  bank + 100\n",
    "    else:\n",
    "        print(\"You lose\")\n",
    "        bank = bank - 1\n",
    "\n",
    "print(\"Your bank account : \", bank)"
   ]
  }
 ],
 "metadata": {
  "kernelspec": {
   "display_name": "Python 3",
   "language": "python",
   "name": "python3"
  },
  "language_info": {
   "codemirror_mode": {
    "name": "ipython",
    "version": 3
   },
   "file_extension": ".py",
   "mimetype": "text/x-python",
   "name": "python",
   "nbconvert_exporter": "python",
   "pygments_lexer": "ipython3",
   "version": "3.12.10"
  }
 },
 "nbformat": 4,
 "nbformat_minor": 5
}
