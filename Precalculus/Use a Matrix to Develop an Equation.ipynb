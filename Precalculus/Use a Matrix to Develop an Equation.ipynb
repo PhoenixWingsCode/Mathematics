{
 "cells": [
  {
   "cell_type": "markdown",
   "id": "867f4f94",
   "metadata": {},
   "source": [
    "# Section 1 : A quadratic from three points\n",
    "\n",
    "points : (x1, y1), (x2, y2), (x3, y3)\n",
    "\n",
    "Standard equation : Ax**2 + B*x +C = y\n",
    "first point : A(x1)**2 + B(x1) + C = y1\n",
    "second point : A(x2)**2 + B(x2) + C = y2\n",
    "third point : A(x3)**2 + B(x3) + C = y3\n",
    "\n",
    "Matrix:\n",
    "[[(x1)**2 x1 1 y1]\n",
    " [(x2)**2 x2 1 y2]\n",
    " [(x3)**2 x3 1 y3]]"
   ]
  },
  {
   "cell_type": "code",
   "execution_count": 9,
   "id": "579c2846",
   "metadata": {},
   "outputs": [
    {
     "name": "stdout",
     "output_type": "stream",
     "text": [
      "\n",
      " answers : \n",
      "a =  -1\n",
      "b =  -5\n",
      "c =  -6\n",
      "y =  -1 x**2 +  -5 x +  -6\n",
      "\n",
      " Row echelon form of matrix M: \n",
      "(Matrix([\n",
      "[1, 0, 0, -1.0],\n",
      "[0, 1, 0, -5.0],\n",
      "[0, 0, 1, -6.0]]), (0, 1, 2))\n"
     ]
    }
   ],
   "source": [
    "import numpy as np\n",
    "from sympy import * \n",
    "\n",
    "x1 = -2\n",
    "y1 = 0\n",
    "x2 = -3\n",
    "y2 = 0\n",
    "x3 = -2.5\n",
    "y3 = .25\n",
    "\n",
    "# Create an array\n",
    "arr = np.array([[x1**2,x1,1,y1],[x2**2,x2,1,y2],[x3**2,x3,1,y3]])\n",
    "\n",
    "# Create a matrix from that array\n",
    "M = Matrix(arr)\n",
    "m_rref =M.rref() # Reduced Row Echelon Form\n",
    "\n",
    "# Solve using rref in the matrix\n",
    "print(\"\\n answers : \")\n",
    "a = round(m_rref[0][3])\n",
    "b = round(m_rref[0][7])\n",
    "c = round(m_rref[0][11])\n",
    "print(\"a = \", a)\n",
    "print(\"b = \", b)\n",
    "print(\"c = \", c)\n",
    "\n",
    "print(\"y = \", a, \"x**2 + \", b, \"x + \", c)\n",
    "print(\"\\n Row echelon form of matrix M: \\n{}\".format(m_rref))"
   ]
  }
 ],
 "metadata": {
  "kernelspec": {
   "display_name": "Python 3",
   "language": "python",
   "name": "python3"
  },
  "language_info": {
   "codemirror_mode": {
    "name": "ipython",
    "version": 3
   },
   "file_extension": ".py",
   "mimetype": "text/x-python",
   "name": "python",
   "nbconvert_exporter": "python",
   "pygments_lexer": "ipython3",
   "version": "3.12.10"
  }
 },
 "nbformat": 4,
 "nbformat_minor": 5
}
