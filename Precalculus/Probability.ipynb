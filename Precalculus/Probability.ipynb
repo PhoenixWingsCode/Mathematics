{
 "cells": [
  {
   "cell_type": "markdown",
   "id": "afa97250",
   "metadata": {},
   "source": [
    "# Section 1 : Permutations\n",
    "\n",
    "When order does matter\n",
    "\n",
    "nPr = n!/(n-r)!"
   ]
  },
  {
   "cell_type": "code",
   "execution_count": 7,
   "id": "8e6662bb",
   "metadata": {},
   "outputs": [
    {
     "name": "stdout",
     "output_type": "stream",
     "text": [
      "N = How much things in the overall pool? 10\n",
      "R = Taking how many at a time? 3\n",
      "720  possible permutations\n"
     ]
    }
   ],
   "source": [
    "import math\n",
    "\n",
    "n = int(input(\"N = How much things in the overall pool?\"))\n",
    "print(\"N = How much things in the overall pool?\", n)\n",
    "\n",
    "r = int(input(\"R = Taking how many at a time?\"))\n",
    "print(\"R = Taking how many at a time?\", r)\n",
    "\n",
    "p = math.factorial(n)\n",
    "d = math.factorial(n-r)\n",
    "answer = int(p/d)\n",
    "\n",
    "print(answer, \" possible permutations\")"
   ]
  },
  {
   "cell_type": "markdown",
   "id": "4e437cf2",
   "metadata": {},
   "source": [
    "# Section 2 : Combinations\n",
    "\n",
    "When order does not matter\n",
    "nCr = n!/r!(n-r)!"
   ]
  },
  {
   "cell_type": "code",
   "execution_count": 11,
   "id": "dc1c23ec",
   "metadata": {},
   "outputs": [
    {
     "name": "stdout",
     "output_type": "stream",
     "text": [
      "N = How many things in the overall pool? 20\n",
      "R = Taking how many at a time? 3\n",
      "1140  possible combinations\n"
     ]
    }
   ],
   "source": [
    "import math\n",
    "\n",
    "n = int(input(\"N = How many things in the overall pool?\"))\n",
    "print(\"N = How many things in the overall pool?\", n)\n",
    "r = int(input(\"R = Taking how many at a time?\"))\n",
    "print(\"R = Taking how many at a time?\", r)\n",
    "\n",
    "p = math.factorial(n)\n",
    "d = math.factorial(r)*math.factorial(n-r)\n",
    "answer = int(p/d)\n",
    "\n",
    "print(answer, \" possible combinations\")"
   ]
  }
 ],
 "metadata": {
  "kernelspec": {
   "display_name": "Python 3",
   "language": "python",
   "name": "python3"
  },
  "language_info": {
   "codemirror_mode": {
    "name": "ipython",
    "version": 3
   },
   "file_extension": ".py",
   "mimetype": "text/x-python",
   "name": "python",
   "nbconvert_exporter": "python",
   "pygments_lexer": "ipython3",
   "version": "3.12.10"
  }
 },
 "nbformat": 4,
 "nbformat_minor": 5
}
