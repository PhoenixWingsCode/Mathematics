{
 "cells": [
  {
   "cell_type": "markdown",
   "id": "eb1f75ec",
   "metadata": {},
   "source": [
    "# Section 1 : \n",
    "\"Tri\" -> three\n",
    "\"gono\" -> shape\n",
    "\"metry\" -> metrics\n",
    "\n",
    "The Triangle"
   ]
  },
  {
   "cell_type": "code",
   "execution_count": 3,
   "id": "b3a6e810",
   "metadata": {},
   "outputs": [
    {
     "data": {
      "image/png": "[encoded data removed]",
      "text/plain": [
       "<Figure size 640x480 with 1 Axes>"
      ]
     },
     "metadata": {},
     "output_type": "display_data"
    }
   ],
   "source": [
    "import matplotlib.pyplot as plt\n",
    "from IPython import display\n",
    "import math\n",
    "import time\n",
    "\n",
    "fig, ax = plt.subplots()\n",
    "plt.axis([-2, 12, -2, 8])\n",
    "ax.text(0, 1, 'A')\n",
    "plt.plot([1], [1], 'ro')\n",
    "plt.plot([1,7], [1,1], 'b') #[x,y]\n",
    "plt.plot([7,7], [1,4], 'b') #[x,y]\n",
    "plt.plot([1,7], [1,4], 'b') #[x,y]\n",
    "display.display(plt.gcf())\n",
    "#time.sleep(1)\n",
    "display.clear_output(wait=True)\n",
    "\n",
    "ax.text(2, 0, 'adjacent side')\n",
    "display.display(plt.gcf())\n",
    "#time.sleep(1)\n",
    "display.clear_output(wait=True)\n",
    "\n",
    "ax.text(7.5, 2, 'opposite side')\n",
    "display.display(plt.gcf())\n",
    "#time.sleep(1)\n",
    "display.clear_output(wait=True)\n",
    "\n",
    "ax.text(1, 3, 'hypotenuse')\n",
    "display.display(plt.gcf())\n",
    "#time.sleep(1)\n",
    "display.clear_output(wait=True)\n"
   ]
  },
  {
   "cell_type": "markdown",
   "id": "aad10482",
   "metadata": {},
   "source": [
    "# Section 2 : \n",
    "\n",
    "Python trig functions use radians, so you have to use the math.radians() function inside the sine, cosine, or tangent functions"
   ]
  },
  {
   "cell_type": "code",
   "execution_count": 4,
   "id": "f13e30bc",
   "metadata": {},
   "outputs": [
    {
     "name": "stdout",
     "output_type": "stream",
     "text": [
      "The sine of  30  is  0.5\n",
      "The cosine of  30  is  0.866\n",
      "The tangent of  30  is  0.5774\n"
     ]
    }
   ],
   "source": [
    "import math\n",
    "\n",
    "#angle measure in degrees\n",
    "angle = 30\n",
    "\n",
    "#Radian is 57.2957795 in degrees\n",
    "sine = math.sin(math.radians(angle))\n",
    "cosine = math.cos(math.radians(angle))\n",
    "tangent = math.tan(math.radians(angle))\n",
    "\n",
    "#rounding to four decimal places is enough\n",
    "print(\"The sine of \", angle, \" is \", round(sine, 4))\n",
    "print(\"The cosine of \", angle, \" is \", round(cosine, 4))\n",
    "print(\"The tangent of \", angle, \" is \", round(tangent, 4))"
   ]
  },
  {
   "cell_type": "markdown",
   "id": "33136397",
   "metadata": {},
   "source": [
    "# Section 3 : Complementary angles"
   ]
  },
  {
   "cell_type": "code",
   "execution_count": 1,
   "id": "85cae9f3",
   "metadata": {},
   "outputs": [
    {
     "name": "stdout",
     "output_type": "stream",
     "text": [
      "The sine of  30  is  0.5\n",
      "The cosine of  30  is  0.866\n",
      "The tangent of  30  is  0.5774\n",
      "The sine of  60  is  0.866\n",
      "The cosine of  60  is  0.5\n",
      "The tangent of  60  is  1.7321\n"
     ]
    }
   ],
   "source": [
    "from io import TextIOBase\n",
    "import math\n",
    "\n",
    "# angle measure in degrees\n",
    "a = 30\n",
    "b = 90 - a\n",
    "\n",
    "sa = math.sin(math.radians(a))\n",
    "ca = math.cos(math.radians(a))\n",
    "ta = math.tan(math.radians(a))\n",
    "\n",
    "#rounding to four decimal places is enough\n",
    "print(\"The sine of \", a, \" is \", round(sa, 4))\n",
    "print(\"The cosine of \", a, \" is \", round(ca, 4))\n",
    "print(\"The tangent of \", a, \" is \", round(ta, 4))\n",
    "\n",
    "sb = math.sin(math.radians(b))\n",
    "cb = math.cos(math.radians(b))\n",
    "tb = math.tan(math.radians(b))\n",
    "\n",
    "#rounding to four decimal places is enough\n",
    "print(\"The sine of \", b, \" is \", round(sb, 4))\n",
    "print(\"The cosine of \", b, \" is \", round(cb, 4))\n",
    "print(\"The tangent of \", b, \" is \", round(tb, 4))"
   ]
  },
  {
   "cell_type": "markdown",
   "id": "feb23255",
   "metadata": {},
   "source": [
    "# Section 4 : See the values of the sine function "
   ]
  },
  {
   "cell_type": "code",
   "execution_count": 2,
   "id": "bd97625f",
   "metadata": {},
   "outputs": [
    {
     "name": "stdout",
     "output_type": "stream",
     "text": [
      "Sine of  0  =  0.0\n",
      "Sine of  1  =  0.01745240643728351\n",
      "Sine of  2  =  0.03489949670250097\n",
      "Sine of  3  =  0.052335956242943835\n",
      "Sine of  4  =  0.0697564737441253\n",
      "Sine of  5  =  0.08715574274765817\n",
      "Sine of  6  =  0.10452846326765347\n",
      "Sine of  7  =  0.12186934340514748\n",
      "Sine of  8  =  0.13917310096006544\n",
      "Sine of  9  =  0.15643446504023087\n",
      "Sine of  10  =  0.17364817766693033\n",
      "Sine of  11  =  0.1908089953765448\n",
      "Sine of  12  =  0.20791169081775934\n",
      "Sine of  13  =  0.224951054343865\n",
      "Sine of  14  =  0.24192189559966773\n",
      "Sine of  15  =  0.25881904510252074\n",
      "Sine of  16  =  0.27563735581699916\n",
      "Sine of  17  =  0.29237170472273677\n",
      "Sine of  18  =  0.3090169943749474\n",
      "Sine of  19  =  0.3255681544571567\n",
      "Sine of  20  =  0.3420201433256687\n",
      "Sine of  21  =  0.35836794954530027\n",
      "Sine of  22  =  0.374606593415912\n",
      "Sine of  23  =  0.39073112848927377\n",
      "Sine of  24  =  0.4067366430758002\n",
      "Sine of  25  =  0.42261826174069944\n",
      "Sine of  26  =  0.4383711467890774\n",
      "Sine of  27  =  0.45399049973954675\n",
      "Sine of  28  =  0.4694715627858908\n",
      "Sine of  29  =  0.48480962024633706\n",
      "Sine of  30  =  0.49999999999999994\n",
      "Sine of  31  =  0.5150380749100542\n",
      "Sine of  32  =  0.5299192642332049\n",
      "Sine of  33  =  0.5446390350150271\n",
      "Sine of  34  =  0.5591929034707469\n",
      "Sine of  35  =  0.573576436351046\n",
      "Sine of  36  =  0.5877852522924731\n",
      "Sine of  37  =  0.6018150231520483\n",
      "Sine of  38  =  0.6156614753256583\n",
      "Sine of  39  =  0.6293203910498374\n",
      "Sine of  40  =  0.6427876096865393\n",
      "Sine of  41  =  0.6560590289905073\n",
      "Sine of  42  =  0.6691306063588582\n",
      "Sine of  43  =  0.6819983600624985\n",
      "Sine of  44  =  0.6946583704589973\n",
      "Sine of  45  =  0.7071067811865476\n",
      "Sine of  46  =  0.7193398003386512\n",
      "Sine of  47  =  0.7313537016191705\n",
      "Sine of  48  =  0.7431448254773942\n",
      "Sine of  49  =  0.754709580222772\n",
      "Sine of  50  =  0.766044443118978\n",
      "Sine of  51  =  0.7771459614569709\n",
      "Sine of  52  =  0.788010753606722\n",
      "Sine of  53  =  0.7986355100472928\n",
      "Sine of  54  =  0.8090169943749475\n",
      "Sine of  55  =  0.8191520442889918\n",
      "Sine of  56  =  0.8290375725550417\n",
      "Sine of  57  =  0.838670567945424\n",
      "Sine of  58  =  0.8480480961564261\n",
      "Sine of  59  =  0.8571673007021123\n",
      "Sine of  60  =  0.8660254037844386\n",
      "Sine of  61  =  0.8746197071393957\n",
      "Sine of  62  =  0.8829475928589269\n",
      "Sine of  63  =  0.8910065241883678\n",
      "Sine of  64  =  0.898794046299167\n",
      "Sine of  65  =  0.9063077870366499\n",
      "Sine of  66  =  0.9135454576426009\n",
      "Sine of  67  =  0.9205048534524404\n",
      "Sine of  68  =  0.9271838545667874\n",
      "Sine of  69  =  0.9335804264972017\n",
      "Sine of  70  =  0.9396926207859083\n",
      "Sine of  71  =  0.9455185755993167\n",
      "Sine of  72  =  0.9510565162951535\n",
      "Sine of  73  =  0.9563047559630354\n",
      "Sine of  74  =  0.9612616959383189\n",
      "Sine of  75  =  0.9659258262890683\n",
      "Sine of  76  =  0.9702957262759965\n",
      "Sine of  77  =  0.9743700647852352\n",
      "Sine of  78  =  0.9781476007338056\n",
      "Sine of  79  =  0.981627183447664\n",
      "Sine of  80  =  0.984807753012208\n",
      "Sine of  81  =  0.9876883405951378\n",
      "Sine of  82  =  0.9902680687415704\n",
      "Sine of  83  =  0.992546151641322\n",
      "Sine of  84  =  0.9945218953682733\n",
      "Sine of  85  =  0.9961946980917455\n",
      "Sine of  86  =  0.9975640502598242\n",
      "Sine of  87  =  0.9986295347545738\n",
      "Sine of  88  =  0.9993908270190958\n",
      "Sine of  89  =  0.9998476951563913\n",
      "Sine of  90  =  1.0\n",
      "Sine of  91  =  0.9998476951563913\n",
      "Sine of  92  =  0.9993908270190958\n",
      "Sine of  93  =  0.9986295347545738\n",
      "Sine of  94  =  0.9975640502598242\n",
      "Sine of  95  =  0.9961946980917455\n",
      "Sine of  96  =  0.9945218953682733\n",
      "Sine of  97  =  0.9925461516413221\n",
      "Sine of  98  =  0.9902680687415704\n",
      "Sine of  99  =  0.9876883405951378\n",
      "Sine of  100  =  0.984807753012208\n",
      "Sine of  101  =  0.981627183447664\n",
      "Sine of  102  =  0.9781476007338057\n",
      "Sine of  103  =  0.9743700647852352\n",
      "Sine of  104  =  0.9702957262759965\n",
      "Sine of  105  =  0.9659258262890683\n",
      "Sine of  106  =  0.9612616959383189\n",
      "Sine of  107  =  0.9563047559630355\n",
      "Sine of  108  =  0.9510565162951536\n",
      "Sine of  109  =  0.9455185755993168\n",
      "Sine of  110  =  0.9396926207859084\n",
      "Sine of  111  =  0.9335804264972017\n",
      "Sine of  112  =  0.9271838545667874\n",
      "Sine of  113  =  0.9205048534524403\n",
      "Sine of  114  =  0.9135454576426009\n",
      "Sine of  115  =  0.90630778703665\n",
      "Sine of  116  =  0.8987940462991669\n",
      "Sine of  117  =  0.8910065241883679\n",
      "Sine of  118  =  0.8829475928589269\n",
      "Sine of  119  =  0.8746197071393959\n",
      "Sine of  120  =  0.8660254037844387\n",
      "Sine of  121  =  0.8571673007021123\n",
      "Sine of  122  =  0.8480480961564261\n",
      "Sine of  123  =  0.838670567945424\n",
      "Sine of  124  =  0.8290375725550417\n",
      "Sine of  125  =  0.8191520442889917\n",
      "Sine of  126  =  0.8090169943749475\n",
      "Sine of  127  =  0.7986355100472927\n",
      "Sine of  128  =  0.788010753606722\n",
      "Sine of  129  =  0.777145961456971\n",
      "Sine of  130  =  0.766044443118978\n",
      "Sine of  131  =  0.7547095802227721\n",
      "Sine of  132  =  0.7431448254773942\n",
      "Sine of  133  =  0.7313537016191706\n",
      "Sine of  134  =  0.7193398003386511\n",
      "Sine of  135  =  0.7071067811865476\n",
      "Sine of  136  =  0.6946583704589971\n",
      "Sine of  137  =  0.6819983600624985\n",
      "Sine of  138  =  0.6691306063588583\n",
      "Sine of  139  =  0.6560590289905073\n",
      "Sine of  140  =  0.6427876096865395\n",
      "Sine of  141  =  0.6293203910498374\n",
      "Sine of  142  =  0.6156614753256584\n",
      "Sine of  143  =  0.6018150231520482\n",
      "Sine of  144  =  0.5877852522924732\n",
      "Sine of  145  =  0.5735764363510459\n",
      "Sine of  146  =  0.5591929034707469\n",
      "Sine of  147  =  0.5446390350150273\n",
      "Sine of  148  =  0.5299192642332049\n",
      "Sine of  149  =  0.5150380749100544\n",
      "Sine of  150  =  0.49999999999999994\n",
      "Sine of  151  =  0.48480962024633717\n",
      "Sine of  152  =  0.4694715627858907\n",
      "Sine of  153  =  0.45399049973954686\n",
      "Sine of  154  =  0.4383711467890773\n",
      "Sine of  155  =  0.4226182617406995\n",
      "Sine of  156  =  0.40673664307580043\n",
      "Sine of  157  =  0.39073112848927377\n",
      "Sine of  158  =  0.37460659341591224\n",
      "Sine of  159  =  0.3583679495453002\n",
      "Sine of  160  =  0.3420201433256689\n",
      "Sine of  161  =  0.3255681544571566\n",
      "Sine of  162  =  0.3090169943749475\n",
      "Sine of  163  =  0.2923717047227366\n",
      "Sine of  164  =  0.2756373558169992\n",
      "Sine of  165  =  0.258819045102521\n",
      "Sine of  166  =  0.24192189559966773\n",
      "Sine of  167  =  0.2249510543438652\n",
      "Sine of  168  =  0.20791169081775931\n",
      "Sine of  169  =  0.19080899537654497\n",
      "Sine of  170  =  0.17364817766693028\n",
      "Sine of  171  =  0.15643446504023098\n",
      "Sine of  172  =  0.13917310096006533\n",
      "Sine of  173  =  0.12186934340514755\n",
      "Sine of  174  =  0.10452846326765373\n",
      "Sine of  175  =  0.0871557427476582\n",
      "Sine of  176  =  0.06975647374412552\n",
      "Sine of  177  =  0.05233595624294381\n",
      "Sine of  178  =  0.03489949670250114\n",
      "Sine of  179  =  0.01745240643728344\n"
     ]
    }
   ],
   "source": [
    "import math\n",
    "\n",
    "for a in range(180):\n",
    "    print(\"Sine of \", a, \" = \", math.sin(math.radians(a)))"
   ]
  },
  {
   "cell_type": "markdown",
   "id": "4dd5b37b",
   "metadata": {},
   "source": [
    "# Section 5 : Inverse function\n",
    "\n",
    "The inverse function (or arcsin) gives you the angle measure if you know the ratio. The math.asin() function will return radians so you can use the math.degrees() function."
   ]
  },
  {
   "cell_type": "code",
   "execution_count": 3,
   "id": "a2e0c4c5",
   "metadata": {},
   "outputs": [
    {
     "name": "stdout",
     "output_type": "stream",
     "text": [
      "53.13010235415599\n"
     ]
    }
   ],
   "source": [
    "import math\n",
    "\n",
    "print(math.degrees(math.asin(4/5)))"
   ]
  },
  {
   "cell_type": "markdown",
   "id": "84682591",
   "metadata": {},
   "source": [
    "# Section 6 : Using sine to find side measures"
   ]
  },
  {
   "cell_type": "code",
   "execution_count": 1,
   "id": "00905d17",
   "metadata": {},
   "outputs": [
    {
     "name": "stdout",
     "output_type": "stream",
     "text": [
      "The  hypotenuse side  is  4.769453171343789\n"
     ]
    }
   ],
   "source": [
    "import math\n",
    "\n",
    "# make the unknown value zero\n",
    "angle = 57\n",
    "opposite = 4\n",
    "hypotenuse = 0\n",
    "\n",
    "if opposite==0:\n",
    "    unknown = \"opposite side\"\n",
    "    answer = hypotenuse * math.sin(math.radians(angle))\n",
    "\n",
    "if hypotenuse==0:\n",
    "    unknown = \"hypotenuse side\"\n",
    "    answer = opposite/math.sin(math.radians(angle))\n",
    "\n",
    "print(\"The \", unknown, \" is \", answer)"
   ]
  },
  {
   "cell_type": "code",
   "execution_count": 2,
   "id": "56798a3a",
   "metadata": {},
   "outputs": [
    {
     "name": "stdout",
     "output_type": "stream",
     "text": [
      "The  opposite side  is  4.193352839727121\n"
     ]
    }
   ],
   "source": [
    "import math\n",
    "\n",
    "# make the unknown value zero\n",
    "angle = 57\n",
    "opposite = 0\n",
    "hypotenuse = 5\n",
    "\n",
    "if opposite==0:\n",
    "    unknown = \"opposite side\"\n",
    "    answer = hypotenuse * math.sin(math.radians(angle))\n",
    "\n",
    "if hypotenuse==0:\n",
    "    unknown = \"hypotenuse side\"\n",
    "    answer = opposite/math.sin(math.radians(angle))\n",
    "\n",
    "print(\"The \", unknown, \" is \", answer)"
   ]
  },
  {
   "cell_type": "markdown",
   "id": "766080fa",
   "metadata": {},
   "source": [
    "# Section 7 : Using cosine to find side measures"
   ]
  },
  {
   "cell_type": "code",
   "execution_count": 5,
   "id": "ca8d974c",
   "metadata": {},
   "outputs": [
    {
     "name": "stdout",
     "output_type": "stream",
     "text": [
      "The  hypotenuse side  is  7.344313835106653\n"
     ]
    }
   ],
   "source": [
    "import math\n",
    "\n",
    "# make the unknown value zero\n",
    "angle = 57\n",
    "adajcent = 4\n",
    "hypotenuse = 0\n",
    "\n",
    "if adajcent==0:\n",
    "    unknown = \"adajcent side\"\n",
    "    answer = hypotenuse * math.cos(math.radians(angle))\n",
    "\n",
    "if hypotenuse==0:\n",
    "    unknown = \"hypotenuse side\"\n",
    "    answer = adajcent/math.cos(math.radians(angle))\n",
    "\n",
    "print(\"The \", unknown, \" is \", answer)"
   ]
  },
  {
   "cell_type": "code",
   "execution_count": 6,
   "id": "292fbc20",
   "metadata": {},
   "outputs": [
    {
     "name": "stdout",
     "output_type": "stream",
     "text": [
      "The  adajcent side  is  2.7231951750751353\n"
     ]
    }
   ],
   "source": [
    "import math\n",
    "\n",
    "# make the unknown value zero\n",
    "angle = 57\n",
    "adajcent = 0\n",
    "hypotenuse = 5\n",
    "\n",
    "if adajcent==0:\n",
    "    unknown = \"adajcent side\"\n",
    "    answer = hypotenuse * math.cos(math.radians(angle))\n",
    "\n",
    "if hypotenuse==0:\n",
    "    unknown = \"hypotenuse side\"\n",
    "    answer = adajcent/math.cos(math.radians(angle))\n",
    "\n",
    "print(\"The \", unknown, \" is \", answer)"
   ]
  },
  {
   "cell_type": "markdown",
   "id": "61011665",
   "metadata": {},
   "source": [
    "# Section 8 : Use tangent to find side measure"
   ]
  },
  {
   "cell_type": "code",
   "execution_count": 7,
   "id": "694f3fa3",
   "metadata": {},
   "outputs": [
    {
     "name": "stdout",
     "output_type": "stream",
     "text": [
      "The  adajcent side  is  2.7231951750751353\n"
     ]
    }
   ],
   "source": [
    "import math\n",
    "\n",
    "# make the unknown value zero\n",
    "angle = 57\n",
    "opposite = 4\n",
    "adajcent = 0\n",
    "\n",
    "if opposite==0:\n",
    "    unknown = \"opposite side\"\n",
    "    answer = adajcent * math.cos(math.radians(angle))\n",
    "\n",
    "if hypotenuse==0:\n",
    "    unknown = \"adajcent side\"\n",
    "    answer = opposite/math.cos(math.radians(angle))\n",
    "\n",
    "print(\"The \", unknown, \" is \", answer)"
   ]
  },
  {
   "cell_type": "markdown",
   "id": "eb55c318",
   "metadata": {},
   "source": [
    "# Section 9 : Use inverse trig to find angle measures"
   ]
  },
  {
   "cell_type": "code",
   "execution_count": 10,
   "id": "185e4743",
   "metadata": {},
   "outputs": [
    {
     "name": "stdout",
     "output_type": "stream",
     "text": [
      "Angle A =  36.86989764584402\n",
      "Angle B =  53.13010235415598\n"
     ]
    }
   ],
   "source": [
    "import math\n",
    "\n",
    "# sides - make the unknown value zero\n",
    "a = 3\n",
    "b = 4\n",
    "c = 0\n",
    "\n",
    "if a==0:\n",
    "    angleA = math.degrees(math.acos(b/c))\n",
    "    angleB = 90-angleA\n",
    "    print(\"Angle A = \", angleA)\n",
    "    print(\"Angle B = \", angleB)\n",
    "\n",
    "if b==0:\n",
    "    angleA = math.degrees(math.asin(a/c))\n",
    "    angleB = 90-angleA\n",
    "    print(\"Angle A = \", angleA)\n",
    "    print(\"Angle B = \", angleB)\n",
    "\n",
    "if c==0:\n",
    "    angleA = math.degrees(math.atan(a/b))\n",
    "    angleB = 90-angleA\n",
    "    print(\"Angle A = \", angleA)\n",
    "    print(\"Angle B = \", angleB)"
   ]
  },
  {
   "cell_type": "markdown",
   "id": "6e7c666c",
   "metadata": {},
   "source": [
    "# Section 10 : Radians and Degrees \n",
    "\n",
    "2*(Pie) radians/360 degress = radians/degrees"
   ]
  },
  {
   "cell_type": "code",
   "execution_count": null,
   "id": "ac37a5c2",
   "metadata": {},
   "outputs": [
    {
     "name": "stdout",
     "output_type": "stream",
     "text": [
      "0.5  pi radians =  90.0  degrees \n"
     ]
    }
   ],
   "source": [
    "#enter the radians, omitting pi\n",
    "r = 1/2 # radians in fractions\n",
    "d = r * 180 # decimals for degrees\n",
    "print(r, \" pi radians = \", d, \" degrees \")"
   ]
  },
  {
   "cell_type": "code",
   "execution_count": 12,
   "id": "73ea5341",
   "metadata": {},
   "outputs": [
    {
     "name": "stdout",
     "output_type": "stream",
     "text": [
      "1.25  pi radians =  225.0  degrees \n"
     ]
    }
   ],
   "source": [
    "#enter the radians, omitting pi\n",
    "r = 5/4 # radians in fractions\n",
    "d = r * 180 # decimals for degrees\n",
    "print(r, \" pi radians = \", d, \" degrees \")"
   ]
  },
  {
   "cell_type": "markdown",
   "id": "de0c0dcd",
   "metadata": {},
   "source": [
    "# Section 10 : Convert degrees to radians "
   ]
  },
  {
   "cell_type": "code",
   "execution_count": 13,
   "id": "c01c01cb",
   "metadata": {},
   "outputs": [
    {
     "name": "stdout",
     "output_type": "stream",
     "text": [
      "120  degrees =  2/3  pi radians\n"
     ]
    }
   ],
   "source": [
    "import math\n",
    "from fractions import Fraction\n",
    "\n",
    "d = 120\n",
    "r = math.radians(d)\n",
    "r2 = str(r/math.pi)\n",
    "r3 = Fraction(r2).limit_denominator()\n",
    "print(d, \" degrees = \", r3, \" pi radians\")"
   ]
  }
 ],
 "metadata": {
  "kernelspec": {
   "display_name": "Python 3",
   "language": "python",
   "name": "python3"
  },
  "language_info": {
   "codemirror_mode": {
    "name": "ipython",
    "version": 3
   },
   "file_extension": ".py",
   "mimetype": "text/x-python",
   "name": "python",
   "nbconvert_exporter": "python",
   "pygments_lexer": "ipython3",
   "version": "3.12.10"
  }
 },
 "nbformat": 4,
 "nbformat_minor": 5
}
