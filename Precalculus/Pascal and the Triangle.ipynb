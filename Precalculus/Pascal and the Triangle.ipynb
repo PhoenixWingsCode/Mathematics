{
 "cells": [
  {
   "cell_type": "markdown",
   "id": "63d9bda6",
   "metadata": {},
   "source": [
    "# Section 1 : Pascal's triangle with combinations"
   ]
  },
  {
   "cell_type": "code",
   "execution_count": 1,
   "id": "5f70e9ab",
   "metadata": {},
   "outputs": [
    {
     "name": "stdout",
     "output_type": "stream",
     "text": [
      "               [1]\n",
      "             [1, 1]\n",
      "           [1, 2, 1]\n",
      "         [1, 3, 3, 1]\n",
      "       [1, 4, 6, 4, 1]\n",
      "     [1, 5, 10, 10, 5, 1]\n",
      "   [1, 6, 15, 20, 15, 6, 1]\n"
     ]
    }
   ],
   "source": [
    "import math\n",
    "\n",
    "n = 7 # number of rows\n",
    "row = [] # elements in a row\n",
    "spaces = []\n",
    "space_string = \"\"\n",
    "\n",
    "for b in range(n):\n",
    "    space_string += \"  \"\n",
    "    spaces.append(space_string)\n",
    "\n",
    "for a in range(n):\n",
    "    for b in range(n):\n",
    "        if b > a : continue\n",
    "        p = int(math.factorial(a)/(math.factorial(b)*math.factorial(a-b)))\n",
    "        row.append(p)\n",
    "\n",
    "    print(spaces[n-a-1], row)\n",
    "    row.clear()"
   ]
  }
 ],
 "metadata": {
  "kernelspec": {
   "display_name": "Python 3",
   "language": "python",
   "name": "python3"
  },
  "language_info": {
   "codemirror_mode": {
    "name": "ipython",
    "version": 3
   },
   "file_extension": ".py",
   "mimetype": "text/x-python",
   "name": "python",
   "nbconvert_exporter": "python",
   "pygments_lexer": "ipython3",
   "version": "3.12.10"
  }
 },
 "nbformat": 4,
 "nbformat_minor": 5
}
