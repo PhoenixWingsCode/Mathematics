{
 "cells": [
  {
   "cell_type": "markdown",
   "id": "c1e09e53",
   "metadata": {},
   "source": [
    "# Section 1 : Law of Sines\n",
    "\n",
    "Each side is proportional to the sine of the angle across from it:\n",
    "a/sin(A) = b/sin(B) = c/sin(C) "
   ]
  },
  {
   "cell_type": "code",
   "execution_count": 3,
   "id": "36359839",
   "metadata": {},
   "outputs": [
    {
     "name": "stdout",
     "output_type": "stream",
     "text": [
      "Side b =  5.0\n"
     ]
    }
   ],
   "source": [
    "# Unknown side - simple version\n",
    "\n",
    "import math\n",
    "\n",
    "# known values\n",
    "angleA = 60\n",
    "side_a = 5 \n",
    "angleB = 60\n",
    "\n",
    "# solve\n",
    "side_b = math.sin(math.radians(angleB))*side_a/math.sin(math.radians(angleA))\n",
    "print(\"Side b = \", side_b)"
   ]
  },
  {
   "cell_type": "markdown",
   "id": "0f999bd6",
   "metadata": {},
   "source": [
    "# Section 2 : Unknown angle - simple version"
   ]
  },
  {
   "cell_type": "code",
   "execution_count": 6,
   "id": "2d8f7b20",
   "metadata": {},
   "outputs": [
    {
     "name": "stdout",
     "output_type": "stream",
     "text": [
      "angle =  43.85377861202206\n"
     ]
    }
   ],
   "source": [
    "import math\n",
    "\n",
    "# known values\n",
    "angleA = 60\n",
    "side_a = 5\n",
    "side_b = 4\n",
    "\n",
    "b = side_b*math.sin(math.radians(angleA))/side_a\n",
    "angleB = math.degrees(math.asin(b))\n",
    "print(\"angle = \", angleB)"
   ]
  },
  {
   "cell_type": "markdown",
   "id": "00886c3e",
   "metadata": {},
   "source": [
    "# Section 3 : Either side or angle unknown, getting user input"
   ]
  },
  {
   "cell_type": "code",
   "execution_count": 3,
   "id": "45d0813d",
   "metadata": {},
   "outputs": [
    {
     "name": "stdout",
     "output_type": "stream",
     "text": [
      "First, the known ratio\n",
      "If you don't know the value, put 'x' (no quotes or spaces)\n",
      "Calculated side B = 2.9689087958742366\n"
     ]
    }
   ],
   "source": [
    "import math\n",
    "\n",
    "# Prompt for known values\n",
    "print(\"First, the known ratio\")\n",
    "angleA = float(input(\"Known angle (degrees): \"))\n",
    "sideA = float(input(\"Side opposite angle A: \"))\n",
    "print(\"If you don't know the value, put 'x' (no quotes or spaces)\")\n",
    "\n",
    "angleB = input(\"Other angle (degrees): \")\n",
    "sideB = input(\"Other side: \")\n",
    "\n",
    "# Unknown angle calculation\n",
    "if angleB.lower() == 'x' and sideB.lower() != 'x':\n",
    "    side_b = float(sideB)\n",
    "    ratioB = side_b * math.sin(math.radians(angleA)) / sideA\n",
    "    radians_B = math.asin(ratioB)\n",
    "    angleB_value = math.degrees(radians_B)\n",
    "    print(\"Calculated angle B =\", angleB_value)\n",
    "\n",
    "# Unknown side calculation\n",
    "elif sideB.lower() == 'x' and angleB.lower() != 'x':\n",
    "    angle_b = float(angleB)\n",
    "    side_b = math.sin(math.radians(angle_b)) * sideA / math.sin(math.radians(angleA))\n",
    "    print(\"Calculated side B =\", side_b)\n",
    "\n",
    "# Handle edge cases\n",
    "else:\n",
    "    print(\"Please leave only one unknown value as 'x'.\")"
   ]
  }
 ],
 "metadata": {
  "kernelspec": {
   "display_name": "Python 3",
   "language": "python",
   "name": "python3"
  },
  "language_info": {
   "codemirror_mode": {
    "name": "ipython",
    "version": 3
   },
   "file_extension": ".py",
   "mimetype": "text/x-python",
   "name": "python",
   "nbconvert_exporter": "python",
   "pygments_lexer": "ipython3",
   "version": "3.12.10"
  }
 },
 "nbformat": 4,
 "nbformat_minor": 5
}
