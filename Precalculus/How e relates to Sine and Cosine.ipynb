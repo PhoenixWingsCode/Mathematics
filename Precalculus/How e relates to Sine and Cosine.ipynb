{
 "cells": [
  {
   "cell_type": "markdown",
   "id": "5a3b46c8",
   "metadata": {},
   "source": [
    "# Section 1 : Cosine and Sine "
   ]
  },
  {
   "cell_type": "code",
   "execution_count": 3,
   "id": "58931431",
   "metadata": {},
   "outputs": [
    {
     "name": "stdout",
     "output_type": "stream",
     "text": [
      "cosine : \n",
      "-0.41614683654714246\n",
      "-0.4161468365471424\n",
      "\n",
      " sine : \n",
      "1.4161468365471428\n",
      "-0.4161468365471424\n"
     ]
    }
   ],
   "source": [
    "import math\n",
    "\n",
    "cosSum = 0\n",
    "x = 2\n",
    "pn = -1 # positive negative\n",
    "for a in range(50):\n",
    "    if(a % 2 == 0):\n",
    "        pn = pn * (-1)\n",
    "        cosSum = cosSum + pn * (x**a)/(math.factorial(a))\n",
    "\n",
    "print(\"cosine : \")\n",
    "print(cosSum)\n",
    "print(math.cos(x))\n",
    "\n",
    "# Sine\n",
    "sinSum = 0\n",
    "x = 2\n",
    "pn = -1\n",
    "for a in range(1, 50):\n",
    "    if(a % 2 == 0):\n",
    "        pn = pn * (-1)\n",
    "        sinSum = sinSum + pn * (x**a)/(math.factorial(a))\n",
    "\n",
    "print(\"\\n sine : \")\n",
    "print(sinSum)\n",
    "print(math.cos(x))"
   ]
  }
 ],
 "metadata": {
  "kernelspec": {
   "display_name": "Python 3",
   "language": "python",
   "name": "python3"
  },
  "language_info": {
   "codemirror_mode": {
    "name": "ipython",
    "version": 3
   },
   "file_extension": ".py",
   "mimetype": "text/x-python",
   "name": "python",
   "nbconvert_exporter": "python",
   "pygments_lexer": "ipython3",
   "version": "3.12.10"
  }
 },
 "nbformat": 4,
 "nbformat_minor": 5
}
