{
 "cells": [
  {
   "cell_type": "markdown",
   "id": "074c54d6",
   "metadata": {},
   "source": [
    "# Section 1 : Encoding and Decoding that works\n",
    "\n",
    "(but not using a matrix)"
   ]
  },
  {
   "cell_type": "code",
   "execution_count": null,
   "id": "19febeec",
   "metadata": {},
   "outputs": [
    {
     "name": "stdout",
     "output_type": "stream",
     "text": [
      "Encoded message =  secret message\n",
      "[152, 138, 136, 151, 138, 153, 69, 146, 138, 152, 152, 134, 140, 138]\n",
      "Message to be decoded =  152, 138, 136, 151, 138, 153, 69, 146, 138, 152, 152, 134, 140, 138\n",
      "Decoded \n",
      "   secret message\n"
     ]
    }
   ],
   "source": [
    "import numpy\n",
    "\n",
    "# get input\n",
    "inText = input(\"Enter text to encode : \")\n",
    "print(\"Message to be Encoded = \",inText)\n",
    "inNumbers = []\n",
    "for a in inText:\n",
    "    inNumbers.append(ord(a))\n",
    "\n",
    "# encode \n",
    "encodedNumbers = []\n",
    "for b in inNumbers:\n",
    "    # this math can get more complex\n",
    "    cipher = b + 37\n",
    "    encodedNumbers.append(cipher)\n",
    "\n",
    "# encoded message\n",
    "print(encodedNumbers)\n",
    "\n",
    "# get numbers to decode\n",
    "inCode = input(\"Enter text to decode :\")\n",
    "print(\"Message to be decoded = \",inCode)\n",
    "inNum = inCode.split(\",\")\n",
    "\n",
    "# decode\n",
    "decodedLetters = \" \"\n",
    "for d in inNum:\n",
    "    # inverse of the encoding math\n",
    "    decipher = int(d) - 37\n",
    "    decodedLetters += chr(decipher)\n",
    "\n",
    "# decoded message\n",
    "print(\"Decoded \\n \", decodedLetters)"
   ]
  },
  {
   "cell_type": "markdown",
   "id": "3cd6a669",
   "metadata": {},
   "source": [
    "# Section 2 : Matrix encode - decode that works\n",
    "\n",
    "Message as a (1 x 2) matrix, multiplied by a (2 x 2) matrix to encode or decode"
   ]
  },
  {
   "cell_type": "code",
   "execution_count": 5,
   "id": "358d3bd1",
   "metadata": {},
   "outputs": [
    {
     "name": "stdout",
     "output_type": "stream",
     "text": [
      "Secret message\n",
      "[772, 1140, 882, 1308, 898, 1332, 718, 1000, 892, 1324, 812, 1236, 812, 1220]\n",
      "772, 1140, 882, 1308, 898, 1332, 718, 1000, 892, 1324, 812, 1236, 812, 1220\n",
      "Decoded \n",
      "  Secret message\n"
     ]
    }
   ],
   "source": [
    "import numpy as np\n",
    "\n",
    "# arrays instead of matrices\n",
    "encode = np.array([[2, 4], [6, 8]])\n",
    "decode = np.linalg.inv(encode)\n",
    "\n",
    "# get input\n",
    "inText = input(\"Enter text to encode : \")\n",
    "print(inText)\n",
    "inNumbers = []\n",
    "for a in inText:\n",
    "    inNumbers.append(ord(a))\n",
    "\n",
    "# make sure the array is even\n",
    "if len(inText) %2 != 0:\n",
    "    inNumbers.append(46)\n",
    "\n",
    "# encode \n",
    "encodedNumbers = []\n",
    "temp1 = 0\n",
    "temp2 = 0\n",
    "pn = -1\n",
    "for b in inNumbers:\n",
    "    if pn == -1:\n",
    "        temp1 = b\n",
    "        pn = pn*(-1)\n",
    "    else:\n",
    "        temp2 = b\n",
    "        mat = np.array([temp1, temp2])\n",
    "        enDot = np.dot(mat, encode)\n",
    "        encodedNumbers.append(enDot.item(0))\n",
    "        encodedNumbers.append(enDot.item(1))\n",
    "        pn = pn*(-1)\n",
    "\n",
    "# encoded message\n",
    "print(encodedNumbers)\n",
    "\n",
    "# get numbers to decode\n",
    "inCode = input(\"Enter text to decode : \")\n",
    "print(inCode)\n",
    "inNum = inCode.split(\",\")\n",
    "\n",
    "# decode \n",
    "decodedLetters = \" \"\n",
    "pn = -1\n",
    "for d in inNum:\n",
    "    dFloat = float(d)\n",
    "    if pn == -1:\n",
    "        temp1 = dFloat\n",
    "        pn = pn*(-1)\n",
    "    else:\n",
    "        temp2 = dFloat\n",
    "        mat = np.array([temp1, temp2])\n",
    "        deDot = np.dot(mat, decode)\n",
    "        decipher = int(deDot.item(0))\n",
    "        decodedLetters += chr(decipher)\n",
    "        decipher2 = int(round(deDot.item(1))) # rounding adjustement\n",
    "        decodedLetters += chr(decipher2)\n",
    "        pn = pn*(-1)\n",
    "\n",
    "# decoded message\n",
    "print(\"Decoded \\n\", decodedLetters)"
   ]
  }
 ],
 "metadata": {
  "kernelspec": {
   "display_name": "Python 3",
   "language": "python",
   "name": "python3"
  },
  "language_info": {
   "codemirror_mode": {
    "name": "ipython",
    "version": 3
   },
   "file_extension": ".py",
   "mimetype": "text/x-python",
   "name": "python",
   "nbconvert_exporter": "python",
   "pygments_lexer": "ipython3",
   "version": "3.12.10"
  }
 },
 "nbformat": 4,
 "nbformat_minor": 5
}
