{
 "cells": [
  {
   "cell_type": "markdown",
   "id": "9742df46",
   "metadata": {},
   "source": [
    "# Section 1 : Inverse matrix to solve a system"
   ]
  },
  {
   "cell_type": "code",
   "execution_count": 5,
   "id": "7cc6f2d3",
   "metadata": {},
   "outputs": [
    {
     "name": "stdout",
     "output_type": "stream",
     "text": [
      "[[ 0.33027739]\n",
      " [ 0.01410437]\n",
      " [-0.14762576]]\n",
      "\n",
      " compare : \n",
      "0.3276877761413844\n",
      "0.014727540500736377\n",
      "-0.14432989690721648\n",
      "[[1. 0. 0.]\n",
      " [0. 1. 0.]\n",
      " [0. 0. 1.]]\n"
     ]
    }
   ],
   "source": [
    "import numpy as np\n",
    "from sympy import *\n",
    "\n",
    "# Use arrays instead of matrices\n",
    "a1 = np.array([[14, 0, 11], [22, 23, 4], [-12, -34, -3]])\n",
    "a2 = np.array([[3], [7], [-4]])\n",
    "\n",
    "mInv = np.linalg.inv(a1)\n",
    "mDotA = np.around(np.dot(mInv, a1))\n",
    "mDot = np.dot(mInv, a2)\n",
    "print(mDot)\n",
    "\n",
    "print(\"\\n compare : \")\n",
    "print(445/1358)\n",
    "print(10/679)\n",
    "print(-14/97)\n",
    "\n",
    "print(mDotA)"
   ]
  },
  {
   "cell_type": "markdown",
   "id": "d23b3208",
   "metadata": {},
   "source": [
    "# Section 2 : Another inverse matrix system example"
   ]
  },
  {
   "cell_type": "code",
   "execution_count": 7,
   "id": "0b338768",
   "metadata": {},
   "outputs": [
    {
     "name": "stdout",
     "output_type": "stream",
     "text": [
      "a =  1\n",
      "b =  5\n",
      "c =  6\n",
      "[[ 1.  0. -0.]\n",
      " [-0.  1. -0.]\n",
      " [-0.  0.  1.]]\n",
      "Answers\n",
      "[[1.]\n",
      " [5.]\n",
      " [6.]]\n",
      "a =  1\n",
      "b =  5\n",
      "c =  6\n"
     ]
    }
   ],
   "source": [
    "import numpy as np\n",
    "from sympy import *\n",
    "\n",
    "# points\n",
    "x1 = -2\n",
    "y1 = 0\n",
    "x2 = -3\n",
    "y2 = 0\n",
    "x3 = -2.5\n",
    "y3 = -.25\n",
    "\n",
    "# rref method\n",
    "M = Matrix([[x1**2, x1, 1, y1], [x2**2, x2, 1, y2], [x3**2, x3, 1, y3]])\n",
    "m_rref = M.rref()\n",
    "\n",
    "# Answers\n",
    "a = round(m_rref[0][3])\n",
    "b = round(m_rref[0][7])\n",
    "c = round(m_rref[0][11])\n",
    "print(\"a = \", a)\n",
    "print(\"b = \", b)\n",
    "print(\"c = \", c)\n",
    "\n",
    "# Inverse matrix method\n",
    "arr3x3 = np.array([[x1**2, x1, 1], [x2**2, x2, 1], [x3**2, x3, 1]])\n",
    "arr3x1 = np.array(([y1], [y2], [y3]))\n",
    "arrInv = np.linalg.inv(arr3x3)\n",
    "identity = np.around(np.dot(arrInv,arr3x3))\n",
    "arrValues = np.dot(arrInv, arr3x1)\n",
    "print(identity)\n",
    "print(\"Answers\")\n",
    "print(arrValues)\n",
    "print(\"a = \", round(arrValues.item(0)))\n",
    "print(\"b = \", round(arrValues.item(1)))\n",
    "print(\"c = \", round(arrValues.item(2)))"
   ]
  },
  {
   "cell_type": "markdown",
   "id": "a9d47a94",
   "metadata": {},
   "source": [
    "# Section 3 : Transformations"
   ]
  },
  {
   "cell_type": "code",
   "execution_count": 11,
   "id": "ef912b0d",
   "metadata": {},
   "outputs": [
    {
     "name": "stdout",
     "output_type": "stream",
     "text": [
      "2\n",
      "[[1 2]\n",
      " [3 6]\n",
      " [3 9]]\n",
      "\n",
      " transposed : \n",
      "[[1 3 3]\n",
      " [2 6 9]]\n",
      "\n",
      " transposed back : \n",
      "[[1 2]\n",
      " [3 6]\n",
      " [3 9]]\n",
      "\n",
      " as an array : \n",
      "9\n",
      "[1] , [2]\n"
     ]
    }
   ],
   "source": [
    "import numpy as np\n",
    "\n",
    "points = np.matrix(([1, 2], [3, 6], [3, 9]))\n",
    "print(points.item(0, 1))\n",
    "print(points)\n",
    "tPoints = np.transpose(points)\n",
    "print(\"\\n transposed : \")\n",
    "print(tPoints)\n",
    "print(\"\\n transposed back : \")\n",
    "originalPoints = np.transpose(tPoints)\n",
    "print(originalPoints)\n",
    "print(\"\\n as an array : \")\n",
    "arr = np.array(points)\n",
    "print(arr.item(2,1))\n",
    "x = []\n",
    "y = []\n",
    "x.append(arr.item(0, 0))\n",
    "y.append(arr.item(0, 1))\n",
    "print(x, \",\" ,y)"
   ]
  }
 ],
 "metadata": {
  "kernelspec": {
   "display_name": "Python 3",
   "language": "python",
   "name": "python3"
  },
  "language_info": {
   "codemirror_mode": {
    "name": "ipython",
    "version": 3
   },
   "file_extension": ".py",
   "mimetype": "text/x-python",
   "name": "python",
   "nbconvert_exporter": "python",
   "pygments_lexer": "ipython3",
   "version": "3.12.10"
  }
 },
 "nbformat": 4,
 "nbformat_minor": 5
}
