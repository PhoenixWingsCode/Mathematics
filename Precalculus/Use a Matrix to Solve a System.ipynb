{
 "cells": [
  {
   "cell_type": "markdown",
   "id": "c5b84e01",
   "metadata": {},
   "source": [
    "# Section 1 : Reduced Row Echelon Form\n",
    "\n",
    "14x + 11z = 3\n",
    "22x + 25y + 4z = 7\n",
    "-12x -34y -3z = -4\n",
    "\n",
    "[[14, 0, 11, 3]\n",
    " [22, 25, 4, 3]\n",
    " [12, -34, 3, -4]]\n",
    "\n",
    "[[1, 0, 0, __]\n",
    " [0, 1, 0, __]\n",
    " [0, 0, 1, __]]"
   ]
  },
  {
   "cell_type": "code",
   "execution_count": 5,
   "id": "414b8206",
   "metadata": {},
   "outputs": [
    {
     "name": "stdout",
     "output_type": "stream",
     "text": [
      "Matrix : Matrix([[14, 0, 11, 3], [22, 25, 4, 7], [-12, -34, -3, -4]])\n",
      "\n",
      " same matrix : \n",
      "[[14 0 11 3]\n",
      " [22 25 4 7]\n",
      " [-12 -34 -3 -4]]\n",
      "\n",
      " answers : \n",
      "x =  445/1358\n",
      "y =  10/679\n",
      "z =  -14/97\n",
      "\n",
      " row echelon form of matrix : \n",
      " (Matrix([\n",
      "[1, 0, 0, 445/1358],\n",
      "[0, 1, 0,   10/679],\n",
      "[0, 0, 1,   -14/97]]), (0, 1, 2))\n"
     ]
    }
   ],
   "source": [
    "# Converting Matrix and Array objects in Numpy\n",
    "\n",
    "import numpy as np\n",
    "from sympy import *\n",
    "\n",
    "# Create an array\n",
    "arr = np.array([[14, 0, 11, 3], [22, 25, 4, 7], [-12, -34, -3, -4]])\n",
    "\n",
    "# Create a matrix from that array\n",
    "M = Matrix(arr)\n",
    "print(\"Matrix : {}\".format(M))\n",
    "\n",
    "# In some situations you would need to build an array but for matrix operations matrix is necessary\n",
    "\n",
    "# convert that matrix back to an array\n",
    "A = np.array(M)\n",
    "print(\"\\n same matrix : \")\n",
    "print(A)\n",
    "\n",
    "# Solve using rref in the matrix\n",
    "print(\"\\n answers : \")\n",
    "M_rref = M.rref() # Reduced Row Echelon Form\n",
    "x = M_rref[0][3]\n",
    "y = M_rref[0][7]\n",
    "z = M_rref[0][11]\n",
    "print(\"x = \", x)\n",
    "print(\"y = \", y)\n",
    "print(\"z = \", z)\n",
    "\n",
    "print(\"\\n row echelon form of matrix : \\n {}\".format(M_rref))"
   ]
  }
 ],
 "metadata": {
  "kernelspec": {
   "display_name": "Python 3",
   "language": "python",
   "name": "python3"
  },
  "language_info": {
   "codemirror_mode": {
    "name": "ipython",
    "version": 3
   },
   "file_extension": ".py",
   "mimetype": "text/x-python",
   "name": "python",
   "nbconvert_exporter": "python",
   "pygments_lexer": "ipython3",
   "version": "3.12.10"
  }
 },
 "nbformat": 4,
 "nbformat_minor": 5
}
