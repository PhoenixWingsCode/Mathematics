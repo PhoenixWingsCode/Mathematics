{
 "cells": [
  {
   "cell_type": "markdown",
   "id": "06b9d586",
   "metadata": {},
   "source": [
    "# Section 1 : \n",
    "\n",
    "Matrix A : [a11 a12\n",
    "            a21 a22]\n",
    "\n",
    "Matrix B : [b11 b12\n",
    "            b21 b22]"
   ]
  },
  {
   "cell_type": "code",
   "execution_count": null,
   "id": "f7553308",
   "metadata": {},
   "outputs": [],
   "source": [
    "# enter all values\n",
    "a11 = 1\n",
    "a12 = 2\n",
    "a21 = 3\n",
    "a22 = 4\n",
    "\n",
    "b11 = 5\n",
    "b12 = 6\n",
    "b21 = 7\n",
    "b22 = 8"
   ]
  },
  {
   "cell_type": "markdown",
   "id": "d51255e0",
   "metadata": {},
   "source": [
    "# Section 2 : [A] + [B] = [C]\n",
    "\n",
    "for addition and subtraction equal dimensions are necessary"
   ]
  },
  {
   "cell_type": "code",
   "execution_count": 1,
   "id": "976b3f3d",
   "metadata": {},
   "outputs": [
    {
     "name": "stdout",
     "output_type": "stream",
     "text": [
      "6 8\n",
      "10 12\n"
     ]
    }
   ],
   "source": [
    "a11 = 1\n",
    "a12 = 2\n",
    "a21 = 3\n",
    "a22 = 4\n",
    "\n",
    "b11 = 5\n",
    "b12 = 6\n",
    "b21 = 7\n",
    "b22 = 8\n",
    "\n",
    "c11 = a11 + b11\n",
    "c12 = a12 + b12\n",
    "c21 = a21 + b21\n",
    "c22 = a22 + b22\n",
    "\n",
    "print(c11,c12)\n",
    "print(c21, c22)"
   ]
  },
  {
   "cell_type": "markdown",
   "id": "0381e51b",
   "metadata": {},
   "source": [
    "# Section 3 : [A] x [B] = [C]\n",
    "\n",
    "A = 2 x 2\n",
    "B = 2 x 3\n",
    "\n",
    "column of matrix A and row of matrix B should be same\n",
    "The result is matrix C that is 2 x 3 "
   ]
  },
  {
   "cell_type": "code",
   "execution_count": 1,
   "id": "b5e761f5",
   "metadata": {},
   "outputs": [
    {
     "name": "stdout",
     "output_type": "stream",
     "text": [
      "Multiplying Matrix A * Matrix B\n",
      "19 22\n",
      "43 8\n",
      "\n",
      " same matrix : \n",
      "[[19 22]\n",
      " [43 50]]\n",
      "\n",
      " np.matrix\n",
      "[[19 22]\n",
      " [43 50]]\n"
     ]
    }
   ],
   "source": [
    "# 2 x 2\n",
    "\n",
    "import numpy as np\n",
    "# enter all values\n",
    "a11 = 1\n",
    "a12 = 2\n",
    "a21 = 3\n",
    "a22 = 4\n",
    "\n",
    "b11 = 5\n",
    "b12 = 6\n",
    "b21 = 7\n",
    "b22 = 8\n",
    "\n",
    "# The actual steps\n",
    "c11 = a11*b11 + a12*b21\n",
    "c12 = a11*b12 + a12*b22\n",
    "c21 = a21*b11 + a22*b21\n",
    "c22 = a21*b12 + a22*b22\n",
    "\n",
    "print(\"Multiplying Matrix A * Matrix B\")\n",
    "print(c11, c12)\n",
    "print(c21, b22)\n",
    "\n",
    "# numpy\n",
    "print(\"\\n same matrix : \")\n",
    "A = np.array([[a11, a12], [a21, a22]])\n",
    "B = np.array([[b11, b12], [b21, b22]])\n",
    "C = A.dot(B)\n",
    "print(C)\n",
    "\n",
    "# np.matrix\n",
    "print(\"\\n np.matrix\")\n",
    "E = np.matrix([[a11, a12], [a21, a22]])\n",
    "F = np.matrix([[b11, b12], [b21, b22]])\n",
    "G = E.dot(F)\n",
    "print(G)"
   ]
  },
  {
   "cell_type": "markdown",
   "id": "7ebd913e",
   "metadata": {},
   "source": [
    "# Section 4 : Other matrix operations"
   ]
  },
  {
   "cell_type": "code",
   "execution_count": null,
   "id": "bca2e375",
   "metadata": {},
   "outputs": [
    {
     "name": "stdout",
     "output_type": "stream",
     "text": [
      "Matrix A : \n",
      "[[1 2]\n",
      " [3 4]]\n",
      "\n",
      " inverse of Matrix A :\n",
      "[[-2.   1. ]\n",
      " [ 1.5 -0.5]]\n",
      "\n",
      " determinent of Matrix A : \n",
      "-2.0\n",
      "\n",
      " Matrix A is multiplied by its inverse : \n",
      "[[1. 0.]\n",
      " [0. 1.]]\n"
     ]
    }
   ],
   "source": [
    "import numpy as np\n",
    "# enter all values\n",
    "a11 = 1\n",
    "a12 = 2\n",
    "a21 = 3\n",
    "a22 = 4\n",
    "\n",
    "A = np.matrix([[a11, a12], [a21, a22]])\n",
    "print(\"Matrix A : \")\n",
    "print(A)\n",
    "\n",
    "# more about Matrix A\n",
    "print(\"\\n inverse of Matrix A :\")\n",
    "print(np.linalg.inv(A)) # Line algebra\n",
    "\n",
    "print(\"\\n determinent of Matrix A : \")\n",
    "print(np.round(np.linalg.det(A)))\n",
    "\n",
    "print(\"\\n Matrix A is multiplied by its inverse : \")\n",
    "D = np.around(A.dot(np.linalg.inv(A)))\n",
    "print(D)\n",
    "\n",
    "# Multiplying a matrix by its inverse gives its identity matrix\n",
    "[[1, 0]\n",
    " [0, 1]]\n"
   ]
  },
  {
   "cell_type": "markdown",
   "id": "5119cd3b",
   "metadata": {},
   "source": [
    "# Section 5 : Another way to multiply two matrices"
   ]
  },
  {
   "cell_type": "code",
   "execution_count": 5,
   "id": "af3799b2",
   "metadata": {},
   "outputs": [
    {
     "name": "stdout",
     "output_type": "stream",
     "text": [
      "\n",
      "c <class 'numpy.matrix'>\n",
      "[[1 2]\n",
      " [3 4]]\n",
      "\n",
      "d <class 'numpy.matrix'>\n",
      "[[ 5  6  7]\n",
      " [ 8  9 10]]\n",
      "\n",
      " dot product of two matrix objects\n",
      "[[21 24 27]\n",
      " [47 54 61]]\n"
     ]
    }
   ],
   "source": [
    "import numpy as np\n",
    "\n",
    "# Matrices as matrix objects\n",
    "c = np.matrix([[1, 2], [3, 4]])\n",
    "d = np.matrix([[5, 6, 7], [8, 9, 10]])\n",
    "print(\"\\nc\", type(c))\n",
    "print(c)\n",
    "print(\"\\nd\", type(d))\n",
    "print(d)\n",
    "print(\"\\n dot product of two matrix objects\")\n",
    "print(np.dot(c, d))"
   ]
  }
 ],
 "metadata": {
  "kernelspec": {
   "display_name": "Python 3",
   "language": "python",
   "name": "python3"
  },
  "language_info": {
   "codemirror_mode": {
    "name": "ipython",
    "version": 3
   },
   "file_extension": ".py",
   "mimetype": "text/x-python",
   "name": "python",
   "nbconvert_exporter": "python",
   "pygments_lexer": "ipython3",
   "version": "3.12.10"
  }
 },
 "nbformat": 4,
 "nbformat_minor": 5
}
