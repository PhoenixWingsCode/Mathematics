{
 "cells": [
  {
   "cell_type": "markdown",
   "id": "c94b8cc0",
   "metadata": {},
   "source": [
    "# Section 1 : A new area formula\n",
    "\n",
    "To find the area of a triangle without knowing the base or the height : \n",
    "Area = 1/2 * a * b * sin(C)\n",
    "Where a and b are two sides and C is the angle between them."
   ]
  },
  {
   "cell_type": "code",
   "execution_count": 1,
   "id": "a7c5ea04",
   "metadata": {},
   "outputs": [
    {
     "name": "stdout",
     "output_type": "stream",
     "text": [
      "Area =  8.660254037844386\n"
     ]
    }
   ],
   "source": [
    "import math\n",
    "\n",
    "sideA = float(input(\"Side a = \"))\n",
    "sideB = float(input(\"Side b = \"))\n",
    "angleC = float(input(\"Angle C = \"))\n",
    "\n",
    "area = 0.5*sideA*sideB*math.sin(math.radians(angleC))\n",
    "print(\"Area = \", area)"
   ]
  }
 ],
 "metadata": {
  "kernelspec": {
   "display_name": "Python 3",
   "language": "python",
   "name": "python3"
  },
  "language_info": {
   "codemirror_mode": {
    "name": "ipython",
    "version": 3
   },
   "file_extension": ".py",
   "mimetype": "text/x-python",
   "name": "python",
   "nbconvert_exporter": "python",
   "pygments_lexer": "ipython3",
   "version": "3.12.10"
  }
 },
 "nbformat": 4,
 "nbformat_minor": 5
}
