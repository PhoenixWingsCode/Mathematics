{
 "cells": [
  {
   "cell_type": "markdown",
   "id": "03875b00",
   "metadata": {},
   "source": [
    "# Section 1 : \n",
    "\n",
    "Known sides are \"a\" and \"b\" and the known angle between them is \"C\", then the formula is\n",
    "c**2 = a**2 + b**2 - 2*a*b * cos(C)"
   ]
  },
  {
   "cell_type": "code",
   "execution_count": 1,
   "id": "2d1a38ff",
   "metadata": {},
   "outputs": [
    {
     "name": "stdout",
     "output_type": "stream",
     "text": [
      "Side =  4.58257569495584\n"
     ]
    }
   ],
   "source": [
    "# Unknown side - Simple version\n",
    "\n",
    "import math\n",
    "\n",
    "# Known values\n",
    "sideA = 5\n",
    "sideB = 4\n",
    "angleC = 60\n",
    "\n",
    "# Solve \n",
    "c = sideA**2 + sideB**2 - 2*sideA*sideB*math.cos(math.radians(angleC))\n",
    "sideC = math.sqrt(c)\n",
    "print(\"Side = \", sideC)"
   ]
  },
  {
   "cell_type": "markdown",
   "id": "f40245e0",
   "metadata": {},
   "source": [
    "# Section 2 : Unknown angle "
   ]
  },
  {
   "cell_type": "code",
   "execution_count": 2,
   "id": "13ed3abb",
   "metadata": {},
   "outputs": [
    {
     "name": "stdout",
     "output_type": "stream",
     "text": [
      "angle =  36.86989764584401\n"
     ]
    }
   ],
   "source": [
    "import math\n",
    "\n",
    "# Known values\n",
    "sideA = 5\n",
    "sideB = 4\n",
    "sideC = 3\n",
    "\n",
    "# Solve\n",
    "part1 = sideC**2 - sideA**2 - sideB**2\n",
    "part2 = -(2*sideA*sideB)\n",
    "part3 = part1/part2\n",
    "angleC = math.degrees(math.acos(part3))\n",
    "print(\"angle = \", angleC)"
   ]
  },
  {
   "cell_type": "markdown",
   "id": "e8de2be6",
   "metadata": {},
   "source": [
    "# Section 3 : Either side or single unknown - getting user input"
   ]
  },
  {
   "cell_type": "code",
   "execution_count": 7,
   "id": "0e0d7246",
   "metadata": {},
   "outputs": [
    {
     "name": "stdout",
     "output_type": "stream",
     "text": [
      "If you don't know the value, put 'x' (no quotes or spaces)\n",
      "Angle C =  82.81924421854171\n"
     ]
    }
   ],
   "source": [
    "import math\n",
    "\n",
    "# Get input\n",
    "sideA = float(input(\"Side A : \"))\n",
    "sideB = float(input(\"Side B : \"))\n",
    "print(\"If you don't know the value, put 'x' (no quotes or spaces)\")\n",
    "sideC = input(\"Side C : \")\n",
    "angleC = input(\"Angle C : \")\n",
    "\n",
    "# Solve for angle C\n",
    "if(angleC==\"x\"):\n",
    "    sideC = float(sideC)\n",
    "    step1 = sideC**2 - sideB**2 - sideA**2\n",
    "    step2 = -2*sideA*sideB\n",
    "    ratioC = step1/step2\n",
    "    radiansC = math.acos(ratioC)\n",
    "    angleC = radiansC*180/math.pi\n",
    "    print(\"Angle C = \", angleC)\n",
    "\n",
    "# Solve for side C\n",
    "if(sideC == \"x\"):\n",
    "    angle_C = float(angleC)\n",
    "    step1 = sideA**2 + sideB**2 - 2 * sideA * sideB * math.cos(math.radians(angle_C))\n",
    "    side_C = math.sqrt(step1)\n",
    "    print(\"Side = \", side_C)"
   ]
  }
 ],
 "metadata": {
  "kernelspec": {
   "display_name": "Python 3",
   "language": "python",
   "name": "python3"
  },
  "language_info": {
   "codemirror_mode": {
    "name": "ipython",
    "version": 3
   },
   "file_extension": ".py",
   "mimetype": "text/x-python",
   "name": "python",
   "nbconvert_exporter": "python",
   "pygments_lexer": "ipython3",
   "version": "3.12.10"
  }
 },
 "nbformat": 4,
 "nbformat_minor": 5
}
