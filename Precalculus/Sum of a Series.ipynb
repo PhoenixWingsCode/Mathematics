{
 "cells": [
  {
   "cell_type": "markdown",
   "id": "75538a22",
   "metadata": {},
   "source": [
    "# Section 1 : Arithmetic Series"
   ]
  },
  {
   "cell_type": "code",
   "execution_count": 8,
   "id": "2dccb933",
   "metadata": {},
   "outputs": [
    {
     "name": "stdout",
     "output_type": "stream",
     "text": [
      "[3, 5, 7, 9, 11, 13, 15, 17, 19, 21, 23]\n",
      "sum =  143\n"
     ]
    }
   ],
   "source": [
    "# Define the arithmetic formula\n",
    "# y = 3 + 2*x\n",
    "\n",
    "# sequence\n",
    "sequence = []\n",
    "for n in range(11):\n",
    "    next = 3 + 2*n\n",
    "    sequence.append(next)\n",
    "\n",
    "print(sequence)\n",
    "\n",
    "# series\n",
    "sum = 0\n",
    "for n in range(11):\n",
    "    next = 3 + 2*n\n",
    "    sum = sum + next \n",
    "\n",
    "print(\"sum = \", sum)"
   ]
  },
  {
   "cell_type": "markdown",
   "id": "84d6f6f4",
   "metadata": {},
   "source": [
    "# Section 2 : Geometric Series"
   ]
  },
  {
   "cell_type": "code",
   "execution_count": 9,
   "id": "4522a686",
   "metadata": {},
   "outputs": [
    {
     "name": "stdout",
     "output_type": "stream",
     "text": [
      "[1, 2, 4, 8, 16, 32, 64, 128, 256, 512, 1024]\n",
      "sum =  2047\n"
     ]
    }
   ],
   "source": [
    "# Define the arithmetic formula\n",
    "# y = 3 + 2*x\n",
    "\n",
    "# sequence\n",
    "sequence = []\n",
    "for n in range(11):\n",
    "    next = 2**n\n",
    "    sequence.append(next)\n",
    "\n",
    "print(sequence)\n",
    "\n",
    "# series\n",
    "sum = 0\n",
    "for n in range(11):\n",
    "    next = 2**n\n",
    "    sum = sum + next \n",
    "\n",
    "print(\"sum = \", sum)"
   ]
  },
  {
   "cell_type": "markdown",
   "id": "e69c597e",
   "metadata": {},
   "source": [
    "# Section 3 : Sum of a harmonic series"
   ]
  },
  {
   "cell_type": "code",
   "execution_count": 10,
   "id": "2668893d",
   "metadata": {},
   "outputs": [
    {
     "name": "stdout",
     "output_type": "stream",
     "text": [
      "[1.0, 0.5, 0.25, 0.125, 0.0625, 0.03125, 0.015625, 0.0078125, 0.00390625, 0.001953125, 0.0009765625, 0.00048828125, 0.000244140625, 0.0001220703125, 6.103515625e-05, 3.0517578125e-05, 1.52587890625e-05, 7.62939453125e-06, 3.814697265625e-06, 1.9073486328125e-06, 9.5367431640625e-07, 4.76837158203125e-07, 2.384185791015625e-07, 1.1920928955078125e-07, 5.960464477539063e-08, 2.9802322387695312e-08, 1.4901161193847656e-08, 7.450580596923828e-09, 3.725290298461914e-09, 1.862645149230957e-09, 9.313225746154785e-10, 4.656612873077393e-10, 2.3283064365386963e-10, 1.1641532182693481e-10, 5.820766091346741e-11, 2.9103830456733704e-11, 1.4551915228366852e-11, 7.275957614183426e-12, 3.637978807091713e-12, 1.8189894035458565e-12, 9.094947017729282e-13, 4.547473508864641e-13, 2.2737367544323206e-13, 1.1368683772161603e-13, 5.684341886080802e-14, 2.842170943040401e-14, 1.4210854715202004e-14, 7.105427357601002e-15, 3.552713678800501e-15, 1.7763568394002505e-15]\n",
      "Sum =  1.9999999999999982\n"
     ]
    }
   ],
   "source": [
    "sum = 0\n",
    "series = []\n",
    "for a in range(50):\n",
    "    next = 1/(2**a)\n",
    "    series.append(next)\n",
    "    sum = sum + next\n",
    "\n",
    "print(series)\n",
    "print(\"Sum = \", sum)"
   ]
  }
 ],
 "metadata": {
  "kernelspec": {
   "display_name": "Python 3",
   "language": "python",
   "name": "python3"
  },
  "language_info": {
   "codemirror_mode": {
    "name": "ipython",
    "version": 3
   },
   "file_extension": ".py",
   "mimetype": "text/x-python",
   "name": "python",
   "nbconvert_exporter": "python",
   "pygments_lexer": "ipython3",
   "version": "3.12.10"
  }
 },
 "nbformat": 4,
 "nbformat_minor": 5
}
