{
 "cells": [
  {
   "cell_type": "markdown",
   "id": "4921f9ce",
   "metadata": {},
   "source": [
    "# Section 1 : Triangle from points\n",
    "distance formula three times\n",
    "law of cosine twice\n",
    "subtraction"
   ]
  },
  {
   "cell_type": "code",
   "execution_count": 1,
   "id": "b9e20230",
   "metadata": {},
   "outputs": [
    {
     "name": "stdout",
     "output_type": "stream",
     "text": [
      "Angle A =  36.9\n",
      "Side A =  3.0\n",
      "Angle B =  53.1\n",
      "Side B =  4.0\n",
      "Angle C =  90.0\n",
      "Side c =  5.0\n",
      "Area =  6.0\n"
     ]
    }
   ],
   "source": [
    "def triangle(x1, y1, x2, y2, x3, y3):\n",
    "    import math\n",
    "    # get side a \n",
    "    a = math.sqrt((x2-x1)**2 + (y2-y1)**2)\n",
    "    \n",
    "    # get side b \n",
    "    b = math.sqrt((x3-x2)**2 + (y3-y2)**2)\n",
    "    \n",
    "    # get side c \n",
    "    c = math.sqrt((x3-x1)**2 + (y3-y1)**2)\n",
    "    \n",
    "    # get angle a\n",
    "    cosA = (a**2 - b**2 - c**2)/(-2*b*c)\n",
    "    radiansA = math.acos(cosA)\n",
    "    degreesA = math.degrees(radiansA)\n",
    "\n",
    "    # get angle b\n",
    "    cosB = (b**2 - a**2 - c**2)/(-2*a*c)\n",
    "    radiansB = math.acos(cosB)\n",
    "    degreesB = math.degrees(radiansB)\n",
    "\n",
    "    # get angle c\n",
    "    radiansC = math.pi - (radiansA + radiansB)\n",
    "    degreesC = 180 - (degreesA + degreesB)\n",
    "\n",
    "    # get area\n",
    "    area = 0.5*b*c*math.sin(radiansA)\n",
    "\n",
    "    # output\n",
    "    print(\"Angle A = \", round(degreesA,1))\n",
    "    print(\"Side A = \", round(a,1))\n",
    "    print(\"Angle B = \", round(degreesB,1))\n",
    "    print(\"Side B = \", round(b,1))\n",
    "    print(\"Angle C = \", round(degreesC,1))\n",
    "    print(\"Side c = \", round(c,1))\n",
    "    print(\"Area = \", round(area,1))\n",
    "\n",
    "# Call the function\n",
    "triangle(0, 3, 0, 0, 4, 0)"
   ]
  }
 ],
 "metadata": {
  "kernelspec": {
   "display_name": "Python 3",
   "language": "python",
   "name": "python3"
  },
  "language_info": {
   "codemirror_mode": {
    "name": "ipython",
    "version": 3
   },
   "file_extension": ".py",
   "mimetype": "text/x-python",
   "name": "python",
   "nbconvert_exporter": "python",
   "pygments_lexer": "ipython3",
   "version": "3.12.10"
  }
 },
 "nbformat": 4,
 "nbformat_minor": 5
}
