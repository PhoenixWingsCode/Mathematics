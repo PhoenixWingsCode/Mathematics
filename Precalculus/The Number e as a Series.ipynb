{
 "cells": [
  {
   "cell_type": "markdown",
   "id": "30380386",
   "metadata": {},
   "source": [
    "# Section 1 : Euler's Formula (\"e\")"
   ]
  },
  {
   "cell_type": "code",
   "execution_count": 1,
   "id": "0253d3ef",
   "metadata": {},
   "outputs": [
    {
     "name": "stdout",
     "output_type": "stream",
     "text": [
      "2.7182818284590455\n",
      "2.718281828459045\n"
     ]
    }
   ],
   "source": [
    "import math\n",
    "\n",
    "eSum = 0\n",
    "\n",
    "for a in range(50):\n",
    "    eSum = eSum + 1/(math.factorial(a))\n",
    "\n",
    "print(eSum)\n",
    "print(math.e)"
   ]
  }
 ],
 "metadata": {
  "kernelspec": {
   "display_name": "Python 3",
   "language": "python",
   "name": "python3"
  },
  "language_info": {
   "codemirror_mode": {
    "name": "ipython",
    "version": 3
   },
   "file_extension": ".py",
   "mimetype": "text/x-python",
   "name": "python",
   "nbconvert_exporter": "python",
   "pygments_lexer": "ipython3",
   "version": "3.12.10"
  }
 },
 "nbformat": 4,
 "nbformat_minor": 5
}
