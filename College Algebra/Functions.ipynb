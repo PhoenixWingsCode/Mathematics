{
 "cells": [
  {
   "cell_type": "markdown",
   "id": "f7773da8",
   "metadata": {},
   "source": [
    "# Section 1 : Function and a table of (x,y) values"
   ]
  },
  {
   "cell_type": "code",
   "execution_count": 5,
   "id": "2aae9e33",
   "metadata": {},
   "outputs": [
    {
     "name": "stdout",
     "output_type": "stream",
     "text": [
      "5 , 23\n",
      "x \t y\n",
      "0 \t 3\n",
      "1 \t 7\n",
      "2 \t 11\n",
      "3 \t 15\n",
      "4 \t 19\n",
      "5 \t 23\n",
      "6 \t 27\n",
      "7 \t 31\n",
      "8 \t 35\n",
      "9 \t 39\n",
      "10 \t 43\n"
     ]
    }
   ],
   "source": [
    "x = 5\n",
    "y = 4*x + 3 #The function\n",
    "\n",
    "print(x, \",\", y)\n",
    "\n",
    "print(\"x \\t y\")\n",
    "\n",
    "for x in range(11):\n",
    "    y = 4*x + 3\n",
    "    print(x, \"\\t\", y)"
   ]
  },
  {
   "cell_type": "markdown",
   "id": "e5b6f673",
   "metadata": {},
   "source": [
    "# Section 2 : Defining a python function"
   ]
  },
  {
   "cell_type": "code",
   "execution_count": null,
   "id": "1a275740",
   "metadata": {},
   "outputs": [
    {
     "name": "stdout",
     "output_type": "stream",
     "text": [
      "5 , 23\n"
     ]
    }
   ],
   "source": [
    "def f(x):\n",
    "    y = 4*x + 3\n",
    "    return y\n",
    "\n",
    "print(5, \",\" , f(5))"
   ]
  },
  {
   "cell_type": "markdown",
   "id": "fe015c0b",
   "metadata": {},
   "source": [
    "# Section 3 : With a loop"
   ]
  },
  {
   "cell_type": "code",
   "execution_count": 2,
   "id": "de4f0f82",
   "metadata": {},
   "outputs": [
    {
     "name": "stdout",
     "output_type": "stream",
     "text": [
      "5 , 23\n",
      "0 \t 3\n",
      "1 \t 7\n",
      "2 \t 11\n",
      "3 \t 15\n",
      "4 \t 19\n",
      "5 \t 23\n",
      "6 \t 27\n",
      "7 \t 31\n",
      "8 \t 35\n",
      "9 \t 39\n",
      "10 \t 43\n"
     ]
    }
   ],
   "source": [
    "def f(x):\n",
    "    y = 4*x + 3\n",
    "    return y\n",
    "\n",
    "print(5, \",\" , f(5))\n",
    "\n",
    "#Next, a loop\n",
    "for x in range(11):\n",
    "    print(x, \"\\t\", f(x))"
   ]
  }
 ],
 "metadata": {
  "kernelspec": {
   "display_name": "Python 3",
   "language": "python",
   "name": "python3"
  },
  "language_info": {
   "codemirror_mode": {
    "name": "ipython",
    "version": 3
   },
   "file_extension": ".py",
   "mimetype": "text/x-python",
   "name": "python",
   "nbconvert_exporter": "python",
   "pygments_lexer": "ipython3",
   "version": "3.12.10"
  }
 },
 "nbformat": 4,
 "nbformat_minor": 5
}
