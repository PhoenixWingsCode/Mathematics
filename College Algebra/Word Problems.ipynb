{
 "cells": [
  {
   "cell_type": "markdown",
   "id": "05902190",
   "metadata": {},
   "source": [
    "# Section 1 : Keywords\n",
    "\n",
    "Add -> plus, more, increased, and, received, up, added to, sum\n",
    "Subtract -> minus, less, decreased, gave, down, subtracted, difference\n",
    "Multiply -> by, of, factor, times, area\n",
    "Divide -> out of, per, quotient, rate, divided\n",
    "Multiply and/or divide -> each\n",
    "is -> =\n",
    "\n",
    "A linear function does not have the exponents"
   ]
  },
  {
   "cell_type": "markdown",
   "id": "d2f36b8c",
   "metadata": {},
   "source": [
    "# Section 2 : Problem\n",
    "\n",
    "Jessica is walking home from a friend's house. After 2 minutes she is 1.4 miles from home. Twelve minutes after leaving, she is 0.9 miles from home. What is her rate in miles per hour?"
   ]
  },
  {
   "cell_type": "code",
   "execution_count": 3,
   "id": "eceb32f9",
   "metadata": {},
   "outputs": [
    {
     "name": "stdout",
     "output_type": "stream",
     "text": [
      "y =  -2.999999999999999 x +  1.4999999999999998\n"
     ]
    },
    {
     "data": {
      "image/png": "[encoded data removed]",
      "text/plain": [
       "<Figure size 640x480 with 1 Axes>"
      ]
     },
     "metadata": {},
     "output_type": "display_data"
    }
   ],
   "source": [
    "import matplotlib.pyplot as plt\n",
    "import numpy as np\n",
    "\n",
    "x1 = 2/60 # 2 minutes\n",
    "y1 = 1.4 # 1.4 miles\n",
    "x2 = 12/60 # 12 minutes\n",
    "y2 = 0.9 # 0.9 miles\n",
    "\n",
    "#Develop the equation y = mx + b\n",
    "m = (y2 - y1) / (x2 - x1) \n",
    "b = y1 - m*x1\n",
    "print(\"y = \", m, \"x + \", b)\n",
    "\n",
    "#For the graph\n",
    "xmin = 0 \n",
    "xmax = 5\n",
    "ymin = 0\n",
    "ymax = 5\n",
    "\n",
    "#For the line on the graph\n",
    "y3 = m * xmin + b\n",
    "y4 = m * xmax + b\n",
    "\n",
    "#Basic setup for the graph\n",
    "fig, ax = plt.subplots()\n",
    "plt.axis([xmin, xmax, ymin, ymax])\n",
    "plt.plot([xmin, xmax], [0, 0], 'b')\n",
    "plt.plot([0,0], [ymin, ymax], 'b')\n",
    "\n",
    "#Add details to the graph\n",
    "ax.set_xlabel(\"minutes\")\n",
    "ax.set_ylabel(\"miles\")\n",
    "ax.grid(True)\n",
    "\n",
    "#ax.set_xticks(np.arange(xmin, xmax, 2)) #set the tick mark on x-axis\n",
    "#ax.set_yticks(np.arange(ymin, ymax, 2)) #tick marks side values of the graph on the axis\n",
    "\n",
    "#Plot the linear function as a red line\n",
    "plt.plot([xmin, xmax], [y3, y4], 'r')\n",
    "\n",
    "plt.show()\n",
    "\n",
    "#Estimation population is 1,20,000"
   ]
  }
 ],
 "metadata": {
  "kernelspec": {
   "display_name": "Python 3",
   "language": "python",
   "name": "python3"
  },
  "language_info": {
   "codemirror_mode": {
    "name": "ipython",
    "version": 3
   },
   "file_extension": ".py",
   "mimetype": "text/x-python",
   "name": "python",
   "nbconvert_exporter": "python",
   "pygments_lexer": "ipython3",
   "version": "3.12.10"
  }
 },
 "nbformat": 4,
 "nbformat_minor": 5
}
