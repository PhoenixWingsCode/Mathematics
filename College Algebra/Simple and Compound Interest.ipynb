{
 "cells": [
  {
   "cell_type": "markdown",
   "id": "1f6e7ff6",
   "metadata": {},
   "source": [
    "# Section 1 : Simple Interest\n",
    "principle * rate * time = interest"
   ]
  },
  {
   "cell_type": "code",
   "execution_count": 1,
   "id": "9841818e",
   "metadata": {},
   "outputs": [
    {
     "name": "stdout",
     "output_type": "stream",
     "text": [
      "Simple interest =  150.0\n"
     ]
    }
   ],
   "source": [
    "p = 1000\n",
    "r = .05\n",
    "t = 3\n",
    "interest = p*r*t\n",
    "print(\"Simple interest = \", interest)"
   ]
  },
  {
   "cell_type": "markdown",
   "id": "239853fb",
   "metadata": {},
   "source": [
    "# Section 2 : New amount\n",
    "new amount = principle + interest"
   ]
  },
  {
   "cell_type": "code",
   "execution_count": 3,
   "id": "747fbb30",
   "metadata": {},
   "outputs": [
    {
     "name": "stdout",
     "output_type": "stream",
     "text": [
      "Simple interest =  150.0\n",
      "New Amount : 1150.0\n"
     ]
    }
   ],
   "source": [
    "p = 1000\n",
    "r = .05\n",
    "t = 3\n",
    "interest = p*r*t\n",
    "amount = p + interest\n",
    "print(\"Simple interest = \", interest)\n",
    "print(\"New Amount :\", amount)"
   ]
  },
  {
   "cell_type": "markdown",
   "id": "26387e5c",
   "metadata": {},
   "source": [
    "# Section 3 : Percent increase\n",
    "\n",
    "The algebra for any percent increase:\n",
    "New amount = p + p*r\n",
    "new amount = p * (1+r)"
   ]
  },
  {
   "cell_type": "code",
   "execution_count": 4,
   "id": "4bf68cc4",
   "metadata": {},
   "outputs": [
    {
     "name": "stdout",
     "output_type": "stream",
     "text": [
      "New amount =  1050.0\n"
     ]
    }
   ],
   "source": [
    "p = 1000\n",
    "r = .05\n",
    "a = p*(1+r)\n",
    "print(\"New amount = \", a)"
   ]
  },
  {
   "cell_type": "markdown",
   "id": "bb2ef505",
   "metadata": {},
   "source": [
    "# Section 4 : Compound Interest\n",
    "\n",
    "Compounding is adding the interest to the principle and then calculating percent increase from this new amount\n",
    "Original amount = P\n",
    "New amount = P(1+r)\n",
    "Compounded again = P(1+r)(1+r)\n",
    "And again = P(1+r)(1+r)(1+r) = P(1+r)**3"
   ]
  },
  {
   "cell_type": "code",
   "execution_count": 5,
   "id": "3da8c4d8",
   "metadata": {},
   "outputs": [
    {
     "name": "stdout",
     "output_type": "stream",
     "text": [
      "Annunity =  1157.6250000000002\n"
     ]
    }
   ],
   "source": [
    "p = 1000\n",
    "r = .05\n",
    "t = 3\n",
    "annunity = p*(1+r)**t\n",
    "print(\"Annunity = \", annunity)"
   ]
  },
  {
   "cell_type": "markdown",
   "id": "1ef17dbc",
   "metadata": {},
   "source": [
    "# Section 5 : When the compounding happens n times per year, here is the formula:\n",
    "A = P(1+ r/n)**nt"
   ]
  },
  {
   "cell_type": "code",
   "execution_count": 7,
   "id": "9e559ba7",
   "metadata": {},
   "outputs": [
    {
     "name": "stdout",
     "output_type": "stream",
     "text": [
      "Annunity =  1161.4722313334678\n"
     ]
    }
   ],
   "source": [
    "p = 1000\n",
    "r = .05\n",
    "t = 3\n",
    "n = 12\n",
    "\n",
    "#Use extra parentheses\n",
    "annunity = p*(1+ (r/n))**(n*t)\n",
    "\n",
    "print(\"Annunity = \", annunity)"
   ]
  },
  {
   "cell_type": "markdown",
   "id": "1cc00b2c",
   "metadata": {},
   "source": [
    "# Section 6 : the irrational number e\n",
    "\n",
    "here it is e, but it is a number"
   ]
  },
  {
   "cell_type": "code",
   "execution_count": 9,
   "id": "c4aed6a6",
   "metadata": {},
   "outputs": [
    {
     "name": "stdout",
     "output_type": "stream",
     "text": [
      "2.718281828459045\n"
     ]
    }
   ],
   "source": [
    "import math\n",
    "\n",
    "print(math.e)"
   ]
  },
  {
   "cell_type": "markdown",
   "id": "059ab2a0",
   "metadata": {},
   "source": [
    "# Section 7 : Continous growth : Annuity = Pe**rt"
   ]
  },
  {
   "cell_type": "code",
   "execution_count": 1,
   "id": "f3b7f577",
   "metadata": {},
   "outputs": [
    {
     "name": "stdout",
     "output_type": "stream",
     "text": [
      "1161.7505132925521  or  1161.834242728283\n"
     ]
    }
   ],
   "source": [
    "import math\n",
    "\n",
    "p = 1000\n",
    "r = .05\n",
    "t = 3\n",
    "n = 52\n",
    "\n",
    "n_times = p*(1+(r/n))**(n*t)\n",
    "\n",
    "continous = p*math.e**(r*t)\n",
    "\n",
    "print(n_times, \" or \", continous)"
   ]
  },
  {
   "cell_type": "markdown",
   "id": "fc22081d",
   "metadata": {},
   "source": [
    "# Section 8 : Mortgage formula monthly payment = P*r/12(1+r/12)**12t/(1+r/12)**12t-1"
   ]
  },
  {
   "cell_type": "code",
   "execution_count": 2,
   "id": "fda65f3a",
   "metadata": {},
   "outputs": [
    {
     "name": "stdout",
     "output_type": "stream",
     "text": [
      "monthly payment =  1362.69\n"
     ]
    }
   ],
   "source": [
    "p = 240000\n",
    "r = .055\n",
    "t = 30\n",
    "\n",
    "#Break down that formula into parts\n",
    "numerator = (r/12)*(1+(r/12))**(12*t)\n",
    "denominator = (1+(r/12))**(12*t) - 1\n",
    "payment = round(p*numerator/denominator, 2)\n",
    "\n",
    "print(\"monthly payment = \", payment)"
   ]
  },
  {
   "cell_type": "markdown",
   "id": "e630d114",
   "metadata": {},
   "source": [
    "# Section 9 : Amortization (mortgage payment schedule)"
   ]
  },
  {
   "cell_type": "code",
   "execution_count": 3,
   "id": "5ef3e4ff",
   "metadata": {},
   "outputs": [
    {
     "name": "stdout",
     "output_type": "stream",
     "text": [
      "monthly payment =  1362.69\n",
      "month \t balance \t interest\n",
      "0 \t 240000 \t 1100.0\n",
      "24 \t 233351.69 \t 1069.53\n",
      "48 \t 225932.19 \t 1035.52\n",
      "72 \t 217652.04 \t 997.57\n",
      "96 \t 208411.46 \t 955.22\n",
      "120 \t 198098.97 \t 907.95\n",
      "144 \t 186590.25 \t 855.21\n",
      "168 \t 173746.54 \t 796.34\n",
      "192 \t 159412.99 \t 730.64\n",
      "216 \t 143416.81 \t 657.33\n",
      "240 \t 125565.08 \t 575.51\n",
      "264 \t 105642.58 \t 484.2\n",
      "288 \t 83409.15 \t 382.29\n",
      "312 \t 58596.68 \t 268.57\n",
      "336 \t 30906.0 \t 141.65\n",
      "359 \t 1359.74 \t 6.23\n"
     ]
    }
   ],
   "source": [
    "p = 240000\n",
    "r = .055\n",
    "t = 30\n",
    "\n",
    "#Break down that formula into parts\n",
    "numerator = (r/12)*(1+(r/12))**(12*t)\n",
    "denominator = (1+(r/12))**(12*t) - 1\n",
    "payment = round(p*numerator/denominator, 2)\n",
    "\n",
    "print(\"monthly payment = \", payment)\n",
    "\n",
    "#Loop to show interest amounts\n",
    "\n",
    "balance = p\n",
    "print(\"month \\t balance \\t interest\")\n",
    "for a in range(12*t):\n",
    "    interest = round(balance*r/12, 2)\n",
    "    if a%24==0 or a==359:\n",
    "        print(a, \"\\t\", balance, \"\\t\", interest)\n",
    "    balance = round(balance+interest-payment, 2)"
   ]
  },
  {
   "cell_type": "markdown",
   "id": "36707121",
   "metadata": {},
   "source": [
    "# Section 10 : Retirement account estimation"
   ]
  },
  {
   "cell_type": "code",
   "execution_count": 4,
   "id": "2faf3751",
   "metadata": {},
   "outputs": [
    {
     "name": "stdout",
     "output_type": "stream",
     "text": [
      "Annunity =  1061597.32\n",
      "Annual income from interest =  84927.79\n"
     ]
    }
   ],
   "source": [
    "p = 1000\n",
    "r = .08\n",
    "t = 38\n",
    "monthly = 350\n",
    "annunity = p\n",
    "\n",
    "# Loop for contribution and percent growth\n",
    "for a in range(12 * t):\n",
    "    annunity = (annunity + monthly) * (1 + (r/12))\n",
    "\n",
    "print(\"Annunity = \", round(annunity, 2))\n",
    "print(\"Annual income from interest = \", round(annunity * r, 2))"
   ]
  }
 ],
 "metadata": {
  "kernelspec": {
   "display_name": "Python 3",
   "language": "python",
   "name": "python3"
  },
  "language_info": {
   "codemirror_mode": {
    "name": "ipython",
    "version": 3
   },
   "file_extension": ".py",
   "mimetype": "text/x-python",
   "name": "python",
   "nbconvert_exporter": "python",
   "pygments_lexer": "ipython3",
   "version": "3.12.10"
  }
 },
 "nbformat": 4,
 "nbformat_minor": 5
}
