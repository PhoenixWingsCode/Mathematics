{
 "cells": [
  {
   "cell_type": "markdown",
   "id": "01b80c42",
   "metadata": {},
   "source": [
    "# Section 1 : Positive and negative exponents"
   ]
  },
  {
   "cell_type": "code",
   "execution_count": 1,
   "id": "2219695f",
   "metadata": {},
   "outputs": [
    {
     "name": "stdout",
     "output_type": "stream",
     "text": [
      "10\n",
      "100\n",
      "1000\n",
      "1\n",
      "0.1\n",
      "0.01\n",
      "0.001\n"
     ]
    }
   ],
   "source": [
    "print(10**1)\n",
    "print(10**2)\n",
    "print(10**3)\n",
    "\n",
    "print(10**0)\n",
    "\n",
    "print(10**-1)\n",
    "print(10**-2)\n",
    "print(10**-3)"
   ]
  },
  {
   "cell_type": "markdown",
   "id": "f188d038",
   "metadata": {},
   "source": [
    "# Section 2 : User input comes in as a string. You can find the length of the string"
   ]
  },
  {
   "cell_type": "code",
   "execution_count": 2,
   "id": "836d0d7a",
   "metadata": {},
   "outputs": [
    {
     "name": "stdout",
     "output_type": "stream",
     "text": [
      ".123\n",
      "4\n"
     ]
    }
   ],
   "source": [
    "text = input(\"Enter a number : \")\n",
    "print(text)\n",
    "\n",
    "print(len(text))\n",
    "\n",
    "# error - can't do math here\n",
    "# print(text + 3)"
   ]
  },
  {
   "cell_type": "markdown",
   "id": "82e30685",
   "metadata": {},
   "source": [
    "# Section 3 : Cash input as a float or int variable"
   ]
  },
  {
   "cell_type": "code",
   "execution_count": 4,
   "id": "7188d29b",
   "metadata": {},
   "outputs": [
    {
     "name": "stdout",
     "output_type": "stream",
     "text": [
      "8.0\n",
      "12.0\n"
     ]
    }
   ],
   "source": [
    "text = input(\"Enter a number : \")\n",
    "num = float(text)\n",
    "print(num)\n",
    "print(num + 4)"
   ]
  },
  {
   "cell_type": "markdown",
   "id": "c14ad432",
   "metadata": {},
   "source": [
    "# Section 4 : Decimal, Fraction and Percentage"
   ]
  },
  {
   "cell_type": "code",
   "execution_count": 5,
   "id": "534930ef",
   "metadata": {},
   "outputs": [
    {
     "name": "stdout",
     "output_type": "stream",
     "text": [
      "The decimal is  0.125\n",
      "The fraction is  125 / 1000\n",
      "The percent is  12.5 %\n"
     ]
    }
   ],
   "source": [
    "# Get string input, which will include a decimal number\n",
    "digits = input(\"Enter a decimal number to convert: \")\n",
    "\n",
    "#Get number of decimal places as an integer\n",
    "exponent = int(len(digits))-1\n",
    "\n",
    "#Convert the input to a float number\n",
    "n = float(digits)\n",
    "\n",
    "#Use the exponent to get the numerator\n",
    "numerator = int(n * 10**exponent)\n",
    "\n",
    "#Use the exponent to get the denominator\n",
    "denominator = 10**exponent\n",
    "\n",
    "#Percent is the first two decimal places\n",
    "percent = n * 100\n",
    "\n",
    "#Output\n",
    "print(\"The decimal is \", n)\n",
    "print(\"The fraction is \", numerator, \"/\", denominator)\n",
    "print(\"The percent is \", percent, \"%\")"
   ]
  },
  {
   "cell_type": "markdown",
   "id": "1df60664",
   "metadata": {},
   "source": [
    "# Section 5 : Factoring and solving for a variable"
   ]
  },
  {
   "cell_type": "code",
   "execution_count": 6,
   "id": "742d1b32",
   "metadata": {},
   "outputs": [
    {
     "name": "stdout",
     "output_type": "stream",
     "text": [
      "x = (-b - sqrt(-4*a*c + b**2))/(2*a)\n",
      "x = (-b + sqrt(-4*a*c + b**2))/(2*a)\n"
     ]
    }
   ],
   "source": [
    "from sympy import *\n",
    "import math\n",
    "\n",
    "#Identify all variables\n",
    "var('a b c d x')\n",
    "\n",
    "#Left and right sides of the equal sign\n",
    "left = 0\n",
    "right = a*x**2 + b*x + c\n",
    "\n",
    "#Variable to solve for\n",
    "variable = x\n",
    "\n",
    "#Sympy equation left = right\n",
    "eq1 = Eq(left, right)\n",
    "\n",
    "#Sympy solve for that variable\n",
    "sol = solve(eq1, variable)\n",
    "\n",
    "#Show factored results\n",
    "for s in sol:\n",
    "    print(variable, \"=\", s)"
   ]
  }
 ],
 "metadata": {
  "kernelspec": {
   "display_name": "Python 3",
   "language": "python",
   "name": "python3"
  },
  "language_info": {
   "codemirror_mode": {
    "name": "ipython",
    "version": 3
   },
   "file_extension": ".py",
   "mimetype": "text/x-python",
   "name": "python",
   "nbconvert_exporter": "python",
   "pygments_lexer": "ipython3",
   "version": "3.12.10"
  }
 },
 "nbformat": 4,
 "nbformat_minor": 5
}
