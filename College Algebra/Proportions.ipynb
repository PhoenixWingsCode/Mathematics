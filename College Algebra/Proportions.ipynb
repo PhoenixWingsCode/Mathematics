{
 "cells": [
  {
   "cell_type": "markdown",
   "id": "cb7f4f3e",
   "metadata": {},
   "source": [
    "# Section 1\n",
    "\n",
    "Numerator n2 is zero\n",
    "\n",
    "Set up a proportion : \n",
    "n1/d1 = n2/d2"
   ]
  },
  {
   "cell_type": "code",
   "execution_count": 2,
   "id": "5fc948ec",
   "metadata": {},
   "outputs": [
    {
     "name": "stdout",
     "output_type": "stream",
     "text": [
      "n2 ==  8.0\n"
     ]
    }
   ],
   "source": [
    "#Put a zero in for the unknown value\n",
    "n1 = 1\n",
    "d1 = 2\n",
    "n2 = 0\n",
    "d2 = 16\n",
    "\n",
    "if n2 == 0:\n",
    "    answer = d2 * n1 / d1\n",
    "    print(\"n2 == \", answer)\n",
    "\n",
    "if d2 == 0:\n",
    "    answer = n2 * d1/ n1\n",
    "    print(\"d2 == \", answer)"
   ]
  },
  {
   "cell_type": "markdown",
   "id": "28fcc47b",
   "metadata": {},
   "source": [
    "# Section 2\n",
    "\n",
    "Denominator n2 is zero\n",
    "\n",
    "Set up a proportion : \n",
    "n1/d1 = n2/d2"
   ]
  },
  {
   "cell_type": "code",
   "execution_count": 3,
   "id": "47893ffe",
   "metadata": {},
   "outputs": [
    {
     "name": "stdout",
     "output_type": "stream",
     "text": [
      "d2 ==  8.0\n"
     ]
    }
   ],
   "source": [
    "#Put a zero in for the unknown value\n",
    "n1 = 1\n",
    "d1 = 2\n",
    "n2 = 4\n",
    "d2 = 0\n",
    "\n",
    "if n2 == 0:\n",
    "    answer = d2 * n1 / d1\n",
    "    print(\"n2 == \", answer)\n",
    "\n",
    "if d2 == 0:\n",
    "    answer = n2 * d1/ n1\n",
    "    print(\"d2 == \", answer)"
   ]
  },
  {
   "cell_type": "markdown",
   "id": "89e18609",
   "metadata": {},
   "source": [
    "# Section 3\n",
    "\n",
    "The SymPy library in Python is a powerful tool for symbolic mathematics. It allows you to perform algebraic manipulations, calculus, equation solving, and more, all symbolically rather than numerically. This makes it ideal for tasks that require exact solutions or symbolic representation.\n",
    "\n",
    "Key Features of SymPy:\n",
    "Symbolic Computation: Work with symbols instead of numerical values.\n",
    "Algebra: Simplify, expand, factorize, and manipulate algebraic expressions.\n",
    "Calculus: Perform differentiation, integration, limits, and series expansions.\n",
    "Equation Solving: Solve algebraic, differential, and systems of equations.\n",
    "Matrix Operations: Handle symbolic matrices and perform operations like inversion, eigenvalue computation, etc.\n",
    "Plotting: Visualize mathematical functions and expressions.\n",
    "Code Generation: Convert symbolic expressions into code for other programming languages."
   ]
  },
  {
   "cell_type": "code",
   "execution_count": null,
   "id": "5a72974a",
   "metadata": {},
   "outputs": [
    {
     "name": "stdout",
     "output_type": "stream",
     "text": [
      "x =  [2]\n",
      "x =  [-sqrt(2), sqrt(2)]\n",
      "x =  [-2, 2]\n",
      "x =  [2]\n"
     ]
    }
   ],
   "source": [
    "import sympy\n",
    "from sympy import symbols\n",
    "from sympy.solvers import solve\n",
    "\n",
    "x = symbols('x')\n",
    "\n",
    "#Put the equation here\n",
    "#here eq is set equal to 0\n",
    "\n",
    "#For installing any python library while running juypter notebook in vs code then ! pip install [library_name] \n",
    "#[] not be included\n",
    "eq = x - 2\n",
    "\n",
    "print(\"x = \",solve(eq,x))\n",
    "\n",
    "eq = x**2 - 2\n",
    "\n",
    "print(\"x = \",solve(eq,x))\n",
    "\n",
    "eq = x**2 - 4\n",
    "\n",
    "print(\"x = \",solve(eq,x))\n",
    "\n",
    "eq = 2*x - 4\n",
    "\n",
    "print(\"x = \",solve(eq,x))\n"
   ]
  },
  {
   "cell_type": "markdown",
   "id": "084a096c",
   "metadata": {},
   "source": [
    "# Section 4"
   ]
  },
  {
   "cell_type": "code",
   "execution_count": null,
   "id": "50953674",
   "metadata": {},
   "outputs": [
    {
     "name": "stdout",
     "output_type": "stream",
     "text": [
      "x =  [-1/2]\n"
     ]
    }
   ],
   "source": [
    "import sympy\n",
    "from sympy import symbols\n",
    "from sympy.solvers import solve\n",
    "\n",
    "x = symbols('x')\n",
    "\n",
    "#Put the equation here\n",
    "#here eq is set equal to 0\n",
    "eq = 2 * x + 1\n",
    "\n",
    "print(\"x = \",solve(eq,x))\n",
    "\n",
    "#The answer in the brackets shows that it is a finite set"
   ]
  },
  {
   "cell_type": "markdown",
   "id": "211819d4",
   "metadata": {},
   "source": [
    "# Section 5"
   ]
  },
  {
   "cell_type": "code",
   "execution_count": 10,
   "id": "5fae0ab8",
   "metadata": {},
   "outputs": [
    {
     "name": "stdout",
     "output_type": "stream",
     "text": [
      "x =  [-sqrt(2)*I/2, sqrt(2)*I/2]\n"
     ]
    }
   ],
   "source": [
    "import sympy\n",
    "from sympy import symbols\n",
    "from sympy.solvers import solve\n",
    "\n",
    "x = symbols('x')\n",
    "\n",
    "#Put the equation here\n",
    "#here eq is set equal to 0\n",
    "eq = 2 * x ** 2 + 1\n",
    "\n",
    "print(\"x = \",solve(eq,x))\n",
    "\n",
    "#Here I is an imaginary number"
   ]
  },
  {
   "cell_type": "markdown",
   "id": "cfac1ff8",
   "metadata": {},
   "source": [
    "# Section 6"
   ]
  },
  {
   "cell_type": "code",
   "execution_count": 11,
   "id": "3e26dc69",
   "metadata": {},
   "outputs": [
    {
     "name": "stdout",
     "output_type": "stream",
     "text": [
      "x =  [2]\n"
     ]
    }
   ],
   "source": [
    "import sympy\n",
    "from sympy import symbols\n",
    "from sympy.solvers import solve\n",
    "\n",
    "x = symbols('x')\n",
    "\n",
    "#Put the equation here\n",
    "#here eq is set equal to 0\n",
    "eq = input(\"Enter equation : 0 = \")\n",
    "\n",
    "print(\"x = \",solve(eq,x))\n",
    "\n",
    "#Here I is an imaginary number"
   ]
  },
  {
   "cell_type": "markdown",
   "id": "86a35f53",
   "metadata": {},
   "source": [
    "# Section 7"
   ]
  },
  {
   "cell_type": "code",
   "execution_count": 12,
   "id": "164fb478",
   "metadata": {},
   "outputs": [
    {
     "name": "stdout",
     "output_type": "stream",
     "text": [
      "x =  2\n"
     ]
    }
   ],
   "source": [
    "import sympy\n",
    "from sympy import symbols\n",
    "from sympy.solvers import solve\n",
    "\n",
    "x = symbols('x')\n",
    "\n",
    "#Put the equation here\n",
    "#here eq is set equal to 0\n",
    "eq = 2*x - 4\n",
    "solution = solve(eq,x)\n",
    "\n",
    "print(\"x = \",solution[0])\n",
    "\n",
    "#Here the solution variable has only one solution so index is zero"
   ]
  },
  {
   "cell_type": "markdown",
   "id": "df2f4c01",
   "metadata": {},
   "source": [
    "# Section 8"
   ]
  },
  {
   "cell_type": "code",
   "execution_count": 13,
   "id": "645f8993",
   "metadata": {},
   "outputs": [
    {
     "name": "stdout",
     "output_type": "stream",
     "text": [
      "x =  2\n"
     ]
    }
   ],
   "source": [
    "import sympy\n",
    "from sympy import symbols\n",
    "from sympy.solvers import solve\n",
    "\n",
    "x = symbols('x')\n",
    "\n",
    "#Put the equation here\n",
    "#here eq is set equal to 0\n",
    "eq = 2*x - 4\n",
    "solution = solve(eq,x)\n",
    "\n",
    "for s in solution:\n",
    "    print(\"x = \",s)\n",
    "\n",
    "#Mutliple answers and do not know how many answers"
   ]
  },
  {
   "cell_type": "markdown",
   "id": "c99d1b74",
   "metadata": {},
   "source": [
    "# Section 9"
   ]
  },
  {
   "cell_type": "code",
   "execution_count": 14,
   "id": "79ac66a2",
   "metadata": {},
   "outputs": [
    {
     "name": "stdout",
     "output_type": "stream",
     "text": [
      "x =  -2\n",
      "x =  1\n",
      "x =  3\n"
     ]
    }
   ],
   "source": [
    "import sympy\n",
    "from sympy import symbols\n",
    "from sympy.solvers import solve\n",
    "\n",
    "x = symbols('x')\n",
    "\n",
    "#Put the equation here\n",
    "#here eq is set equal to 0\n",
    "eq = input(\"Enter equation: 0 =\")\n",
    "solution = solve(eq,x)\n",
    "\n",
    "for s in solution:\n",
    "    print(\"x = \",s)\n",
    "\n",
    "#Mutliple answers and do not know how many answers"
   ]
  },
  {
   "cell_type": "markdown",
   "id": "93d60cb0",
   "metadata": {},
   "source": [
    "# Section 10"
   ]
  },
  {
   "cell_type": "code",
   "execution_count": 15,
   "id": "1245debd",
   "metadata": {},
   "outputs": [
    {
     "name": "stdout",
     "output_type": "stream",
     "text": [
      "x =  -5\n"
     ]
    }
   ],
   "source": [
    "from sympy import *\n",
    "\n",
    "var('x y') #variable declaration\n",
    "\n",
    "#First equation set equal to zero, ready to solve\n",
    "first = 2*x + 10\n",
    "\n",
    "#Sympy syntax for equation equal to zero, ready to factor\n",
    "eq1 = Eq(first, 0)\n",
    "\n",
    "#Sympy solve for x\n",
    "sol = solve(eq1,x)\n",
    "\n",
    "#Show factored results\n",
    "print(\"x = \", sol[0])"
   ]
  },
  {
   "cell_type": "markdown",
   "id": "8edfec96",
   "metadata": {},
   "source": [
    "# Section 11"
   ]
  },
  {
   "cell_type": "code",
   "execution_count": null,
   "id": "e4c2e7aa",
   "metadata": {},
   "outputs": [
    {
     "name": "stdout",
     "output_type": "stream",
     "text": [
      "x =  y/2 - 5\n"
     ]
    }
   ],
   "source": [
    "from sympy import *\n",
    "\n",
    "var('x y') #variable declaration\n",
    "\n",
    "#First equation set equal to zero, ready to solve\n",
    "first = 2*x + 10\n",
    "\n",
    "#Sympy syntax for equation equal to zero, ready to factor\n",
    "eq1 = Eq(first,y)\n",
    "\n",
    "#Sympy solve for x\n",
    "sol = solve(eq1,x)\n",
    "\n",
    "#Show factored results\n",
    "print(\"x = \", sol[0])"
   ]
  },
  {
   "cell_type": "markdown",
   "id": "be7f16a5",
   "metadata": {},
   "source": [
    "# Section 12"
   ]
  },
  {
   "cell_type": "code",
   "execution_count": 17,
   "id": "e3904a7d",
   "metadata": {},
   "outputs": [
    {
     "name": "stdout",
     "output_type": "stream",
     "text": [
      "x =  y - 5\n"
     ]
    }
   ],
   "source": [
    "from sympy import *\n",
    "\n",
    "var('x y') #variable declaration\n",
    "\n",
    "#First equation set equal to zero, ready to solve\n",
    "first = 2*x + 10 - y\n",
    "\n",
    "#Sympy syntax for equation equal to zero, ready to factor\n",
    "eq1 = Eq(first,y)\n",
    "\n",
    "#Sympy solve for x\n",
    "sol = solve(eq1,x)\n",
    "\n",
    "#Show factored results\n",
    "print(\"x = \", sol[0])"
   ]
  },
  {
   "cell_type": "markdown",
   "id": "30d497f8",
   "metadata": {},
   "source": [
    "# Section 13"
   ]
  },
  {
   "cell_type": "code",
   "execution_count": 3,
   "id": "d7921d1a",
   "metadata": {},
   "outputs": [
    {
     "data": {
      "text/latex": [
       "$\\displaystyle 2 \\left(x + 5 y + 2\\right)$"
      ],
      "text/plain": [
       "2*(x + 5*y + 2)"
      ]
     },
     "execution_count": 3,
     "metadata": {},
     "output_type": "execute_result"
    }
   ],
   "source": [
    "from sympy import *\n",
    "\n",
    "#Factoring\n",
    "\n",
    "var('x y')\n",
    "\n",
    "#Equation set equal to zero, ready to solve\n",
    "eq = 2*x + 10*y + 4\n",
    "\n",
    "sympy.factor(eq)"
   ]
  },
  {
   "cell_type": "markdown",
   "id": "5db6c3fb",
   "metadata": {},
   "source": [
    "# Section 14"
   ]
  },
  {
   "cell_type": "code",
   "execution_count": 4,
   "id": "d2c2ed7a",
   "metadata": {},
   "outputs": [
    {
     "data": {
      "text/latex": [
       "$\\displaystyle \\left(x - 2\\right) \\left(x + 2\\right)$"
      ],
      "text/plain": [
       "(x - 2)*(x + 2)"
      ]
     },
     "execution_count": 4,
     "metadata": {},
     "output_type": "execute_result"
    }
   ],
   "source": [
    "from sympy import *\n",
    "\n",
    "#Factoring\n",
    "\n",
    "var('x y')\n",
    "\n",
    "#Equation set equal to zero, ready to solve\n",
    "eq = x**2 - 4\n",
    "\n",
    "sympy.factor(eq)"
   ]
  },
  {
   "cell_type": "markdown",
   "id": "4724bef5",
   "metadata": {},
   "source": [
    "# Section 15"
   ]
  },
  {
   "cell_type": "code",
   "execution_count": 5,
   "id": "f46d0fba",
   "metadata": {},
   "outputs": [
    {
     "data": {
      "text/latex": [
       "$\\displaystyle \\left(x - 3\\right) \\left(x - 1\\right) \\left(x + 2\\right)$"
      ],
      "text/plain": [
       "(x - 3)*(x - 1)*(x + 2)"
      ]
     },
     "execution_count": 5,
     "metadata": {},
     "output_type": "execute_result"
    }
   ],
   "source": [
    "from sympy import *\n",
    "\n",
    "#Factoring\n",
    "\n",
    "var('x y')\n",
    "\n",
    "#Equation set equal to zero, ready to solve\n",
    "eq = x**3 - 2*x**2 - 5*x + 6\n",
    "\n",
    "sympy.factor(eq)"
   ]
  },
  {
   "cell_type": "markdown",
   "id": "ac45df77",
   "metadata": {},
   "source": [
    "# Section 16"
   ]
  },
  {
   "cell_type": "code",
   "execution_count": 1,
   "id": "ae1af766",
   "metadata": {},
   "outputs": [],
   "source": [
    "#converts input string (including fractions) to float\n",
    "def string_fraction(in_string):\n",
    "    if \"/\" in in_string:\n",
    "        nd = in_string.split(\"/\")\n",
    "        n = float(nd[0])\n",
    "        d = float(nd[1])\n",
    "        ans = n/d\n",
    "        return ans\n",
    "    else:\n",
    "        ans = float(in_string)\n",
    "        return ans\n",
    "\n",
    "#One-step multiply\n",
    "def one_step_multiply():\n",
    "    #Uses string_frac(<input string>)\n",
    "    import random\n",
    "    a = random.randint(1,11) #Random integer from 1 to 11\n",
    "    b = random.randint(2,24) \n",
    "    print(a, \"x = \", b)\n",
    "    ans_in = (input(\"x = \"))\n",
    "    answer = b/a\n",
    "    #test\n",
    "    if string_fraction(ans_in)==answer:\n",
    "        print(\"Correct! \\n\")\n",
    "    else:\n",
    "        print(\"Try again\")\n",
    "        print(\"The correct answer is \", answer, \"\\n\")\n",
    "\n",
    "#Simplest one-step addition\n",
    "def one_step_add():\n",
    "    import random\n",
    "    #Display problem\n",
    "    a = random.randint(-4, 10)\n",
    "    b = random.randint(2, 24)\n",
    "    print(\"x + \", a, \" = \", b)\n",
    "    ans = float(input(\"x = \"))\n",
    "    answer = b-a\n",
    "    #Test input\n",
    "    if ans == answer:\n",
    "        print(\"Correct \\n\")\n",
    "    else:\n",
    "        print(\"Try again\")\n",
    "        print(\"The correct answer is \", answer, \"\\n\")\n",
    "\n",
    "#Simplest one-step subtraction with negative numbers\n",
    "def one_step_add():\n",
    "    import random\n",
    "    #Display problem\n",
    "    a = random.randint(-19, -1)\n",
    "    b = random.randint(2, 24)\n",
    "    print(\"x + \", a, \" = \", b)\n",
    "    ans = float(input(\"x = \"))\n",
    "    answer = b-a\n",
    "    #Test input\n",
    "    if ans == answer:\n",
    "        print(\"Correct \\n\")\n",
    "    else:\n",
    "        print(\"Try again\")\n",
    "        print(\"The correct answer is \", answer, \"\\n\")        "
   ]
  }
 ],
 "metadata": {
  "kernelspec": {
   "display_name": "Python 3",
   "language": "python",
   "name": "python3"
  },
  "language_info": {
   "codemirror_mode": {
    "name": "ipython",
    "version": 3
   },
   "file_extension": ".py",
   "mimetype": "text/x-python",
   "name": "python",
   "nbconvert_exporter": "python",
   "pygments_lexer": "ipython3",
   "version": "3.12.10"
  }
 },
 "nbformat": 4,
 "nbformat_minor": 5
}
