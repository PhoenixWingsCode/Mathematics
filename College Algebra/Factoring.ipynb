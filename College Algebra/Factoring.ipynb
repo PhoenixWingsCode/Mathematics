{
 "cells": [
  {
   "cell_type": "markdown",
   "id": "7192a2eb",
   "metadata": {},
   "source": [
    "# Section 1 : \n",
    "The modulus (%) finds the remainder"
   ]
  },
  {
   "cell_type": "code",
   "execution_count": null,
   "id": "b25989d6",
   "metadata": {},
   "outputs": [
    {
     "name": "stdout",
     "output_type": "stream",
     "text": [
      "1\n"
     ]
    }
   ],
   "source": [
    "print(31 % 10)\n",
    "\n",
    "#If the remainder is zero that means that the number dividing is the factor"
   ]
  },
  {
   "cell_type": "markdown",
   "id": "6f78b1fb",
   "metadata": {},
   "source": [
    "# Section 2 : \n",
    "Use the modulus in a loop to find factors"
   ]
  },
  {
   "cell_type": "code",
   "execution_count": 2,
   "id": "8f28ce01",
   "metadata": {},
   "outputs": [
    {
     "name": "stdout",
     "output_type": "stream",
     "text": [
      "1\n",
      "2\n",
      "3\n",
      "4\n",
      "6\n",
      "12\n"
     ]
    }
   ],
   "source": [
    "number = 12\n",
    "\n",
    "#Find all factors\n",
    "for test_factor in range(1, number+1):\n",
    "    if number % test_factor == 0:\n",
    "        print(test_factor)"
   ]
  },
  {
   "cell_type": "markdown",
   "id": "a0e37bd0",
   "metadata": {},
   "source": [
    "# Section 3 : \n",
    "Reduce fractions to lowest terms"
   ]
  },
  {
   "cell_type": "code",
   "execution_count": 1,
   "id": "8cb12df5",
   "metadata": {},
   "outputs": [
    {
     "name": "stdout",
     "output_type": "stream",
     "text": [
      "original :  12 / 24\n",
      "reduced :  1 / 2\n"
     ]
    }
   ],
   "source": [
    "numerator = 12\n",
    "denominator = 24\n",
    "factor = 1\n",
    "\n",
    "#Find greatest common factor\n",
    "\n",
    "for test_factor in range(1, denominator + 1):\n",
    "    if numerator % test_factor == 0 and denominator % test_factor == 0:\n",
    "        factor = test_factor\n",
    "\n",
    "#Divide out greatest common factor\n",
    "n = int(numerator/factor)\n",
    "d = int(denominator/factor)\n",
    "\n",
    "print(\"original : \", numerator, \"/\", denominator)\n",
    "print(\"reduced : \", n, \"/\", d)"
   ]
  },
  {
   "cell_type": "markdown",
   "id": "45b931f6",
   "metadata": {},
   "source": [
    "# Section 4 : \n",
    "You can add this code to the decimal-to-fraction code"
   ]
  },
  {
   "cell_type": "code",
   "execution_count": 3,
   "id": "8c8fd481",
   "metadata": {},
   "outputs": [
    {
     "name": "stdout",
     "output_type": "stream",
     "text": [
      "original :  125 / 1000\n",
      "reduced :  1 / 8\n"
     ]
    }
   ],
   "source": [
    "#Get the decimal number to convert\n",
    "digits = input(\"Enter a decimal number to convert : \")\n",
    "\n",
    "#Convert to fraction\n",
    "exponent = int(len(digits)) - 1\n",
    "n = float(digits)\n",
    "numerator = int(n * 10**exponent)\n",
    "denominator = 10**exponent\n",
    "\n",
    "#Reduce that fraction\n",
    "factor = 1\n",
    "for test_factor in range(1, denominator + 1):\n",
    "    if numerator % test_factor == 0 and denominator % test_factor == 0:\n",
    "        factor = test_factor\n",
    "\n",
    "#Divide out greatest common factor\n",
    "n = int(numerator/factor)\n",
    "d = int(denominator/factor)\n",
    "\n",
    "print(\"original : \", numerator, \"/\", denominator)\n",
    "print(\"reduced : \", n, \"/\", d)"
   ]
  },
  {
   "cell_type": "markdown",
   "id": "ee64f1df",
   "metadata": {},
   "source": [
    "# Section 5 :\n",
    "Next Level ... Factoring out square roots"
   ]
  },
  {
   "cell_type": "code",
   "execution_count": 5,
   "id": "2c143672",
   "metadata": {},
   "outputs": [
    {
     "name": "stdout",
     "output_type": "stream",
     "text": [
      "5.0\n",
      "4.898979485566356\n"
     ]
    }
   ],
   "source": [
    "import math\n",
    "\n",
    "print(math.sqrt(25))\n",
    "\n",
    "print(math.sqrt(24))"
   ]
  },
  {
   "cell_type": "markdown",
   "id": "36e84ea8",
   "metadata": {},
   "source": [
    "# Section 6 :\n",
    "Divide out any perfect square factors. For example :  \n",
    "sqrt of 12 = sqrt of 4 * 3 = 2 * sqrt of 3\n",
    "Because 4 is a square number, the square root of 4 is now outside the radical."
   ]
  },
  {
   "cell_type": "code",
   "execution_count": 6,
   "id": "2d449509",
   "metadata": {},
   "outputs": [
    {
     "name": "stdout",
     "output_type": "stream",
     "text": [
      "n =  12\n",
      "Square rooted factor =  2\n",
      "Square factor =  4\n",
      "Integer =  3.0\n"
     ]
    }
   ],
   "source": [
    "import math\n",
    "\n",
    "#number to factor \n",
    "n = 12\n",
    "\n",
    "#This variable will change\n",
    "max_factor = 1\n",
    "\n",
    "#The key ingredient\n",
    "upper_limit = math.floor(math.sqrt(n)) + 1 #floor to drop all the decimals and not getting rounded like ceiling\n",
    "\n",
    "#Find square factors\n",
    "for maybe_factor in range(1, upper_limit):\n",
    "    if n % (maybe_factor**2) == 0:\n",
    "        max_factor = maybe_factor\n",
    "\n",
    "#Results so far \n",
    "print(\"n = \", n)\n",
    "print('Square rooted factor = ', max_factor)\n",
    "print(\"Square factor = \", max_factor**2)\n",
    "print(\"Integer = \", n/(max_factor**2))"
   ]
  },
  {
   "cell_type": "markdown",
   "id": "2076aa79",
   "metadata": {},
   "source": [
    "# Section 7 :\n",
    "Using Sympy to make this look nice"
   ]
  },
  {
   "cell_type": "code",
   "execution_count": 7,
   "id": "4ef0e63f",
   "metadata": {},
   "outputs": [
    {
     "data": {
      "text/latex": [
       "$\\displaystyle 2 \\sqrt{3}$"
      ],
      "text/plain": [
       "2*sqrt(3)"
      ]
     },
     "execution_count": 7,
     "metadata": {},
     "output_type": "execute_result"
    }
   ],
   "source": [
    "import math\n",
    "import sympy\n",
    "from sympy import symbols\n",
    "\n",
    "#Use these variables\n",
    "upper_limit = math.floor(math.sqrt(n)) + 1\n",
    "max_factor = 1\n",
    "other_factor = 1\n",
    "square_factor = 1\n",
    "\n",
    "#Slightly different variable strategy\n",
    "for maybe_factor in range(1, upper_limit):\n",
    "    if n % (maybe_factor**2) == 0:\n",
    "        max_factor = maybe_factor**2\n",
    "\n",
    "#Divide out the greatest square factor\n",
    "other_factor = n/max_factor\n",
    "\n",
    "#Other variables\n",
    "square_root = int(math.sqrt(max_factor))\n",
    "other_factor = int(other_factor)\n",
    "output = square_root * sympy.sqrt(other_factor)\n",
    "\n",
    "#Sympy output without print statement - must be the last line\n",
    "output"
   ]
  }
 ],
 "metadata": {
  "kernelspec": {
   "display_name": "Python 3",
   "language": "python",
   "name": "python3"
  },
  "language_info": {
   "codemirror_mode": {
    "name": "ipython",
    "version": 3
   },
   "file_extension": ".py",
   "mimetype": "text/x-python",
   "name": "python",
   "nbconvert_exporter": "python",
   "pygments_lexer": "ipython3",
   "version": "3.12.10"
  }
 },
 "nbformat": 4,
 "nbformat_minor": 5
}
