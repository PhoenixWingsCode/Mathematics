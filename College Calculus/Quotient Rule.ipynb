{
 "cells": [
  {
   "cell_type": "markdown",
   "id": "40360063",
   "metadata": {},
   "source": [
    "# Section 1 : Quotient Rule"
   ]
  },
  {
   "cell_type": "code",
   "execution_count": 1,
   "id": "d01ba39b",
   "metadata": {},
   "outputs": [
    {
     "data": {
      "text/latex": [
       "$\\displaystyle \\frac{x^{3} - 1}{x^{2} - 1}$"
      ],
      "text/plain": [
       "(x**3 - 1)/(x**2 - 1)"
      ]
     },
     "execution_count": 1,
     "metadata": {},
     "output_type": "execute_result"
    }
   ],
   "source": [
    "import sympy\n",
    "from sympy import symbols\n",
    "\n",
    "x, y = symbols('x y')\n",
    "\n",
    "eq = (x**3 - 1)/(x**2 - 1)\n",
    "derivative = sympy.diff(eq, x)\n",
    "eq"
   ]
  },
  {
   "cell_type": "code",
   "execution_count": 2,
   "id": "b443c3c2",
   "metadata": {},
   "outputs": [
    {
     "data": {
      "text/latex": [
       "$\\displaystyle \\frac{3 x^{2}}{x^{2} - 1} - \\frac{2 x \\left(x^{3} - 1\\right)}{\\left(x^{2} - 1\\right)^{2}}$"
      ],
      "text/plain": [
       "3*x**2/(x**2 - 1) - 2*x*(x**3 - 1)/(x**2 - 1)**2"
      ]
     },
     "execution_count": 2,
     "metadata": {},
     "output_type": "execute_result"
    }
   ],
   "source": [
    "import sympy\n",
    "from sympy import symbols\n",
    "\n",
    "x, y = symbols('x y')\n",
    "\n",
    "eq = (x**3 - 1)/(x**2 - 1)\n",
    "derivative = sympy.diff(eq, x)\n",
    "derivative"
   ]
  },
  {
   "cell_type": "code",
   "execution_count": 3,
   "id": "503db434",
   "metadata": {},
   "outputs": [
    {
     "name": "stdout",
     "output_type": "stream",
     "text": [
      "0\n"
     ]
    }
   ],
   "source": [
    "xValue = 0\n",
    "answer = derivative.subs(x, xValue)\n",
    "print(answer)"
   ]
  }
 ],
 "metadata": {
  "kernelspec": {
   "display_name": "Python 3",
   "language": "python",
   "name": "python3"
  },
  "language_info": {
   "codemirror_mode": {
    "name": "ipython",
    "version": 3
   },
   "file_extension": ".py",
   "mimetype": "text/x-python",
   "name": "python",
   "nbconvert_exporter": "python",
   "pygments_lexer": "ipython3",
   "version": "3.12.10"
  }
 },
 "nbformat": 4,
 "nbformat_minor": 5
}
