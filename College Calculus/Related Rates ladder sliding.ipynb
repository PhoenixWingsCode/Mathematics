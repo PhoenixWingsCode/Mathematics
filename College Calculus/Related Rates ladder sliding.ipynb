{
 "cells": [
  {
   "cell_type": "markdown",
   "id": "c72f88cb",
   "metadata": {},
   "source": [
    "# Section 1 : \n",
    "\n",
    "Example : x**2 + y**2 = 25"
   ]
  },
  {
   "cell_type": "code",
   "execution_count": 1,
   "id": "cba881bf",
   "metadata": {},
   "outputs": [
    {
     "data": {
      "text/latex": [
       "$\\displaystyle x^{2} + y^{2} - 25$"
      ],
      "text/plain": [
       "x**2 + y**2 - 25"
      ]
     },
     "execution_count": 1,
     "metadata": {},
     "output_type": "execute_result"
    }
   ],
   "source": [
    "import sympy\n",
    "from sympy import symbols, Derivative\n",
    "\n",
    "x, y, t = sympy.symbols('x y t')\n",
    "\n",
    "# 0 = expression\n",
    "expression = x**2 + y**2 -25\n",
    "\n",
    "# to see the expression, make this the last line\n",
    "expression"
   ]
  },
  {
   "cell_type": "code",
   "execution_count": 3,
   "id": "1b52b4e0",
   "metadata": {},
   "outputs": [
    {
     "data": {
      "text/latex": [
       "$\\displaystyle 2 x \\frac{d}{d t} x + 2 y \\frac{d}{d t} y$"
      ],
      "text/plain": [
       "2*x*Derivative(x, t) + 2*y*Derivative(y, t)"
      ]
     },
     "execution_count": 3,
     "metadata": {},
     "output_type": "execute_result"
    }
   ],
   "source": [
    "# to see the derivative\n",
    "derivative = expression.diff(x) * Derivative(x, t) + expression.diff(y) * Derivative(y, t)\n",
    "derivative"
   ]
  },
  {
   "cell_type": "markdown",
   "id": "2c45980b",
   "metadata": {},
   "source": [
    "# Section 2 : \n",
    "\n",
    "subsititute for dx/dt and dy/dt"
   ]
  },
  {
   "cell_type": "code",
   "execution_count": 4,
   "id": "781cea13",
   "metadata": {},
   "outputs": [
    {
     "data": {
      "text/latex": [
       "$\\displaystyle 2 x \\frac{d}{d t} x + 2 y \\frac{d}{d t} y$"
      ],
      "text/plain": [
       "2*x*Derivative(x, t) + 2*y*Derivative(y, t)"
      ]
     },
     "execution_count": 4,
     "metadata": {},
     "output_type": "execute_result"
    }
   ],
   "source": [
    "import sympy\n",
    "from sympy import symbols, Derivative, solve\n",
    "\n",
    "x, y, t = sympy.symbols('x y t')\n",
    "\n",
    "# broken down so the subsitution works\n",
    "expression = x**2 + y**2 - 25\n",
    "expression\n",
    "\n",
    "dx = expression.diff(x)\n",
    "dy = expression.diff(y)\n",
    "\n",
    "dxdt = Derivative(x, t)\n",
    "dydt = Derivative(y, t)\n",
    "\n",
    "der = dx * dxdt + dy * dydt\n",
    "der"
   ]
  },
  {
   "cell_type": "code",
   "execution_count": 5,
   "id": "e32d7fce",
   "metadata": {},
   "outputs": [
    {
     "data": {
      "text/latex": [
       "$\\displaystyle 6 x + 2 y \\frac{d}{d t} y$"
      ],
      "text/plain": [
       "6*x + 2*y*Derivative(y, t)"
      ]
     },
     "execution_count": 5,
     "metadata": {},
     "output_type": "execute_result"
    }
   ],
   "source": [
    "# this works to sub for dxdt\n",
    "der.subs(dxdt, 3)"
   ]
  },
  {
   "cell_type": "code",
   "execution_count": 6,
   "id": "806f9dbb",
   "metadata": {},
   "outputs": [
    {
     "data": {
      "text/latex": [
       "$\\displaystyle 8 \\frac{d}{d t} y + 12$"
      ],
      "text/plain": [
       "8*Derivative(y, t) + 12"
      ]
     },
     "execution_count": 6,
     "metadata": {},
     "output_type": "execute_result"
    }
   ],
   "source": [
    "# plugin all unknowns but one\n",
    "plugin = der.subs([(dx,6), (dy,8), (dxdt,2)])\n",
    "plugin"
   ]
  },
  {
   "cell_type": "code",
   "execution_count": 7,
   "id": "262a589d",
   "metadata": {},
   "outputs": [
    {
     "data": {
      "text/plain": [
       "[-3/2]"
      ]
     },
     "execution_count": 7,
     "metadata": {},
     "output_type": "execute_result"
    }
   ],
   "source": [
    "# solve for digit\n",
    "eq = sympy.Eq(plugin, 0)\n",
    "answer = sympy.solve(eq, dydt)\n",
    "answer"
   ]
  }
 ],
 "metadata": {
  "kernelspec": {
   "display_name": "Python 3",
   "language": "python",
   "name": "python3"
  },
  "language_info": {
   "codemirror_mode": {
    "name": "ipython",
    "version": 3
   },
   "file_extension": ".py",
   "mimetype": "text/x-python",
   "name": "python",
   "nbconvert_exporter": "python",
   "pygments_lexer": "ipython3",
   "version": "3.12.10"
  }
 },
 "nbformat": 4,
 "nbformat_minor": 5
}
