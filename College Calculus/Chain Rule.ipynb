{
 "cells": [
  {
   "cell_type": "markdown",
   "id": "74889f96",
   "metadata": {},
   "source": [
    "# Section 1 : Chain Rule\n",
    "\n",
    "Multiply by the derivative of the inner function"
   ]
  },
  {
   "cell_type": "code",
   "execution_count": 4,
   "id": "d55a22cd",
   "metadata": {},
   "outputs": [
    {
     "data": {
      "text/latex": [
       "$\\displaystyle \\left(x^{2} + 8\\right)^{4}$"
      ],
      "text/plain": [
       "(x**2 + 8)**4"
      ]
     },
     "execution_count": 4,
     "metadata": {},
     "output_type": "execute_result"
    }
   ],
   "source": [
    "import sympy\n",
    "from sympy import symbols\n",
    "\n",
    "x, y = symbols('x y')\n",
    "\n",
    "eq = (x**2 + 8)**4\n",
    "derivative = sympy.diff(eq, x)\n",
    "eq"
   ]
  },
  {
   "cell_type": "code",
   "execution_count": 5,
   "id": "e50dd6dd",
   "metadata": {},
   "outputs": [
    {
     "data": {
      "text/latex": [
       "$\\displaystyle 8 x \\left(x^{2} + 8\\right)^{3}$"
      ],
      "text/plain": [
       "8*x*(x**2 + 8)**3"
      ]
     },
     "execution_count": 5,
     "metadata": {},
     "output_type": "execute_result"
    }
   ],
   "source": [
    "import sympy\n",
    "from sympy import symbols\n",
    "\n",
    "x, y = symbols('x y')\n",
    "\n",
    "eq = (x**2 + 8)**4\n",
    "derivative = sympy.diff(eq, x)\n",
    "derivative"
   ]
  },
  {
   "cell_type": "markdown",
   "id": "ca98fc81",
   "metadata": {},
   "source": [
    "# Section 2 : Another example"
   ]
  },
  {
   "cell_type": "code",
   "execution_count": 6,
   "id": "66fb6aaa",
   "metadata": {},
   "outputs": [
    {
     "data": {
      "text/latex": [
       "$\\displaystyle \\sqrt{x^{2} + 8}$"
      ],
      "text/plain": [
       "sqrt(x**2 + 8)"
      ]
     },
     "execution_count": 6,
     "metadata": {},
     "output_type": "execute_result"
    }
   ],
   "source": [
    "import sympy\n",
    "from sympy import symbols\n",
    "\n",
    "x, y = symbols('x y')\n",
    "\n",
    "eq = sympy.sqrt(x**2 + 8)\n",
    "derivative = sympy.diff(eq, x)\n",
    "eq"
   ]
  },
  {
   "cell_type": "code",
   "execution_count": 7,
   "id": "c8cb3e4c",
   "metadata": {},
   "outputs": [
    {
     "data": {
      "text/latex": [
       "$\\displaystyle \\frac{x}{\\sqrt{x^{2} + 8}}$"
      ],
      "text/plain": [
       "x/sqrt(x**2 + 8)"
      ]
     },
     "execution_count": 7,
     "metadata": {},
     "output_type": "execute_result"
    }
   ],
   "source": [
    "import sympy\n",
    "from sympy import symbols\n",
    "\n",
    "x, y = symbols('x y')\n",
    "\n",
    "eq = sympy.sqrt(x**2 + 8)\n",
    "derivative = sympy.diff(eq, x)\n",
    "derivative"
   ]
  },
  {
   "cell_type": "code",
   "execution_count": 8,
   "id": "1b2abb3b",
   "metadata": {},
   "outputs": [
    {
     "name": "stdout",
     "output_type": "stream",
     "text": [
      "0\n"
     ]
    }
   ],
   "source": [
    "xValue = 0\n",
    "answer = derivative.subs(x, xValue)\n",
    "print(answer)"
   ]
  },
  {
   "cell_type": "markdown",
   "id": "376a77f7",
   "metadata": {},
   "source": [
    "# Section 3 : More examples"
   ]
  },
  {
   "cell_type": "code",
   "execution_count": 9,
   "id": "8ab462b8",
   "metadata": {},
   "outputs": [
    {
     "data": {
      "text/latex": [
       "$\\displaystyle \\sin{\\left(x^{3} \\right)}$"
      ],
      "text/plain": [
       "sin(x**3)"
      ]
     },
     "execution_count": 9,
     "metadata": {},
     "output_type": "execute_result"
    }
   ],
   "source": [
    "import sympy\n",
    "from sympy import symbols\n",
    "\n",
    "x, y = symbols('x y')\n",
    "\n",
    "eq = sympy.sin(x**3)\n",
    "derivative = sympy.diff(eq, x)\n",
    "eq"
   ]
  },
  {
   "cell_type": "code",
   "execution_count": 10,
   "id": "c17548d9",
   "metadata": {},
   "outputs": [
    {
     "data": {
      "text/latex": [
       "$\\displaystyle 3 x^{2} \\cos{\\left(x^{3} \\right)}$"
      ],
      "text/plain": [
       "3*x**2*cos(x**3)"
      ]
     },
     "execution_count": 10,
     "metadata": {},
     "output_type": "execute_result"
    }
   ],
   "source": [
    "import sympy\n",
    "from sympy import symbols\n",
    "\n",
    "x, y = symbols('x y')\n",
    "\n",
    "eq = sympy.sin(x**3)\n",
    "derivative = sympy.diff(eq, x)\n",
    "derivative"
   ]
  },
  {
   "cell_type": "markdown",
   "id": "d3f86533",
   "metadata": {},
   "source": [
    "Another example"
   ]
  },
  {
   "cell_type": "code",
   "execution_count": 12,
   "id": "fd3e928d",
   "metadata": {},
   "outputs": [
    {
     "data": {
      "text/latex": [
       "$\\displaystyle \\sin{\\left(\\cos{\\left(x \\right)} \\right)}$"
      ],
      "text/plain": [
       "sin(cos(x))"
      ]
     },
     "execution_count": 12,
     "metadata": {},
     "output_type": "execute_result"
    }
   ],
   "source": [
    "import sympy\n",
    "from sympy import symbols\n",
    "\n",
    "x, y = symbols('x y')\n",
    "\n",
    "eq = sympy.sin(sympy.cos(x))\n",
    "derivative = sympy.diff(eq, x)\n",
    "eq"
   ]
  },
  {
   "cell_type": "code",
   "execution_count": 13,
   "id": "32de196c",
   "metadata": {},
   "outputs": [
    {
     "data": {
      "text/latex": [
       "$\\displaystyle - \\sin{\\left(x \\right)} \\cos{\\left(\\cos{\\left(x \\right)} \\right)}$"
      ],
      "text/plain": [
       "-sin(x)*cos(cos(x))"
      ]
     },
     "execution_count": 13,
     "metadata": {},
     "output_type": "execute_result"
    }
   ],
   "source": [
    "import sympy\n",
    "from sympy import symbols\n",
    "\n",
    "x, y = symbols('x y')\n",
    "\n",
    "eq = sympy.sin(sympy.cos(x))\n",
    "derivative = sympy.diff(eq, x)\n",
    "derivative"
   ]
  }
 ],
 "metadata": {
  "kernelspec": {
   "display_name": "Python 3",
   "language": "python",
   "name": "python3"
  },
  "language_info": {
   "codemirror_mode": {
    "name": "ipython",
    "version": 3
   },
   "file_extension": ".py",
   "mimetype": "text/x-python",
   "name": "python",
   "nbconvert_exporter": "python",
   "pygments_lexer": "ipython3",
   "version": "3.12.10"
  }
 },
 "nbformat": 4,
 "nbformat_minor": 5
}
