{
 "cells": [
  {
   "cell_type": "markdown",
   "id": "d8ebbb84",
   "metadata": {},
   "source": [
    "# Section 1 : Product Rule"
   ]
  },
  {
   "cell_type": "code",
   "execution_count": 1,
   "id": "ad1bf9bc",
   "metadata": {},
   "outputs": [
    {
     "data": {
      "text/latex": [
       "$\\displaystyle x^{3} \\left(x^{2} + 2 x\\right)$"
      ],
      "text/plain": [
       "x**3*(x**2 + 2*x)"
      ]
     },
     "execution_count": 1,
     "metadata": {},
     "output_type": "execute_result"
    }
   ],
   "source": [
    "import sympy\n",
    "from sympy import symbols\n",
    "\n",
    "x, y = symbols('x y')\n",
    "\n",
    "eq = (x**3)*(x**2 + 2*x)\n",
    "derivative = sympy.diff(eq, x)\n",
    "eq"
   ]
  },
  {
   "cell_type": "code",
   "execution_count": 2,
   "id": "8186b589",
   "metadata": {},
   "outputs": [
    {
     "data": {
      "text/latex": [
       "$\\displaystyle x^{3} \\left(2 x + 2\\right) + 3 x^{2} \\left(x^{2} + 2 x\\right)$"
      ],
      "text/plain": [
       "x**3*(2*x + 2) + 3*x**2*(x**2 + 2*x)"
      ]
     },
     "execution_count": 2,
     "metadata": {},
     "output_type": "execute_result"
    }
   ],
   "source": [
    "import sympy\n",
    "from sympy import symbols\n",
    "\n",
    "x, y = symbols('x y')\n",
    "\n",
    "eq = (x**3)*(x**2 + 2*x)\n",
    "derivative = sympy.diff(eq, x)\n",
    "derivative"
   ]
  }
 ],
 "metadata": {
  "kernelspec": {
   "display_name": "Python 3",
   "language": "python",
   "name": "python3"
  },
  "language_info": {
   "codemirror_mode": {
    "name": "ipython",
    "version": 3
   },
   "file_extension": ".py",
   "mimetype": "text/x-python",
   "name": "python",
   "nbconvert_exporter": "python",
   "pygments_lexer": "ipython3",
   "version": "3.12.10"
  }
 },
 "nbformat": 4,
 "nbformat_minor": 5
}
