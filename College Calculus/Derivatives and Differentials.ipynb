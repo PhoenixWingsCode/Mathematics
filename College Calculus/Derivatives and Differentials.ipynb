{
 "cells": [
  {
   "cell_type": "markdown",
   "id": "68451996",
   "metadata": {},
   "source": [
    "# Section 1 : Differentials\n",
    "\n",
    "Example:\n",
    "\n",
    "y = x**2\n",
    "dy = 2*x * d*x"
   ]
  },
  {
   "cell_type": "code",
   "execution_count": 1,
   "id": "fb8cfdc8",
   "metadata": {},
   "outputs": [
    {
     "name": "stdout",
     "output_type": "stream",
     "text": [
      "Slope =  4\n",
      "dy/dx =  4.00001000002703\n",
      "dy =  4.00001000002703e-5\n",
      "dy =  4.00000000000000e-5\n"
     ]
    }
   ],
   "source": [
    "import sympy\n",
    "from sympy import symbols\n",
    "\n",
    "x, y = symbols('x y')\n",
    "\n",
    "# original function\n",
    "eq = x**2\n",
    "\n",
    "# derivative\n",
    "derivative = sympy.diff(eq)\n",
    "\n",
    "# point\n",
    "xValue = 2\n",
    "dx = 0.00001\n",
    "dy = eq.subs(x, xValue + dx) - eq.subs(x, xValue)\n",
    "\n",
    "# Derivative subs to get slope\n",
    "slope = derivative.subs(x, xValue)\n",
    "\n",
    "print(\"Slope = \", slope)\n",
    "print(\"dy/dx = \", dy/dx)\n",
    "print(\"dy = \", dy)\n",
    "print(\"dy = \", slope * dx)"
   ]
  }
 ],
 "metadata": {
  "kernelspec": {
   "display_name": "Python 3",
   "language": "python",
   "name": "python3"
  },
  "language_info": {
   "codemirror_mode": {
    "name": "ipython",
    "version": 3
   },
   "file_extension": ".py",
   "mimetype": "text/x-python",
   "name": "python",
   "nbconvert_exporter": "python",
   "pygments_lexer": "ipython3",
   "version": "3.12.10"
  }
 },
 "nbformat": 4,
 "nbformat_minor": 5
}
