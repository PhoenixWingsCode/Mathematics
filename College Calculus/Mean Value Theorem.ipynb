{
 "cells": [
  {
   "cell_type": "markdown",
   "id": "ba8cfa0f",
   "metadata": {},
   "source": [
    "# Section 1 : \n",
    "\n",
    "At least one point on a curve will have a slope equal to the average slope"
   ]
  },
  {
   "cell_type": "code",
   "execution_count": 1,
   "id": "b233c1f6",
   "metadata": {},
   "outputs": [
    {
     "name": "stdout",
     "output_type": "stream",
     "text": [
      "at x =  1/2\n",
      "1  =  1\n"
     ]
    }
   ],
   "source": [
    "import sympy\n",
    "from sympy import symbols, Eq\n",
    "\n",
    "x, y = symbols('x y')\n",
    "\n",
    "# original function\n",
    "eq = x**2\n",
    "\n",
    "x1 = 0\n",
    "y1 = eq.subs(x, x1)\n",
    "\n",
    "x2 = 1\n",
    "y2 = eq.subs(x, x2)\n",
    "\n",
    "# slope\n",
    "slope = (y2 - y1)/(x2 - x1)\n",
    "\n",
    "# derivative\n",
    "der = sympy.diff(eq)\n",
    "\n",
    "# compare slopes\n",
    "test = sympy.solve(Eq(der, slope))\n",
    "testSlope = der.subs(x, test[0])\n",
    "print(\"at x = \", test[0])\n",
    "print(slope, \" = \", testSlope)"
   ]
  },
  {
   "cell_type": "code",
   "execution_count": 3,
   "id": "a83d7a7e",
   "metadata": {},
   "outputs": [
    {
     "name": "stdout",
     "output_type": "stream",
     "text": [
      "at x =  -2/3 + sqrt(109)/3\n",
      "30  =  -23/3 + 4*sqrt(109)/3 + 3*(-2/3 + sqrt(109)/3)**2\n"
     ]
    }
   ],
   "source": [
    "import sympy\n",
    "from sympy import symbols, Eq\n",
    "\n",
    "x, y = symbols('x y')\n",
    "\n",
    "# original function\n",
    "eq = x**3 + 2*x**2 - 5*x + 3\n",
    "\n",
    "x1 = 0\n",
    "y1 = eq.subs(x, x1)\n",
    "\n",
    "x2 = 5\n",
    "y2 = eq.subs(x, x2)\n",
    "\n",
    "# slope\n",
    "slope = (y2 - y1)/(x2 - x1)\n",
    "\n",
    "# derivative\n",
    "der = sympy.diff(eq)\n",
    "\n",
    "# compare slopes\n",
    "test = sympy.solve(Eq(der, slope))\n",
    "testSlope = der.subs(x, test[0])\n",
    "print(\"at x = \", test[0])\n",
    "print(slope, \" = \", testSlope)"
   ]
  },
  {
   "cell_type": "code",
   "execution_count": 4,
   "id": "e1998804",
   "metadata": {},
   "outputs": [
    {
     "name": "stdout",
     "output_type": "stream",
     "text": [
      "at x =  2.81343550297018\n",
      "30  =  30.0000000000000\n"
     ]
    }
   ],
   "source": [
    "import sympy\n",
    "from sympy import symbols, Eq\n",
    "\n",
    "x, y = symbols('x y')\n",
    "\n",
    "# original function\n",
    "eq = x**3 + 2*x**2 - 5*x + 3\n",
    "\n",
    "x1 = 0\n",
    "y1 = eq.subs(x, x1)\n",
    "\n",
    "x2 = 5\n",
    "y2 = eq.subs(x, x2)\n",
    "\n",
    "# slope\n",
    "slope = (y2 - y1)/(x2 - x1)\n",
    "\n",
    "# derivative\n",
    "der = sympy.diff(eq)\n",
    "\n",
    "# compare slopes\n",
    "test = sympy.solve(Eq(der, slope))\n",
    "testSlope = der.subs(x, test[0])\n",
    "print(\"at x = \", sympy.N(test[0])) # sympy.N for numeric answer\n",
    "print(slope, \" = \", sympy.N(testSlope))"
   ]
  }
 ],
 "metadata": {
  "kernelspec": {
   "display_name": "Python 3",
   "language": "python",
   "name": "python3"
  },
  "language_info": {
   "codemirror_mode": {
    "name": "ipython",
    "version": 3
   },
   "file_extension": ".py",
   "mimetype": "text/x-python",
   "name": "python",
   "nbconvert_exporter": "python",
   "pygments_lexer": "ipython3",
   "version": "3.12.10"
  }
 },
 "nbformat": 4,
 "nbformat_minor": 5
}
