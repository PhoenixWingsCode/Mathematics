{
 "cells": [
  {
   "cell_type": "code",
   "execution_count": 1,
   "id": "0ee0ec53",
   "metadata": {},
   "outputs": [
    {
     "name": "stdout",
     "output_type": "stream",
     "text": [
      "surface area =  522.635002074890\n",
      "surface area =  -2*pi*(-219*sqrt(37)/32 + asinh(6)/64) + 2*pi*(-asinh(6)/64 + 219*sqrt(37)/32)\n"
     ]
    },
    {
     "data": {
      "text/latex": [
       "$\\displaystyle - 2 \\pi \\left(- \\frac{219 \\sqrt{37}}{32} + \\frac{\\operatorname{asinh}{\\left(6 \\right)}}{64}\\right) + 2 \\pi \\left(- \\frac{\\operatorname{asinh}{\\left(6 \\right)}}{64} + \\frac{219 \\sqrt{37}}{32}\\right)$"
      ],
      "text/plain": [
       "-2*pi*(-219*sqrt(37)/32 + asinh(6)/64) + 2*pi*(-asinh(6)/64 + 219*sqrt(37)/32)"
      ]
     },
     "execution_count": 1,
     "metadata": {},
     "output_type": "execute_result"
    }
   ],
   "source": [
    "import sympy\n",
    "from sympy import symbols, Eq\n",
    "\n",
    "x, y, c = symbols('x y c')\n",
    "\n",
    "# x value range\n",
    "lower = -3\n",
    "upper = 3\n",
    "\n",
    "# boundary equation (y value is the radius)\n",
    "eq1 = x**2\n",
    "\n",
    "# arc length equation\n",
    "derivative = sympy.diff(eq1)\n",
    "eq2 = sympy.sqrt(derivative**2 + 1)\n",
    "\n",
    "# surface area = 2*pi*radius*arc length\n",
    "surfaceArea = sympy.integrate(2*sympy.pi*eq1*eq2, (x, lower, upper))\n",
    "\n",
    "# revolve around x axis\n",
    "print(\"surface area = \", sympy.N(surfaceArea))\n",
    "print(\"surface area = \", surfaceArea)\n",
    "surfaceArea"
   ]
  }
 ],
 "metadata": {
  "kernelspec": {
   "display_name": "Python 3",
   "language": "python",
   "name": "python3"
  },
  "language_info": {
   "codemirror_mode": {
    "name": "ipython",
    "version": 3
   },
   "file_extension": ".py",
   "mimetype": "text/x-python",
   "name": "python",
   "nbconvert_exporter": "python",
   "pygments_lexer": "ipython3",
   "version": "3.12.10"
  }
 },
 "nbformat": 4,
 "nbformat_minor": 5
}
