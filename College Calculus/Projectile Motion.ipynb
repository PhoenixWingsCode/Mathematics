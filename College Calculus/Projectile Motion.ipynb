{
 "cells": [
  {
   "cell_type": "code",
   "execution_count": null,
   "id": "e7b9e34d",
   "metadata": {},
   "outputs": [
    {
     "name": "stdout",
     "output_type": "stream",
     "text": [
      "Y = \n"
     ]
    },
    {
     "data": {
      "text/latex": [
       "$\\displaystyle - 4.9 t^{2} + 16.5 t + 3.9$"
      ],
      "text/plain": [
       "-4.9*t**2 + 16.5*t + 3.9"
      ]
     },
     "execution_count": 1,
     "metadata": {},
     "output_type": "execute_result"
    }
   ],
   "source": [
    "import sympy\n",
    "from sympy import symbols\n",
    "\n",
    "t = symbols('t') # time in seconds\n",
    "v = 16.5 # initial velocity\n",
    "h = 3.9 # initial height\n",
    "position = -4.9 * t ** 2 + v * t + h\n",
    "print(\"Y = \")\n",
    "position"
   ]
  },
  {
   "cell_type": "code",
   "execution_count": 2,
   "id": "6bf2a66d",
   "metadata": {},
   "outputs": [
    {
     "name": "stdout",
     "output_type": "stream",
     "text": [
      "Velocity = \n"
     ]
    },
    {
     "data": {
      "text/latex": [
       "$\\displaystyle 16.5 - 9.8 t$"
      ],
      "text/plain": [
       "16.5 - 9.8*t"
      ]
     },
     "execution_count": 2,
     "metadata": {},
     "output_type": "execute_result"
    }
   ],
   "source": [
    "velocity = sympy.diff(position)\n",
    "print(\"Velocity = \")\n",
    "velocity"
   ]
  },
  {
   "cell_type": "code",
   "execution_count": 4,
   "id": "1518d351",
   "metadata": {},
   "outputs": [
    {
     "name": "stdout",
     "output_type": "stream",
     "text": [
      "Max height at =  [1.68367346938776]  seconds is \n"
     ]
    },
    {
     "data": {
      "text/latex": [
       "$\\displaystyle 17.790306122449$"
      ],
      "text/plain": [
       "17.7903061224490"
      ]
     },
     "execution_count": 4,
     "metadata": {},
     "output_type": "execute_result"
    }
   ],
   "source": [
    "xMaxHeight = sympy.solve(velocity)\n",
    "maxHeight = position.subs(t, xMaxHeight[0])\n",
    "print(\"Max height at = \", xMaxHeight, \" seconds is \")\n",
    "maxHeight"
   ]
  },
  {
   "cell_type": "code",
   "execution_count": 5,
   "id": "336e4df0",
   "metadata": {},
   "outputs": [
    {
     "name": "stdout",
     "output_type": "stream",
     "text": [
      "acceleration = \n"
     ]
    },
    {
     "data": {
      "text/latex": [
       "$\\displaystyle -9.8$"
      ],
      "text/plain": [
       "-9.80000000000000"
      ]
     },
     "execution_count": 5,
     "metadata": {},
     "output_type": "execute_result"
    }
   ],
   "source": [
    "acceleration = sympy.diff(velocity)\n",
    "print(\"acceleration = \")\n",
    "acceleration"
   ]
  }
 ],
 "metadata": {
  "kernelspec": {
   "display_name": "Python 3",
   "language": "python",
   "name": "python3"
  },
  "language_info": {
   "codemirror_mode": {
    "name": "ipython",
    "version": 3
   },
   "file_extension": ".py",
   "mimetype": "text/x-python",
   "name": "python",
   "nbconvert_exporter": "python",
   "pygments_lexer": "ipython3",
   "version": "3.12.10"
  }
 },
 "nbformat": 4,
 "nbformat_minor": 5
}
