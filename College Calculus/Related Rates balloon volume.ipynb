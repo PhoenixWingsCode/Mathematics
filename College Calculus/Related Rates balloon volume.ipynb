{
 "cells": [
  {
   "cell_type": "markdown",
   "id": "3f088ca3",
   "metadata": {},
   "source": [
    "# Section 1 : Volume Example\n",
    "\n",
    "V = 4/3 * pie * r**3"
   ]
  },
  {
   "cell_type": "code",
   "execution_count": 1,
   "id": "0ded0447",
   "metadata": {},
   "outputs": [
    {
     "data": {
      "text/latex": [
       "$\\displaystyle 1.33333333333333 \\pi r^{3}$"
      ],
      "text/plain": [
       "1.33333333333333*pi*r**3"
      ]
     },
     "execution_count": 1,
     "metadata": {},
     "output_type": "execute_result"
    }
   ],
   "source": [
    "# another example of related rates\n",
    "import sympy\n",
    "from sympy import symbols, Derivative\n",
    "\n",
    "v, r, t = sympy.symbols('v r t')\n",
    "\n",
    "expression = (4/3) * sympy.pi * r**3\n",
    "expression"
   ]
  },
  {
   "cell_type": "code",
   "execution_count": 2,
   "id": "2f911a65",
   "metadata": {},
   "outputs": [
    {
     "data": {
      "text/latex": [
       "$\\displaystyle 4.0 \\pi r^{2} \\frac{d}{d t} r$"
      ],
      "text/plain": [
       "4.0*pi*r**2*Derivative(r, t)"
      ]
     },
     "execution_count": 2,
     "metadata": {},
     "output_type": "execute_result"
    }
   ],
   "source": [
    "# broken down so subsitution works\n",
    "\n",
    "dr = expression.diff(r)\n",
    "drdt = Derivative(r, t) # r is a function of time\n",
    "der = dr * drdt\n",
    "der"
   ]
  },
  {
   "cell_type": "code",
   "execution_count": 3,
   "id": "0abb35f2",
   "metadata": {},
   "outputs": [
    {
     "data": {
      "text/latex": [
       "$\\displaystyle 36.0 \\pi \\frac{d}{d t} r$"
      ],
      "text/plain": [
       "36.0*pi*Derivative(r, t)"
      ]
     },
     "execution_count": 3,
     "metadata": {},
     "output_type": "execute_result"
    }
   ],
   "source": [
    "# plug in r value\n",
    "dr_plugin = dr.subs(r, 3)\n",
    "plugin = dr_plugin * drdt\n",
    "plugin"
   ]
  },
  {
   "cell_type": "code",
   "execution_count": 4,
   "id": "e9777e93",
   "metadata": {},
   "outputs": [
    {
     "data": {
      "text/plain": [
       "[0.0795774715459477]"
      ]
     },
     "execution_count": 4,
     "metadata": {},
     "output_type": "execute_result"
    }
   ],
   "source": [
    "# solve for drdt\n",
    "dvdt = 9\n",
    "eq = sympy.Eq(plugin, dvdt)\n",
    "answer = sympy.solve(eq, drdt)\n",
    "answer"
   ]
  }
 ],
 "metadata": {
  "kernelspec": {
   "display_name": "Python 3",
   "language": "python",
   "name": "python3"
  },
  "language_info": {
   "codemirror_mode": {
    "name": "ipython",
    "version": 3
   },
   "file_extension": ".py",
   "mimetype": "text/x-python",
   "name": "python",
   "nbconvert_exporter": "python",
   "pygments_lexer": "ipython3",
   "version": "3.12.10"
  }
 },
 "nbformat": 4,
 "nbformat_minor": 5
}
