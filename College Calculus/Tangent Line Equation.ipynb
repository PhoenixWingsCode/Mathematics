{
 "cells": [
  {
   "cell_type": "markdown",
   "id": "b2b9b0f5",
   "metadata": {},
   "source": [
    "# Section 1 : Equation"
   ]
  },
  {
   "cell_type": "code",
   "execution_count": 2,
   "id": "b25ebbc6",
   "metadata": {},
   "outputs": [
    {
     "name": "stdout",
     "output_type": "stream",
     "text": [
      " y =  4  x  +  -8\n"
     ]
    }
   ],
   "source": [
    "import sympy\n",
    "from sympy import symbols\n",
    "\n",
    "x, y = symbols('x y')\n",
    "\n",
    "# original function \n",
    "eq = x**2 - 4\n",
    "\n",
    "# derivative\n",
    "derivative = sympy.diff(eq)\n",
    "\n",
    "# point\n",
    "xValue = 2\n",
    "\n",
    "# derivative.subs to get slope\n",
    "slope = derivative.subs(x, xValue)\n",
    "\n",
    "# eq.subs to get y value\n",
    "yValue = eq.subs(x, xValue)\n",
    "\n",
    "# y - mx to get b\n",
    "bValue = yValue - (slope * xValue)\n",
    "\n",
    "# output tangent value\n",
    "print(\" y = \", slope, \" x  + \", bValue)"
   ]
  },
  {
   "cell_type": "code",
   "execution_count": 3,
   "id": "77f9257f",
   "metadata": {},
   "outputs": [
    {
     "name": "stdout",
     "output_type": "stream",
     "text": [
      " y =  6  x  +  -9\n"
     ]
    }
   ],
   "source": [
    "import sympy\n",
    "from sympy import symbols\n",
    "\n",
    "x, y = symbols('x y')\n",
    "\n",
    "# original function \n",
    "eq = x**2\n",
    "\n",
    "# derivative\n",
    "derivative = sympy.diff(eq)\n",
    "\n",
    "# point\n",
    "xValue = 3\n",
    "\n",
    "# derivative.subs to get slope\n",
    "slope = derivative.subs(x, xValue)\n",
    "\n",
    "# eq.subs to get y value\n",
    "yValue = eq.subs(x, xValue)\n",
    "\n",
    "# y - mx to get b\n",
    "bValue = yValue - (slope * xValue)\n",
    "\n",
    "# output tangent value\n",
    "print(\" y = \", slope, \" x  + \", bValue)"
   ]
  }
 ],
 "metadata": {
  "kernelspec": {
   "display_name": "Python 3",
   "language": "python",
   "name": "python3"
  },
  "language_info": {
   "codemirror_mode": {
    "name": "ipython",
    "version": 3
   },
   "file_extension": ".py",
   "mimetype": "text/x-python",
   "name": "python",
   "nbconvert_exporter": "python",
   "pygments_lexer": "ipython3",
   "version": "3.12.10"
  }
 },
 "nbformat": 4,
 "nbformat_minor": 5
}
