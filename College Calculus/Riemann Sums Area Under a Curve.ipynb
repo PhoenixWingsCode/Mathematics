{
 "cells": [
  {
   "cell_type": "markdown",
   "id": "57caf32c",
   "metadata": {},
   "source": [
    "# Section 1 : Riemann Sums"
   ]
  },
  {
   "cell_type": "code",
   "execution_count": 1,
   "id": "dbdc35ee",
   "metadata": {},
   "outputs": [
    {
     "name": "stdout",
     "output_type": "stream",
     "text": [
      "8.555000000000003\n"
     ]
    }
   ],
   "source": [
    "# y = x**2 from x=0 to x=3\n",
    "\n",
    "dx = 0.1\n",
    "startX = 0\n",
    "endX = 3\n",
    "rectangles = int((endX - startX)/dx)\n",
    "\n",
    "sum = 0\n",
    "for a in range(rectangles):\n",
    "    x = startX + dx*a\n",
    "    y = x**2\n",
    "    area = y*dx\n",
    "    sum = sum + area\n",
    "\n",
    "print(sum)"
   ]
  },
  {
   "cell_type": "code",
   "execution_count": 2,
   "id": "e237fafc",
   "metadata": {},
   "outputs": [
    {
     "name": "stdout",
     "output_type": "stream",
     "text": [
      "8.955050000000004\n"
     ]
    }
   ],
   "source": [
    "dx = 0.01\n",
    "startX = 0\n",
    "endX = 3\n",
    "rectangles = int((endX - startX)/dx)\n",
    "\n",
    "sum = 0\n",
    "for a in range(rectangles):\n",
    "    x = startX + dx*a\n",
    "    y = x**2\n",
    "    area = y*dx\n",
    "    sum = sum + area\n",
    "\n",
    "print(sum)"
   ]
  },
  {
   "cell_type": "code",
   "execution_count": 3,
   "id": "68cdf8fe",
   "metadata": {},
   "outputs": [
    {
     "name": "stdout",
     "output_type": "stream",
     "text": [
      "9.045050000000003\n"
     ]
    }
   ],
   "source": [
    "dx = 0.01\n",
    "startX = 0\n",
    "endX = 3\n",
    "rectangles = int((endX - startX)/dx)\n",
    "\n",
    "sum = 0\n",
    "for a in range(1, rectangles+1):\n",
    "    x = startX + dx*a\n",
    "    y = x**2\n",
    "    area = y*dx\n",
    "    sum = sum + area\n",
    "\n",
    "print(sum)"
   ]
  },
  {
   "cell_type": "code",
   "execution_count": 4,
   "id": "cf12c6bb",
   "metadata": {},
   "outputs": [
    {
     "name": "stdout",
     "output_type": "stream",
     "text": [
      "9.004500499999988\n"
     ]
    }
   ],
   "source": [
    "dx = 0.001\n",
    "startX = 0\n",
    "endX = 3\n",
    "rectangles = int((endX - startX)/dx)\n",
    "\n",
    "sum = 0\n",
    "for a in range(1, rectangles+1):\n",
    "    x = startX + dx*a\n",
    "    y = x**2\n",
    "    area = y*dx\n",
    "    sum = sum + area\n",
    "\n",
    "print(sum)"
   ]
  }
 ],
 "metadata": {
  "kernelspec": {
   "display_name": "Python 3",
   "language": "python",
   "name": "python3"
  },
  "language_info": {
   "codemirror_mode": {
    "name": "ipython",
    "version": 3
   },
   "file_extension": ".py",
   "mimetype": "text/x-python",
   "name": "python",
   "nbconvert_exporter": "python",
   "pygments_lexer": "ipython3",
   "version": "3.12.10"
  }
 },
 "nbformat": 4,
 "nbformat_minor": 5
}
