{
 "cells": [
  {
   "cell_type": "markdown",
   "id": "5f18e6ea",
   "metadata": {},
   "source": [
    "# Section 1 : \n",
    "\n",
    "Remember in sympy \"exp(x)\" means e**x"
   ]
  },
  {
   "cell_type": "code",
   "execution_count": 1,
   "id": "b3d2450f",
   "metadata": {},
   "outputs": [
    {
     "data": {
      "text/latex": [
       "$\\displaystyle e^{x}$"
      ],
      "text/plain": [
       "exp(x)"
      ]
     },
     "execution_count": 1,
     "metadata": {},
     "output_type": "execute_result"
    }
   ],
   "source": [
    "import sympy\n",
    "from sympy import symbols\n",
    "\n",
    "x, y = symbols('x y')\n",
    "\n",
    "eq = sympy.exp(x)\n",
    "derivative = sympy.diff(eq, x)\n",
    "eq"
   ]
  },
  {
   "cell_type": "code",
   "execution_count": 2,
   "id": "83596202",
   "metadata": {},
   "outputs": [
    {
     "data": {
      "text/latex": [
       "$\\displaystyle e^{x}$"
      ],
      "text/plain": [
       "exp(x)"
      ]
     },
     "execution_count": 2,
     "metadata": {},
     "output_type": "execute_result"
    }
   ],
   "source": [
    "# simplest deriative in calculus\n",
    "derivative"
   ]
  },
  {
   "cell_type": "markdown",
   "id": "7716b559",
   "metadata": {},
   "source": [
    "# Section 2 : Other numbers as the base"
   ]
  },
  {
   "cell_type": "code",
   "execution_count": 4,
   "id": "14abdfad",
   "metadata": {},
   "outputs": [
    {
     "data": {
      "text/latex": [
       "$\\displaystyle 2^{x}$"
      ],
      "text/plain": [
       "2**x"
      ]
     },
     "execution_count": 4,
     "metadata": {},
     "output_type": "execute_result"
    }
   ],
   "source": [
    "import sympy\n",
    "from sympy import symbols\n",
    "\n",
    "x, y = symbols('x y')\n",
    "\n",
    "eq = 2**x\n",
    "derivative = sympy.diff(eq, x)\n",
    "eq"
   ]
  },
  {
   "cell_type": "code",
   "execution_count": 5,
   "id": "d7ef2167",
   "metadata": {},
   "outputs": [
    {
     "data": {
      "text/latex": [
       "$\\displaystyle 2^{x} \\log{\\left(2 \\right)}$"
      ],
      "text/plain": [
       "2**x*log(2)"
      ]
     },
     "execution_count": 5,
     "metadata": {},
     "output_type": "execute_result"
    }
   ],
   "source": [
    "# remember log means \"natural log\" here\n",
    "derivative"
   ]
  },
  {
   "cell_type": "code",
   "execution_count": 6,
   "id": "b2429164",
   "metadata": {},
   "outputs": [
    {
     "data": {
      "text/latex": [
       "$\\displaystyle 3^{x}$"
      ],
      "text/plain": [
       "3**x"
      ]
     },
     "execution_count": 6,
     "metadata": {},
     "output_type": "execute_result"
    }
   ],
   "source": [
    "import sympy\n",
    "from sympy import symbols\n",
    "\n",
    "x, y = symbols('x y')\n",
    "\n",
    "eq = 3**x\n",
    "derivative = sympy.diff(eq, x)\n",
    "eq"
   ]
  },
  {
   "cell_type": "code",
   "execution_count": 7,
   "id": "890a3dab",
   "metadata": {},
   "outputs": [
    {
     "data": {
      "text/latex": [
       "$\\displaystyle 3^{x} \\log{\\left(3 \\right)}$"
      ],
      "text/plain": [
       "3**x*log(3)"
      ]
     },
     "execution_count": 7,
     "metadata": {},
     "output_type": "execute_result"
    }
   ],
   "source": [
    "# remember log means \"natural log\" here\n",
    "derivative"
   ]
  },
  {
   "cell_type": "markdown",
   "id": "906db8b7",
   "metadata": {},
   "source": [
    "# Section 3 : Logarithmic Functions\n",
    "\n",
    "Remember \"log(x)\" in sympy is \"ln(x)\" in math function"
   ]
  },
  {
   "cell_type": "code",
   "execution_count": 8,
   "id": "a3f4b516",
   "metadata": {},
   "outputs": [
    {
     "data": {
      "text/latex": [
       "$\\displaystyle \\log{\\left(x \\right)}$"
      ],
      "text/plain": [
       "log(x)"
      ]
     },
     "execution_count": 8,
     "metadata": {},
     "output_type": "execute_result"
    }
   ],
   "source": [
    "import sympy\n",
    "from sympy import symbols\n",
    "\n",
    "x, y = symbols('x y')\n",
    "\n",
    "eq = sympy.log(x)\n",
    "derivative = sympy.diff(eq, x)\n",
    "eq"
   ]
  },
  {
   "cell_type": "code",
   "execution_count": 9,
   "id": "6aaa4721",
   "metadata": {},
   "outputs": [
    {
     "data": {
      "text/latex": [
       "$\\displaystyle \\frac{1}{x}$"
      ],
      "text/plain": [
       "1/x"
      ]
     },
     "execution_count": 9,
     "metadata": {},
     "output_type": "execute_result"
    }
   ],
   "source": [
    "derivative"
   ]
  },
  {
   "cell_type": "markdown",
   "id": "d7e698f9",
   "metadata": {},
   "source": [
    "Change-of-Base Formula"
   ]
  },
  {
   "cell_type": "code",
   "execution_count": 10,
   "id": "11356ed9",
   "metadata": {},
   "outputs": [
    {
     "data": {
      "text/latex": [
       "$\\displaystyle \\frac{\\log{\\left(x \\right)}}{\\log{\\left(4 \\right)}}$"
      ],
      "text/plain": [
       "log(x)/log(4)"
      ]
     },
     "execution_count": 10,
     "metadata": {},
     "output_type": "execute_result"
    }
   ],
   "source": [
    "import sympy\n",
    "from sympy import symbols\n",
    "\n",
    "x, y = symbols('x y')\n",
    "\n",
    "base = 4\n",
    "eq = sympy.log(x, base)\n",
    "derivative = sympy.diff(eq, x)\n",
    "eq"
   ]
  },
  {
   "cell_type": "code",
   "execution_count": 11,
   "id": "f1cc1508",
   "metadata": {},
   "outputs": [
    {
     "data": {
      "text/latex": [
       "$\\displaystyle \\frac{1}{x \\log{\\left(4 \\right)}}$"
      ],
      "text/plain": [
       "1/(x*log(4))"
      ]
     },
     "execution_count": 11,
     "metadata": {},
     "output_type": "execute_result"
    }
   ],
   "source": [
    "derivative"
   ]
  },
  {
   "cell_type": "markdown",
   "id": "b0b12750",
   "metadata": {},
   "source": [
    "# Section 4 : Trigonometric Functions\n",
    "\n",
    "y = sin(x)"
   ]
  },
  {
   "cell_type": "code",
   "execution_count": 12,
   "id": "53e3d2e1",
   "metadata": {},
   "outputs": [
    {
     "data": {
      "text/latex": [
       "$\\displaystyle \\sin{\\left(x \\right)}$"
      ],
      "text/plain": [
       "sin(x)"
      ]
     },
     "execution_count": 12,
     "metadata": {},
     "output_type": "execute_result"
    }
   ],
   "source": [
    "import sympy\n",
    "from sympy import symbols\n",
    "\n",
    "x, y = symbols('x y')\n",
    "\n",
    "eq = sympy.sin(x)\n",
    "derivative = sympy.diff(eq, x)\n",
    "eq"
   ]
  },
  {
   "cell_type": "code",
   "execution_count": 13,
   "id": "5904a1e3",
   "metadata": {},
   "outputs": [
    {
     "data": {
      "text/latex": [
       "$\\displaystyle \\cos{\\left(x \\right)}$"
      ],
      "text/plain": [
       "cos(x)"
      ]
     },
     "execution_count": 13,
     "metadata": {},
     "output_type": "execute_result"
    }
   ],
   "source": [
    "derivative"
   ]
  },
  {
   "cell_type": "markdown",
   "id": "8b86e948",
   "metadata": {},
   "source": [
    "y = cos(x)"
   ]
  },
  {
   "cell_type": "code",
   "execution_count": 14,
   "id": "fba9c749",
   "metadata": {},
   "outputs": [
    {
     "data": {
      "text/latex": [
       "$\\displaystyle \\cos{\\left(x \\right)}$"
      ],
      "text/plain": [
       "cos(x)"
      ]
     },
     "execution_count": 14,
     "metadata": {},
     "output_type": "execute_result"
    }
   ],
   "source": [
    "import sympy\n",
    "from sympy import symbols\n",
    "\n",
    "x, y = symbols('x y')\n",
    "\n",
    "eq = sympy.cos(x)\n",
    "derivative = sympy.diff(eq, x)\n",
    "eq"
   ]
  },
  {
   "cell_type": "code",
   "execution_count": 15,
   "id": "844d55c0",
   "metadata": {},
   "outputs": [
    {
     "data": {
      "text/latex": [
       "$\\displaystyle - \\sin{\\left(x \\right)}$"
      ],
      "text/plain": [
       "-sin(x)"
      ]
     },
     "execution_count": 15,
     "metadata": {},
     "output_type": "execute_result"
    }
   ],
   "source": [
    "derivative"
   ]
  },
  {
   "cell_type": "markdown",
   "id": "a9e7b0bf",
   "metadata": {},
   "source": [
    "y = tan(x)"
   ]
  },
  {
   "cell_type": "code",
   "execution_count": 16,
   "id": "309462fc",
   "metadata": {},
   "outputs": [
    {
     "data": {
      "text/latex": [
       "$\\displaystyle \\tan{\\left(x \\right)}$"
      ],
      "text/plain": [
       "tan(x)"
      ]
     },
     "execution_count": 16,
     "metadata": {},
     "output_type": "execute_result"
    }
   ],
   "source": [
    "import sympy\n",
    "from sympy import symbols\n",
    "\n",
    "x, y = symbols('x y')\n",
    "\n",
    "eq = sympy.tan(x)\n",
    "derivative = sympy.diff(eq, x)\n",
    "eq"
   ]
  },
  {
   "cell_type": "code",
   "execution_count": null,
   "id": "ebc87d5d",
   "metadata": {},
   "outputs": [
    {
     "data": {
      "text/latex": [
       "$\\displaystyle \\tan^{2}{\\left(x \\right)} + 1$"
      ],
      "text/plain": [
       "tan(x)**2 + 1"
      ]
     },
     "execution_count": 17,
     "metadata": {},
     "output_type": "execute_result"
    }
   ],
   "source": [
    "derivative\n",
    "\n",
    "# equal to secant square"
   ]
  },
  {
   "cell_type": "code",
   "execution_count": 18,
   "id": "08746023",
   "metadata": {},
   "outputs": [
    {
     "data": {
      "text/latex": [
       "$\\displaystyle \\frac{1}{\\cos^{2}{\\left(x \\right)}}$"
      ],
      "text/plain": [
       "cos(x)**(-2)"
      ]
     },
     "execution_count": 18,
     "metadata": {},
     "output_type": "execute_result"
    }
   ],
   "source": [
    "other = sympy.trigsimp(derivative) # simplifying trigs\n",
    "other"
   ]
  },
  {
   "cell_type": "code",
   "execution_count": 19,
   "id": "38a271ee",
   "metadata": {},
   "outputs": [
    {
     "data": {
      "text/latex": [
       "$\\displaystyle \\sec^{2}{\\left(x \\right)}$"
      ],
      "text/plain": [
       "sec(x)**2"
      ]
     },
     "execution_count": 19,
     "metadata": {},
     "output_type": "execute_result"
    }
   ],
   "source": [
    "other1 = sympy.trigsimp(sympy.sec(x)**2)\n",
    "other1"
   ]
  },
  {
   "cell_type": "code",
   "execution_count": 20,
   "id": "f9daae8d",
   "metadata": {},
   "outputs": [
    {
     "data": {
      "text/latex": [
       "$\\displaystyle \\frac{1}{\\cos^{2}{\\left(x \\right)}}$"
      ],
      "text/plain": [
       "cos(x)**(-2)"
      ]
     },
     "execution_count": 20,
     "metadata": {},
     "output_type": "execute_result"
    }
   ],
   "source": [
    "other2 = sympy.trigsimp(1/sympy.cos(x)**2)\n",
    "other2"
   ]
  },
  {
   "cell_type": "markdown",
   "id": "c17d5188",
   "metadata": {},
   "source": [
    "y = cot(x)"
   ]
  },
  {
   "cell_type": "code",
   "execution_count": 21,
   "id": "67895597",
   "metadata": {},
   "outputs": [
    {
     "data": {
      "text/latex": [
       "$\\displaystyle \\cot{\\left(x \\right)}$"
      ],
      "text/plain": [
       "cot(x)"
      ]
     },
     "execution_count": 21,
     "metadata": {},
     "output_type": "execute_result"
    }
   ],
   "source": [
    "import sympy\n",
    "from sympy import symbols\n",
    "\n",
    "x, y = symbols('x y')\n",
    "\n",
    "eq = sympy.cot(x)\n",
    "derivative = sympy.diff(eq, x)\n",
    "eq"
   ]
  },
  {
   "cell_type": "code",
   "execution_count": 22,
   "id": "ff61aff7",
   "metadata": {},
   "outputs": [
    {
     "data": {
      "text/latex": [
       "$\\displaystyle - \\cot^{2}{\\left(x \\right)} - 1$"
      ],
      "text/plain": [
       "-cot(x)**2 - 1"
      ]
     },
     "execution_count": 22,
     "metadata": {},
     "output_type": "execute_result"
    }
   ],
   "source": [
    "derivative"
   ]
  },
  {
   "cell_type": "markdown",
   "id": "d1c9c9e3",
   "metadata": {},
   "source": [
    "y = sec(x)"
   ]
  },
  {
   "cell_type": "code",
   "execution_count": 23,
   "id": "04fae1c4",
   "metadata": {},
   "outputs": [
    {
     "data": {
      "text/latex": [
       "$\\displaystyle \\sec{\\left(x \\right)}$"
      ],
      "text/plain": [
       "sec(x)"
      ]
     },
     "execution_count": 23,
     "metadata": {},
     "output_type": "execute_result"
    }
   ],
   "source": [
    "import sympy\n",
    "from sympy import symbols\n",
    "\n",
    "x, y = symbols('x y')\n",
    "\n",
    "eq = sympy.sec(x)\n",
    "derivative = sympy.diff(eq, x)\n",
    "eq"
   ]
  },
  {
   "cell_type": "code",
   "execution_count": 24,
   "id": "21378106",
   "metadata": {},
   "outputs": [
    {
     "data": {
      "text/latex": [
       "$\\displaystyle \\tan{\\left(x \\right)} \\sec{\\left(x \\right)}$"
      ],
      "text/plain": [
       "tan(x)*sec(x)"
      ]
     },
     "execution_count": 24,
     "metadata": {},
     "output_type": "execute_result"
    }
   ],
   "source": [
    "derivative"
   ]
  },
  {
   "cell_type": "markdown",
   "id": "1aaa599d",
   "metadata": {},
   "source": [
    "y = csc(x)"
   ]
  },
  {
   "cell_type": "code",
   "execution_count": 25,
   "id": "ed21524f",
   "metadata": {},
   "outputs": [
    {
     "data": {
      "text/latex": [
       "$\\displaystyle \\csc{\\left(x \\right)}$"
      ],
      "text/plain": [
       "csc(x)"
      ]
     },
     "execution_count": 25,
     "metadata": {},
     "output_type": "execute_result"
    }
   ],
   "source": [
    "import sympy\n",
    "from sympy import symbols\n",
    "\n",
    "x, y = symbols('x y')\n",
    "\n",
    "eq = sympy.csc(x)\n",
    "derivative = sympy.diff(eq, x)\n",
    "eq"
   ]
  },
  {
   "cell_type": "code",
   "execution_count": 26,
   "id": "d96cd3e7",
   "metadata": {},
   "outputs": [
    {
     "data": {
      "text/latex": [
       "$\\displaystyle - \\cot{\\left(x \\right)} \\csc{\\left(x \\right)}$"
      ],
      "text/plain": [
       "-cot(x)*csc(x)"
      ]
     },
     "execution_count": 26,
     "metadata": {},
     "output_type": "execute_result"
    }
   ],
   "source": [
    "derivative"
   ]
  },
  {
   "cell_type": "markdown",
   "id": "3dfa74cc",
   "metadata": {},
   "source": [
    "# Section 5 : Inverse trig functions"
   ]
  },
  {
   "cell_type": "code",
   "execution_count": 27,
   "id": "e6c7b17c",
   "metadata": {},
   "outputs": [
    {
     "data": {
      "text/latex": [
       "$\\displaystyle \\operatorname{asin}{\\left(x \\right)}$"
      ],
      "text/plain": [
       "asin(x)"
      ]
     },
     "execution_count": 27,
     "metadata": {},
     "output_type": "execute_result"
    }
   ],
   "source": [
    "import sympy\n",
    "from sympy import symbols\n",
    "\n",
    "x, y = symbols('x y')\n",
    "\n",
    "# un-comment the function you want\n",
    "eq = sympy.asin(x)\n",
    "#eq = sympy.acos(x)\n",
    "#eq = sympy.atan(x)\n",
    "#eq = sympy.acot(x)\n",
    "#eq = sympy.asec(x)\n",
    "#eq = sympy.acsc(x)\n",
    "derivative = sympy.diff(eq, x)\n",
    "eq"
   ]
  },
  {
   "cell_type": "code",
   "execution_count": 28,
   "id": "fae541dd",
   "metadata": {},
   "outputs": [
    {
     "data": {
      "text/latex": [
       "$\\displaystyle \\frac{1}{\\sqrt{1 - x^{2}}}$"
      ],
      "text/plain": [
       "1/sqrt(1 - x**2)"
      ]
     },
     "execution_count": 28,
     "metadata": {},
     "output_type": "execute_result"
    }
   ],
   "source": [
    "derivative"
   ]
  },
  {
   "cell_type": "markdown",
   "id": "bc585446",
   "metadata": {},
   "source": [
    "# Section 6 : Hyperbolic Trig Functions"
   ]
  },
  {
   "cell_type": "code",
   "execution_count": 29,
   "id": "d3aa920a",
   "metadata": {},
   "outputs": [
    {
     "data": {
      "text/latex": [
       "$\\displaystyle \\sinh{\\left(x \\right)}$"
      ],
      "text/plain": [
       "sinh(x)"
      ]
     },
     "execution_count": 29,
     "metadata": {},
     "output_type": "execute_result"
    }
   ],
   "source": [
    "import sympy\n",
    "from sympy import symbols\n",
    "\n",
    "x, y = symbols('x y')\n",
    "\n",
    "# un-comment the function you want\n",
    "eq = sympy.sinh(x)\n",
    "#eq = sympy.cosh(x)\n",
    "#eq = sympy.tanh(x)\n",
    "#eq = sympy.coth(x)\n",
    "#eq = sympy.sech(x)\n",
    "#eq = sympy.csch(x)\n",
    "derivative = sympy.diff(eq, x)\n",
    "eq"
   ]
  },
  {
   "cell_type": "code",
   "execution_count": 30,
   "id": "dbde6e7f",
   "metadata": {},
   "outputs": [
    {
     "data": {
      "text/latex": [
       "$\\displaystyle \\cosh{\\left(x \\right)}$"
      ],
      "text/plain": [
       "cosh(x)"
      ]
     },
     "execution_count": 30,
     "metadata": {},
     "output_type": "execute_result"
    }
   ],
   "source": [
    "derivative"
   ]
  },
  {
   "cell_type": "markdown",
   "id": "ed0cce76",
   "metadata": {},
   "source": [
    "# Section 7 : Inverse Hyperbolic Trig Functions"
   ]
  },
  {
   "cell_type": "code",
   "execution_count": 31,
   "id": "d9f981f1",
   "metadata": {},
   "outputs": [
    {
     "data": {
      "text/latex": [
       "$\\displaystyle \\operatorname{asinh}{\\left(x \\right)}$"
      ],
      "text/plain": [
       "asinh(x)"
      ]
     },
     "execution_count": 31,
     "metadata": {},
     "output_type": "execute_result"
    }
   ],
   "source": [
    "import sympy\n",
    "from sympy import symbols\n",
    "\n",
    "x, y = symbols('x y')\n",
    "\n",
    "# un-comment the function you want\n",
    "eq = sympy.asinh(x)\n",
    "#eq = sympy.acosh(x)\n",
    "#eq = sympy.atanh(x)\n",
    "#eq = sympy.acoth(x)\n",
    "#eq = sympy.asech(x)\n",
    "#eq = sympy.acsch(x)\n",
    "derivative = sympy.diff(eq, x)\n",
    "eq"
   ]
  },
  {
   "cell_type": "code",
   "execution_count": 32,
   "id": "d09b412e",
   "metadata": {},
   "outputs": [
    {
     "data": {
      "text/latex": [
       "$\\displaystyle \\frac{1}{\\sqrt{x^{2} + 1}}$"
      ],
      "text/plain": [
       "1/sqrt(x**2 + 1)"
      ]
     },
     "execution_count": 32,
     "metadata": {},
     "output_type": "execute_result"
    }
   ],
   "source": [
    "derivative"
   ]
  }
 ],
 "metadata": {
  "kernelspec": {
   "display_name": "Python 3",
   "language": "python",
   "name": "python3"
  },
  "language_info": {
   "codemirror_mode": {
    "name": "ipython",
    "version": 3
   },
   "file_extension": ".py",
   "mimetype": "text/x-python",
   "name": "python",
   "nbconvert_exporter": "python",
   "pygments_lexer": "ipython3",
   "version": "3.12.10"
  }
 },
 "nbformat": 4,
 "nbformat_minor": 5
}
