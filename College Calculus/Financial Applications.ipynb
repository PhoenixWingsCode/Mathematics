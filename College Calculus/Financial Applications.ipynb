{
 "cells": [
  {
   "cell_type": "markdown",
   "id": "afbdce22",
   "metadata": {},
   "source": [
    "# Section 1 : Maximum Revenue"
   ]
  },
  {
   "cell_type": "code",
   "execution_count": 1,
   "id": "9bc4e901",
   "metadata": {},
   "outputs": [
    {
     "name": "stdout",
     "output_type": "stream",
     "text": [
      "Y =  -4.0 x +  504.0\n"
     ]
    }
   ],
   "source": [
    "# two data points\n",
    "xPrice1 = 6\n",
    "yDemand1 = 480\n",
    "xPrice2 = 7\n",
    "yDemand2 = 476\n",
    "\n",
    "# slope and linear equation\n",
    "slope = (yDemand2 - yDemand1)/(xPrice2 - xPrice1)\n",
    "yIntercept = yDemand1 - slope * xPrice1\n",
    "print(\"Y = \", slope, \"x + \", yIntercept)"
   ]
  },
  {
   "cell_type": "code",
   "execution_count": 2,
   "id": "469a20c7",
   "metadata": {},
   "outputs": [
    {
     "data": {
      "text/latex": [
       "$\\displaystyle x \\left(504.0 - 4.0 x\\right)$"
      ],
      "text/plain": [
       "x*(504.0 - 4.0*x)"
      ]
     },
     "execution_count": 2,
     "metadata": {},
     "output_type": "execute_result"
    }
   ],
   "source": [
    "import sympy\n",
    "from sympy import symbols\n",
    "\n",
    "x, y = symbols('x y')\n",
    "\n",
    "# estimated demand equation\n",
    "demand = slope * x + yIntercept\n",
    "\n",
    "# revenue equation\n",
    "revenue = x * demand\n",
    "revenue"
   ]
  },
  {
   "cell_type": "code",
   "execution_count": 3,
   "id": "6064b157",
   "metadata": {},
   "outputs": [
    {
     "name": "stdout",
     "output_type": "stream",
     "text": [
      "Maximum revenue is  15876.0000000000\n",
      "When price =  63.0000000000000\n"
     ]
    }
   ],
   "source": [
    "# maximum revenue\n",
    "maxRevenue = sympy.diff(revenue, x)\n",
    "maxX = sympy.solve(maxRevenue)\n",
    "maxY = revenue.subs(x, maxX[0])\n",
    "print(\"Maximum revenue is \", maxY)\n",
    "print(\"When price = \", maxX[0])"
   ]
  },
  {
   "cell_type": "code",
   "execution_count": 5,
   "id": "b7045b82",
   "metadata": {},
   "outputs": [
    {
     "name": "stdout",
     "output_type": "stream",
     "text": [
      "Revenue 1 =  2880\n",
      "Revenue 2 =  3332\n",
      "Revenue 3 =  15876.0000000000\n",
      "252.000000000000\n"
     ]
    },
    {
     "data": {
      "text/plain": [
       "[126.000000000000]"
      ]
     },
     "execution_count": 5,
     "metadata": {},
     "output_type": "execute_result"
    }
   ],
   "source": [
    "#check\n",
    "print(\"Revenue 1 = \", xPrice1 * yDemand1)\n",
    "print(\"Revenue 2 = \", xPrice2 * yDemand2)\n",
    "print(\"Revenue 3 = \", maxX[0] * demand.subs(x, maxX[0]))\n",
    "print(demand.subs(x, maxX[0]))\n",
    "zero = sympy.solve(demand)\n",
    "zero"
   ]
  }
 ],
 "metadata": {
  "kernelspec": {
   "display_name": "Python 3",
   "language": "python",
   "name": "python3"
  },
  "language_info": {
   "codemirror_mode": {
    "name": "ipython",
    "version": 3
   },
   "file_extension": ".py",
   "mimetype": "text/x-python",
   "name": "python",
   "nbconvert_exporter": "python",
   "pygments_lexer": "ipython3",
   "version": "3.12.10"
  }
 },
 "nbformat": 4,
 "nbformat_minor": 5
}
