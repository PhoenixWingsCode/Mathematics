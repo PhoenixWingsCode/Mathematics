{
 "cells": [
  {
   "cell_type": "code",
   "execution_count": 2,
   "id": "cb86dd88",
   "metadata": {},
   "outputs": [
    {
     "name": "stdout",
     "output_type": "stream",
     "text": [
      "Arc length =  3*pi/2\n",
      "Arc length =  4.71238898038469\n"
     ]
    },
    {
     "data": {
      "text/latex": [
       "$\\displaystyle \\frac{3 \\pi}{2}$"
      ],
      "text/plain": [
       "3*pi/2"
      ]
     },
     "execution_count": 2,
     "metadata": {},
     "output_type": "execute_result"
    }
   ],
   "source": [
    "import sympy\n",
    "from sympy import symbols, Eq\n",
    "\n",
    "x, y, c = symbols('x y c')\n",
    "\n",
    "# x value range\n",
    "lower = 0\n",
    "upper = 3\n",
    "\n",
    "eq1 = sympy.sqrt(9-x**2)\n",
    "derivative = sympy.diff(eq1)\n",
    "eq2 = sympy.sqrt(derivative**2 + 1)\n",
    "arcLength = sympy.integrate(eq2, (x, lower, upper))\n",
    "print(\"Arc length = \", arcLength)\n",
    "print(\"Arc length = \", sympy.N(arcLength))\n",
    "arcLength"
   ]
  },
  {
   "cell_type": "code",
   "execution_count": 4,
   "id": "f0faf38f",
   "metadata": {},
   "outputs": [
    {
     "name": "stdout",
     "output_type": "stream",
     "text": [
      "Arc length =  asinh(6)/2 + 3*sqrt(37)\n",
      "Arc length =  19.4941775172171\n"
     ]
    },
    {
     "data": {
      "text/latex": [
       "$\\displaystyle \\frac{\\operatorname{asinh}{\\left(6 \\right)}}{2} + 3 \\sqrt{37}$"
      ],
      "text/plain": [
       "asinh(6)/2 + 3*sqrt(37)"
      ]
     },
     "execution_count": 4,
     "metadata": {},
     "output_type": "execute_result"
    }
   ],
   "source": [
    "import sympy\n",
    "from sympy import symbols, Eq\n",
    "\n",
    "x, y, c = symbols('x y c')\n",
    "\n",
    "# x value range\n",
    "lower = -3\n",
    "upper = 3\n",
    "\n",
    "eq1 = x**2\n",
    "derivative = sympy.diff(eq1)\n",
    "eq2 = sympy.sqrt(derivative**2 + 1)\n",
    "arcLength = sympy.integrate(eq2, (x, lower, upper))\n",
    "print(\"Arc length = \", arcLength)\n",
    "print(\"Arc length = \", sympy.N(arcLength))\n",
    "arcLength"
   ]
  }
 ],
 "metadata": {
  "kernelspec": {
   "display_name": "Python 3",
   "language": "python",
   "name": "python3"
  },
  "language_info": {
   "codemirror_mode": {
    "name": "ipython",
    "version": 3
   },
   "file_extension": ".py",
   "mimetype": "text/x-python",
   "name": "python",
   "nbconvert_exporter": "python",
   "pygments_lexer": "ipython3",
   "version": "3.12.10"
  }
 },
 "nbformat": 4,
 "nbformat_minor": 5
}
