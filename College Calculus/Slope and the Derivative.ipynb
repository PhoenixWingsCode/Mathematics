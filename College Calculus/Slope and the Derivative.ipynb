{
 "cells": [
  {
   "cell_type": "markdown",
   "id": "49843c3e",
   "metadata": {},
   "source": [
    "# Section 1 : Derivatives"
   ]
  },
  {
   "cell_type": "code",
   "execution_count": null,
   "id": "495739d7",
   "metadata": {},
   "outputs": [
    {
     "name": "stdout",
     "output_type": "stream",
     "text": [
      "Derivative : \n"
     ]
    },
    {
     "data": {
      "text/latex": [
       "$\\displaystyle 3 x^{2}$"
      ],
      "text/plain": [
       "3*x**2"
      ]
     },
     "execution_count": 3,
     "metadata": {},
     "output_type": "execute_result"
    }
   ],
   "source": [
    "import sympy\n",
    "from sympy import symbols\n",
    "\n",
    "x, y = symbols('x y')\n",
    "\n",
    "# Put the equation here:\n",
    "expression = x**3\n",
    "derivative = sympy.diff(expression, x) # difference a way to calculate derivative\n",
    "print(\"Derivative : \")\n",
    "derivative # without this variable derivative won't be printed"
   ]
  },
  {
   "cell_type": "markdown",
   "id": "e5f85521",
   "metadata": {},
   "source": [
    "# Section 2 : Derivative at a Point"
   ]
  },
  {
   "cell_type": "code",
   "execution_count": 4,
   "id": "b65afec0",
   "metadata": {},
   "outputs": [
    {
     "name": "stdout",
     "output_type": "stream",
     "text": [
      "Slope at x =  2  is  12\n"
     ]
    }
   ],
   "source": [
    "# Separating this keeps the nice sympy output\n",
    "\n",
    "xValue = 2\n",
    "answer = derivative.subs(x, xValue)\n",
    "print(\"Slope at x = \", xValue, \" is \", answer)"
   ]
  }
 ],
 "metadata": {
  "kernelspec": {
   "display_name": "Python 3",
   "language": "python",
   "name": "python3"
  },
  "language_info": {
   "codemirror_mode": {
    "name": "ipython",
    "version": 3
   },
   "file_extension": ".py",
   "mimetype": "text/x-python",
   "name": "python",
   "nbconvert_exporter": "python",
   "pygments_lexer": "ipython3",
   "version": "3.12.10"
  }
 },
 "nbformat": 4,
 "nbformat_minor": 5
}
