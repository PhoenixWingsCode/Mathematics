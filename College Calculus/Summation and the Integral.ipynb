{
 "cells": [
  {
   "cell_type": "markdown",
   "id": "3a068ffe",
   "metadata": {},
   "source": [
    "# Section 1 : Integral Equation"
   ]
  },
  {
   "cell_type": "code",
   "execution_count": 1,
   "id": "24dd3c24",
   "metadata": {},
   "outputs": [
    {
     "data": {
      "text/latex": [
       "$\\displaystyle \\frac{x^{3}}{3}$"
      ],
      "text/plain": [
       "x**3/3"
      ]
     },
     "execution_count": 1,
     "metadata": {},
     "output_type": "execute_result"
    }
   ],
   "source": [
    "import sympy\n",
    "from sympy import symbols\n",
    "\n",
    "x, y, c = symbols('x y c')\n",
    "\n",
    "eq = x**2\n",
    "integral = sympy.integrate(eq)\n",
    "integral"
   ]
  },
  {
   "cell_type": "markdown",
   "id": "ac88d63b",
   "metadata": {},
   "source": [
    "# Section 2 : Definite Integral"
   ]
  },
  {
   "cell_type": "code",
   "execution_count": 2,
   "id": "81645434",
   "metadata": {},
   "outputs": [
    {
     "data": {
      "text/latex": [
       "$\\displaystyle 9$"
      ],
      "text/plain": [
       "9"
      ]
     },
     "execution_count": 2,
     "metadata": {},
     "output_type": "execute_result"
    }
   ],
   "source": [
    "lower = 0\n",
    "upper = 3\n",
    "integralDefinite = sympy.integrate(eq, (x, lower, upper))\n",
    "integralDefinite"
   ]
  },
  {
   "cell_type": "markdown",
   "id": "7208ede0",
   "metadata": {},
   "source": [
    "# Section 3 : For sine"
   ]
  },
  {
   "cell_type": "code",
   "execution_count": 3,
   "id": "26c2099b",
   "metadata": {},
   "outputs": [
    {
     "data": {
      "text/latex": [
       "$\\displaystyle - \\cos{\\left(x \\right)}$"
      ],
      "text/plain": [
       "-cos(x)"
      ]
     },
     "execution_count": 3,
     "metadata": {},
     "output_type": "execute_result"
    }
   ],
   "source": [
    "import sympy\n",
    "from sympy import symbols\n",
    "\n",
    "x, y, c = symbols('x y c')\n",
    "\n",
    "eq = sympy.sin(x)\n",
    "integral = sympy.integrate(eq)\n",
    "integral"
   ]
  },
  {
   "cell_type": "code",
   "execution_count": 4,
   "id": "77adab3f",
   "metadata": {},
   "outputs": [
    {
     "data": {
      "text/latex": [
       "$\\displaystyle 1 - \\cos{\\left(3 \\right)}$"
      ],
      "text/plain": [
       "1 - cos(3)"
      ]
     },
     "execution_count": 4,
     "metadata": {},
     "output_type": "execute_result"
    }
   ],
   "source": [
    "lower = 0\n",
    "upper = 3\n",
    "integralDefinite = sympy.integrate(eq, (x, lower, upper))\n",
    "integralDefinite"
   ]
  },
  {
   "cell_type": "markdown",
   "id": "26dd135b",
   "metadata": {},
   "source": [
    "# Section 4 : For log"
   ]
  },
  {
   "cell_type": "code",
   "execution_count": 5,
   "id": "4c2c2603",
   "metadata": {},
   "outputs": [
    {
     "data": {
      "text/latex": [
       "$\\displaystyle x \\log{\\left(x \\right)} - x$"
      ],
      "text/plain": [
       "x*log(x) - x"
      ]
     },
     "execution_count": 5,
     "metadata": {},
     "output_type": "execute_result"
    }
   ],
   "source": [
    "import sympy\n",
    "from sympy import symbols\n",
    "\n",
    "x, y, c = symbols('x y c')\n",
    "\n",
    "eq = sympy.log(x)\n",
    "integral = sympy.integrate(eq)\n",
    "integral"
   ]
  },
  {
   "cell_type": "code",
   "execution_count": 6,
   "id": "fed99ecd",
   "metadata": {},
   "outputs": [
    {
     "data": {
      "text/latex": [
       "$\\displaystyle -3 + 3 \\log{\\left(3 \\right)}$"
      ],
      "text/plain": [
       "-3 + 3*log(3)"
      ]
     },
     "execution_count": 6,
     "metadata": {},
     "output_type": "execute_result"
    }
   ],
   "source": [
    "lower = 0\n",
    "upper = 3\n",
    "integralDefinite = sympy.integrate(eq, (x, lower, upper))\n",
    "integralDefinite"
   ]
  }
 ],
 "metadata": {
  "kernelspec": {
   "display_name": "Python 3",
   "language": "python",
   "name": "python3"
  },
  "language_info": {
   "codemirror_mode": {
    "name": "ipython",
    "version": 3
   },
   "file_extension": ".py",
   "mimetype": "text/x-python",
   "name": "python",
   "nbconvert_exporter": "python",
   "pygments_lexer": "ipython3",
   "version": "3.12.10"
  }
 },
 "nbformat": 4,
 "nbformat_minor": 5
}
