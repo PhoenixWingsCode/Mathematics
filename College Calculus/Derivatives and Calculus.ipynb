{
 "cells": [
  {
   "cell_type": "markdown",
   "id": "f2d87f4d",
   "metadata": {},
   "source": [
    "# Section 1 : Power Rule"
   ]
  },
  {
   "cell_type": "code",
   "execution_count": 5,
   "id": "d1a3a40d",
   "metadata": {},
   "outputs": [
    {
     "name": "stdout",
     "output_type": "stream",
     "text": [
      "Equation =  x**3\n",
      "derivative = \n"
     ]
    },
    {
     "data": {
      "text/latex": [
       "$\\displaystyle 3 x^{2}$"
      ],
      "text/plain": [
       "3*x**2"
      ]
     },
     "execution_count": 5,
     "metadata": {},
     "output_type": "execute_result"
    }
   ],
   "source": [
    "import sympy\n",
    "from sympy import symbols\n",
    "\n",
    "x, y = symbols('x y')\n",
    "\n",
    "eq = x**3\n",
    "derivative = sympy.diff(eq, x)\n",
    "print(\"Equation = \", eq)\n",
    "\n",
    "print(\"derivative = \")\n",
    "\n",
    "derivative"
   ]
  },
  {
   "cell_type": "code",
   "execution_count": 10,
   "id": "a1bce49d",
   "metadata": {},
   "outputs": [
    {
     "name": "stdout",
     "output_type": "stream",
     "text": [
      "Equation =  x**3\n",
      "Slope =  27\n"
     ]
    }
   ],
   "source": [
    "import sympy\n",
    "from sympy import symbols\n",
    "\n",
    "x, y = symbols('x y')\n",
    "\n",
    "eq = x**3\n",
    "derivative = sympy.diff(eq, x)\n",
    "print(\"Equation = \", eq)\n",
    "\n",
    "xValue = 3\n",
    "slope = derivative.subs(x, xValue)\n",
    "print(\"Slope = \", slope)"
   ]
  }
 ],
 "metadata": {
  "kernelspec": {
   "display_name": "Python 3",
   "language": "python",
   "name": "python3"
  },
  "language_info": {
   "codemirror_mode": {
    "name": "ipython",
    "version": 3
   },
   "file_extension": ".py",
   "mimetype": "text/x-python",
   "name": "python",
   "nbconvert_exporter": "python",
   "pygments_lexer": "ipython3",
   "version": "3.12.10"
  }
 },
 "nbformat": 4,
 "nbformat_minor": 5
}
