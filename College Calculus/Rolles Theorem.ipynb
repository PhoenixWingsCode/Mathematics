{
 "cells": [
  {
   "cell_type": "code",
   "execution_count": 1,
   "id": "b6872e14",
   "metadata": {},
   "outputs": [
    {
     "name": "stdout",
     "output_type": "stream",
     "text": [
      "y1 =  16\n",
      "y2 =  16\n",
      "at x =  0\n",
      "0  =  0\n"
     ]
    }
   ],
   "source": [
    "import sympy\n",
    "from sympy import symbols, Eq\n",
    "\n",
    "x, y = symbols('x y')\n",
    "\n",
    "# original function\n",
    "eq = x**2\n",
    "\n",
    "x1 = 4\n",
    "y1 = eq.subs(x, x1)\n",
    "x2 = -4\n",
    "y2 = eq.subs(x, x2)\n",
    "\n",
    "# for rolle's theorem\n",
    "print(\"y1 = \", y1)\n",
    "print(\"y2 = \", y2)\n",
    "\n",
    "# slope \n",
    "slope = (y2 - y1)/(x2 - x1)\n",
    "\n",
    "# derivative\n",
    "derivative = sympy.diff(eq)\n",
    "\n",
    "# compare slopes\n",
    "test = sympy.solve(Eq(derivative, slope))\n",
    "testSlope = derivative.subs(x, test[0])\n",
    "print(\"at x = \", test[0])\n",
    "print(slope, \" = \", testSlope)"
   ]
  },
  {
   "cell_type": "code",
   "execution_count": 3,
   "id": "b13f281f",
   "metadata": {},
   "outputs": [
    {
     "name": "stdout",
     "output_type": "stream",
     "text": [
      "y1 =  49\n",
      "y2 =  49\n",
      "at x =  3\n",
      "0  =  0\n"
     ]
    }
   ],
   "source": [
    "import sympy\n",
    "from sympy import symbols, Eq\n",
    "\n",
    "x, y = symbols('x y')\n",
    "\n",
    "# original function\n",
    "eq = (x-3)**2\n",
    "\n",
    "x1 = 10\n",
    "y1 = eq.subs(x, x1)\n",
    "x2 = -4\n",
    "y2 = eq.subs(x, x2)\n",
    "\n",
    "# for rolle's theorem\n",
    "print(\"y1 = \", y1)\n",
    "print(\"y2 = \", y2)\n",
    "\n",
    "# slope \n",
    "slope = (y2 - y1)/(x2 - x1)\n",
    "\n",
    "# derivative\n",
    "derivative = sympy.diff(eq)\n",
    "\n",
    "# compare slopes\n",
    "test = sympy.solve(Eq(derivative, slope))\n",
    "testSlope = derivative.subs(x, test[0])\n",
    "print(\"at x = \", test[0])\n",
    "print(slope, \" = \", testSlope)"
   ]
  }
 ],
 "metadata": {
  "kernelspec": {
   "display_name": "Python 3",
   "language": "python",
   "name": "python3"
  },
  "language_info": {
   "codemirror_mode": {
    "name": "ipython",
    "version": 3
   },
   "file_extension": ".py",
   "mimetype": "text/x-python",
   "name": "python",
   "nbconvert_exporter": "python",
   "pygments_lexer": "ipython3",
   "version": "3.12.10"
  }
 },
 "nbformat": 4,
 "nbformat_minor": 5
}
