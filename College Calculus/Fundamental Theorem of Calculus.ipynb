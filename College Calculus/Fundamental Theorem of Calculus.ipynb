{
 "cells": [
  {
   "cell_type": "markdown",
   "id": "6978059a",
   "metadata": {},
   "source": [
    "# Section 1 : "
   ]
  },
  {
   "cell_type": "code",
   "execution_count": 1,
   "id": "22643892",
   "metadata": {},
   "outputs": [
    {
     "data": {
      "text/latex": [
       "$\\displaystyle x^{2}$"
      ],
      "text/plain": [
       "x**2"
      ]
     },
     "execution_count": 1,
     "metadata": {},
     "output_type": "execute_result"
    }
   ],
   "source": [
    "import sympy\n",
    "from sympy import symbols\n",
    "\n",
    "x, y, c = symbols('x y c')\n",
    "\n",
    "eq = x**2\n",
    "eq"
   ]
  },
  {
   "cell_type": "code",
   "execution_count": 2,
   "id": "8583683d",
   "metadata": {},
   "outputs": [
    {
     "data": {
      "text/latex": [
       "$\\displaystyle c + \\frac{x^{3}}{3}$"
      ],
      "text/plain": [
       "c + x**3/3"
      ]
     },
     "execution_count": 2,
     "metadata": {},
     "output_type": "execute_result"
    }
   ],
   "source": [
    "integral = sympy.integrate(eq) + c\n",
    "integral"
   ]
  },
  {
   "cell_type": "code",
   "execution_count": 3,
   "id": "27c315c9",
   "metadata": {},
   "outputs": [
    {
     "data": {
      "text/latex": [
       "$\\displaystyle x^{2}$"
      ],
      "text/plain": [
       "x**2"
      ]
     },
     "execution_count": 3,
     "metadata": {},
     "output_type": "execute_result"
    }
   ],
   "source": [
    "integralX = integral.subs(c, 100) # any c value will do\n",
    "derivative = sympy.diff(integralX)\n",
    "derivative"
   ]
  },
  {
   "cell_type": "code",
   "execution_count": 4,
   "id": "c35dfda2",
   "metadata": {},
   "outputs": [
    {
     "data": {
      "text/latex": [
       "$\\displaystyle c + \\frac{x^{3}}{3}$"
      ],
      "text/plain": [
       "c + x**3/3"
      ]
     },
     "execution_count": 4,
     "metadata": {},
     "output_type": "execute_result"
    }
   ],
   "source": [
    "integral2 = sympy.integrate(derivative) + c\n",
    "integral2"
   ]
  },
  {
   "cell_type": "markdown",
   "id": "54647f45",
   "metadata": {},
   "source": [
    "# Section 2 : "
   ]
  },
  {
   "cell_type": "code",
   "execution_count": 5,
   "id": "88bbd2a8",
   "metadata": {},
   "outputs": [
    {
     "data": {
      "text/latex": [
       "$\\displaystyle \\sin{\\left(x \\right)}$"
      ],
      "text/plain": [
       "sin(x)"
      ]
     },
     "execution_count": 5,
     "metadata": {},
     "output_type": "execute_result"
    }
   ],
   "source": [
    "import sympy\n",
    "from sympy import symbols\n",
    "\n",
    "x, y, c = symbols('x y c')\n",
    "\n",
    "eq = sympy.sin(x)\n",
    "eq"
   ]
  },
  {
   "cell_type": "code",
   "execution_count": 6,
   "id": "ddf8d3b2",
   "metadata": {},
   "outputs": [
    {
     "data": {
      "text/latex": [
       "$\\displaystyle c - \\cos{\\left(x \\right)}$"
      ],
      "text/plain": [
       "c - cos(x)"
      ]
     },
     "execution_count": 6,
     "metadata": {},
     "output_type": "execute_result"
    }
   ],
   "source": [
    "integral = sympy.integrate(eq) + c\n",
    "integral"
   ]
  },
  {
   "cell_type": "code",
   "execution_count": 7,
   "id": "9db48e0a",
   "metadata": {},
   "outputs": [
    {
     "data": {
      "text/latex": [
       "$\\displaystyle \\sin{\\left(x \\right)}$"
      ],
      "text/plain": [
       "sin(x)"
      ]
     },
     "execution_count": 7,
     "metadata": {},
     "output_type": "execute_result"
    }
   ],
   "source": [
    "integralX = integral.subs(c, 100) # any c value will do\n",
    "derivative = sympy.diff(integralX)\n",
    "derivative"
   ]
  },
  {
   "cell_type": "code",
   "execution_count": 8,
   "id": "61cc61f7",
   "metadata": {},
   "outputs": [
    {
     "data": {
      "text/latex": [
       "$\\displaystyle c - \\cos{\\left(x \\right)}$"
      ],
      "text/plain": [
       "c - cos(x)"
      ]
     },
     "execution_count": 8,
     "metadata": {},
     "output_type": "execute_result"
    }
   ],
   "source": [
    "integral2 = sympy.integrate(derivative) + c\n",
    "integral2"
   ]
  }
 ],
 "metadata": {
  "kernelspec": {
   "display_name": "Python 3",
   "language": "python",
   "name": "python3"
  },
  "language_info": {
   "codemirror_mode": {
    "name": "ipython",
    "version": 3
   },
   "file_extension": ".py",
   "mimetype": "text/x-python",
   "name": "python",
   "nbconvert_exporter": "python",
   "pygments_lexer": "ipython3",
   "version": "3.12.10"
  }
 },
 "nbformat": 4,
 "nbformat_minor": 5
}
